{
  "cells": [
    {
      "cell_type": "markdown",
      "id": "AwvlSdPjW-wE",
      "metadata": {
        "id": "AwvlSdPjW-wE"
      },
      "source": [
        "# Fine-tuning ESM-2 for Protein Subcellular Localization Classification"
      ]
    },
    {
      "cell_type": "markdown",
      "id": "W4zZncMnWqfp",
      "metadata": {
        "id": "W4zZncMnWqfp"
      },
      "source": [
        "---\n",
        "\n",
        "#### *Describe your input data to the transformer model - what are your tokens? Show a plot of how the protein sequence data is distributed in terms of sequence lengths.*"
      ]
    },
    {
      "cell_type": "markdown",
      "id": "bd8c9241",
      "metadata": {
        "id": "bd8c9241"
      },
      "source": [
        "## 1. Environment Setup and Configuration\n",
        "Setting up the environment with all required packages for ESM-2 fine-tuning.\n"
      ]
    },
    {
      "cell_type": "code",
      "execution_count": 1,
      "id": "1a81238c",
      "metadata": {
        "colab": {
          "base_uri": "https://localhost:8080/",
          "height": 769
        },
        "id": "1a81238c",
        "outputId": "4fa85acb-d92b-42b3-d61d-efd58dd79da5",
        "scrolled": true
      },
      "outputs": [
        {
          "output_type": "stream",
          "name": "stdout",
          "text": [
            "Requirement already satisfied: transformers in /usr/local/lib/python3.12/dist-packages (4.57.0)\n",
            "Requirement already satisfied: datasets in /usr/local/lib/python3.12/dist-packages (4.0.0)\n",
            "Requirement already satisfied: biopython in /usr/local/lib/python3.12/dist-packages (1.85)\n",
            "Requirement already satisfied: fair-esm in /usr/local/lib/python3.12/dist-packages (2.0.0)\n",
            "Requirement already satisfied: evaluate in /usr/local/lib/python3.12/dist-packages (0.4.6)\n",
            "Requirement already satisfied: filelock in /usr/local/lib/python3.12/dist-packages (from transformers) (3.20.0)\n",
            "Requirement already satisfied: huggingface-hub<1.0,>=0.34.0 in /usr/local/lib/python3.12/dist-packages (from transformers) (0.35.3)\n",
            "Requirement already satisfied: numpy>=1.17 in /usr/local/lib/python3.12/dist-packages (from transformers) (2.0.2)\n",
            "Requirement already satisfied: packaging>=20.0 in /usr/local/lib/python3.12/dist-packages (from transformers) (25.0)\n",
            "Requirement already satisfied: pyyaml>=5.1 in /usr/local/lib/python3.12/dist-packages (from transformers) (6.0.3)\n",
            "Requirement already satisfied: regex!=2019.12.17 in /usr/local/lib/python3.12/dist-packages (from transformers) (2024.11.6)\n",
            "Requirement already satisfied: requests in /usr/local/lib/python3.12/dist-packages (from transformers) (2.32.4)\n",
            "Requirement already satisfied: tokenizers<=0.23.0,>=0.22.0 in /usr/local/lib/python3.12/dist-packages (from transformers) (0.22.1)\n",
            "Requirement already satisfied: safetensors>=0.4.3 in /usr/local/lib/python3.12/dist-packages (from transformers) (0.6.2)\n",
            "Requirement already satisfied: tqdm>=4.27 in /usr/local/lib/python3.12/dist-packages (from transformers) (4.67.1)\n",
            "Requirement already satisfied: pyarrow>=15.0.0 in /usr/local/lib/python3.12/dist-packages (from datasets) (18.1.0)\n",
            "Requirement already satisfied: dill<0.3.9,>=0.3.0 in /usr/local/lib/python3.12/dist-packages (from datasets) (0.3.8)\n",
            "Requirement already satisfied: pandas in /usr/local/lib/python3.12/dist-packages (from datasets) (2.2.2)\n",
            "Requirement already satisfied: xxhash in /usr/local/lib/python3.12/dist-packages (from datasets) (3.6.0)\n",
            "Requirement already satisfied: multiprocess<0.70.17 in /usr/local/lib/python3.12/dist-packages (from datasets) (0.70.16)\n",
            "Requirement already satisfied: fsspec<=2025.3.0,>=2023.1.0 in /usr/local/lib/python3.12/dist-packages (from fsspec[http]<=2025.3.0,>=2023.1.0->datasets) (2025.3.0)\n",
            "Requirement already satisfied: aiohttp!=4.0.0a0,!=4.0.0a1 in /usr/local/lib/python3.12/dist-packages (from fsspec[http]<=2025.3.0,>=2023.1.0->datasets) (3.13.0)\n",
            "Requirement already satisfied: typing-extensions>=3.7.4.3 in /usr/local/lib/python3.12/dist-packages (from huggingface-hub<1.0,>=0.34.0->transformers) (4.15.0)\n",
            "Requirement already satisfied: hf-xet<2.0.0,>=1.1.3 in /usr/local/lib/python3.12/dist-packages (from huggingface-hub<1.0,>=0.34.0->transformers) (1.1.10)\n",
            "Requirement already satisfied: charset_normalizer<4,>=2 in /usr/local/lib/python3.12/dist-packages (from requests->transformers) (3.4.3)\n",
            "Requirement already satisfied: idna<4,>=2.5 in /usr/local/lib/python3.12/dist-packages (from requests->transformers) (3.10)\n",
            "Requirement already satisfied: urllib3<3,>=1.21.1 in /usr/local/lib/python3.12/dist-packages (from requests->transformers) (2.5.0)\n",
            "Requirement already satisfied: certifi>=2017.4.17 in /usr/local/lib/python3.12/dist-packages (from requests->transformers) (2025.10.5)\n",
            "Requirement already satisfied: python-dateutil>=2.8.2 in /usr/local/lib/python3.12/dist-packages (from pandas->datasets) (2.9.0.post0)\n",
            "Requirement already satisfied: pytz>=2020.1 in /usr/local/lib/python3.12/dist-packages (from pandas->datasets) (2025.2)\n",
            "Requirement already satisfied: tzdata>=2022.7 in /usr/local/lib/python3.12/dist-packages (from pandas->datasets) (2025.2)\n",
            "Requirement already satisfied: aiohappyeyeballs>=2.5.0 in /usr/local/lib/python3.12/dist-packages (from aiohttp!=4.0.0a0,!=4.0.0a1->fsspec[http]<=2025.3.0,>=2023.1.0->datasets) (2.6.1)\n",
            "Requirement already satisfied: aiosignal>=1.4.0 in /usr/local/lib/python3.12/dist-packages (from aiohttp!=4.0.0a0,!=4.0.0a1->fsspec[http]<=2025.3.0,>=2023.1.0->datasets) (1.4.0)\n",
            "Requirement already satisfied: attrs>=17.3.0 in /usr/local/lib/python3.12/dist-packages (from aiohttp!=4.0.0a0,!=4.0.0a1->fsspec[http]<=2025.3.0,>=2023.1.0->datasets) (25.4.0)\n",
            "Requirement already satisfied: frozenlist>=1.1.1 in /usr/local/lib/python3.12/dist-packages (from aiohttp!=4.0.0a0,!=4.0.0a1->fsspec[http]<=2025.3.0,>=2023.1.0->datasets) (1.8.0)\n",
            "Requirement already satisfied: multidict<7.0,>=4.5 in /usr/local/lib/python3.12/dist-packages (from aiohttp!=4.0.0a0,!=4.0.0a1->fsspec[http]<=2025.3.0,>=2023.1.0->datasets) (6.7.0)\n",
            "Requirement already satisfied: propcache>=0.2.0 in /usr/local/lib/python3.12/dist-packages (from aiohttp!=4.0.0a0,!=4.0.0a1->fsspec[http]<=2025.3.0,>=2023.1.0->datasets) (0.3.2)\n",
            "Requirement already satisfied: yarl<2.0,>=1.17.0 in /usr/local/lib/python3.12/dist-packages (from aiohttp!=4.0.0a0,!=4.0.0a1->fsspec[http]<=2025.3.0,>=2023.1.0->datasets) (1.22.0)\n",
            "Requirement already satisfied: six>=1.5 in /usr/local/lib/python3.12/dist-packages (from python-dateutil>=2.8.2->pandas->datasets) (1.17.0)\n"
          ]
        },
        {
          "output_type": "display_data",
          "data": {
            "text/plain": [
              "<IPython.core.display.HTML object>"
            ],
            "text/html": [
              "\n",
              "     <input type=\"file\" id=\"files-572c377f-2c36-49ec-8e13-63d002bdf9d5\" name=\"files[]\" multiple disabled\n",
              "        style=\"border:none\" />\n",
              "     <output id=\"result-572c377f-2c36-49ec-8e13-63d002bdf9d5\">\n",
              "      Upload widget is only available when the cell has been executed in the\n",
              "      current browser session. Please rerun this cell to enable.\n",
              "      </output>\n",
              "      <script>// Copyright 2017 Google LLC\n",
              "//\n",
              "// Licensed under the Apache License, Version 2.0 (the \"License\");\n",
              "// you may not use this file except in compliance with the License.\n",
              "// You may obtain a copy of the License at\n",
              "//\n",
              "//      http://www.apache.org/licenses/LICENSE-2.0\n",
              "//\n",
              "// Unless required by applicable law or agreed to in writing, software\n",
              "// distributed under the License is distributed on an \"AS IS\" BASIS,\n",
              "// WITHOUT WARRANTIES OR CONDITIONS OF ANY KIND, either express or implied.\n",
              "// See the License for the specific language governing permissions and\n",
              "// limitations under the License.\n",
              "\n",
              "/**\n",
              " * @fileoverview Helpers for google.colab Python module.\n",
              " */\n",
              "(function(scope) {\n",
              "function span(text, styleAttributes = {}) {\n",
              "  const element = document.createElement('span');\n",
              "  element.textContent = text;\n",
              "  for (const key of Object.keys(styleAttributes)) {\n",
              "    element.style[key] = styleAttributes[key];\n",
              "  }\n",
              "  return element;\n",
              "}\n",
              "\n",
              "// Max number of bytes which will be uploaded at a time.\n",
              "const MAX_PAYLOAD_SIZE = 100 * 1024;\n",
              "\n",
              "function _uploadFiles(inputId, outputId) {\n",
              "  const steps = uploadFilesStep(inputId, outputId);\n",
              "  const outputElement = document.getElementById(outputId);\n",
              "  // Cache steps on the outputElement to make it available for the next call\n",
              "  // to uploadFilesContinue from Python.\n",
              "  outputElement.steps = steps;\n",
              "\n",
              "  return _uploadFilesContinue(outputId);\n",
              "}\n",
              "\n",
              "// This is roughly an async generator (not supported in the browser yet),\n",
              "// where there are multiple asynchronous steps and the Python side is going\n",
              "// to poll for completion of each step.\n",
              "// This uses a Promise to block the python side on completion of each step,\n",
              "// then passes the result of the previous step as the input to the next step.\n",
              "function _uploadFilesContinue(outputId) {\n",
              "  const outputElement = document.getElementById(outputId);\n",
              "  const steps = outputElement.steps;\n",
              "\n",
              "  const next = steps.next(outputElement.lastPromiseValue);\n",
              "  return Promise.resolve(next.value.promise).then((value) => {\n",
              "    // Cache the last promise value to make it available to the next\n",
              "    // step of the generator.\n",
              "    outputElement.lastPromiseValue = value;\n",
              "    return next.value.response;\n",
              "  });\n",
              "}\n",
              "\n",
              "/**\n",
              " * Generator function which is called between each async step of the upload\n",
              " * process.\n",
              " * @param {string} inputId Element ID of the input file picker element.\n",
              " * @param {string} outputId Element ID of the output display.\n",
              " * @return {!Iterable<!Object>} Iterable of next steps.\n",
              " */\n",
              "function* uploadFilesStep(inputId, outputId) {\n",
              "  const inputElement = document.getElementById(inputId);\n",
              "  inputElement.disabled = false;\n",
              "\n",
              "  const outputElement = document.getElementById(outputId);\n",
              "  outputElement.innerHTML = '';\n",
              "\n",
              "  const pickedPromise = new Promise((resolve) => {\n",
              "    inputElement.addEventListener('change', (e) => {\n",
              "      resolve(e.target.files);\n",
              "    });\n",
              "  });\n",
              "\n",
              "  const cancel = document.createElement('button');\n",
              "  inputElement.parentElement.appendChild(cancel);\n",
              "  cancel.textContent = 'Cancel upload';\n",
              "  const cancelPromise = new Promise((resolve) => {\n",
              "    cancel.onclick = () => {\n",
              "      resolve(null);\n",
              "    };\n",
              "  });\n",
              "\n",
              "  // Wait for the user to pick the files.\n",
              "  const files = yield {\n",
              "    promise: Promise.race([pickedPromise, cancelPromise]),\n",
              "    response: {\n",
              "      action: 'starting',\n",
              "    }\n",
              "  };\n",
              "\n",
              "  cancel.remove();\n",
              "\n",
              "  // Disable the input element since further picks are not allowed.\n",
              "  inputElement.disabled = true;\n",
              "\n",
              "  if (!files) {\n",
              "    return {\n",
              "      response: {\n",
              "        action: 'complete',\n",
              "      }\n",
              "    };\n",
              "  }\n",
              "\n",
              "  for (const file of files) {\n",
              "    const li = document.createElement('li');\n",
              "    li.append(span(file.name, {fontWeight: 'bold'}));\n",
              "    li.append(span(\n",
              "        `(${file.type || 'n/a'}) - ${file.size} bytes, ` +\n",
              "        `last modified: ${\n",
              "            file.lastModifiedDate ? file.lastModifiedDate.toLocaleDateString() :\n",
              "                                    'n/a'} - `));\n",
              "    const percent = span('0% done');\n",
              "    li.appendChild(percent);\n",
              "\n",
              "    outputElement.appendChild(li);\n",
              "\n",
              "    const fileDataPromise = new Promise((resolve) => {\n",
              "      const reader = new FileReader();\n",
              "      reader.onload = (e) => {\n",
              "        resolve(e.target.result);\n",
              "      };\n",
              "      reader.readAsArrayBuffer(file);\n",
              "    });\n",
              "    // Wait for the data to be ready.\n",
              "    let fileData = yield {\n",
              "      promise: fileDataPromise,\n",
              "      response: {\n",
              "        action: 'continue',\n",
              "      }\n",
              "    };\n",
              "\n",
              "    // Use a chunked sending to avoid message size limits. See b/62115660.\n",
              "    let position = 0;\n",
              "    do {\n",
              "      const length = Math.min(fileData.byteLength - position, MAX_PAYLOAD_SIZE);\n",
              "      const chunk = new Uint8Array(fileData, position, length);\n",
              "      position += length;\n",
              "\n",
              "      const base64 = btoa(String.fromCharCode.apply(null, chunk));\n",
              "      yield {\n",
              "        response: {\n",
              "          action: 'append',\n",
              "          file: file.name,\n",
              "          data: base64,\n",
              "        },\n",
              "      };\n",
              "\n",
              "      let percentDone = fileData.byteLength === 0 ?\n",
              "          100 :\n",
              "          Math.round((position / fileData.byteLength) * 100);\n",
              "      percent.textContent = `${percentDone}% done`;\n",
              "\n",
              "    } while (position < fileData.byteLength);\n",
              "  }\n",
              "\n",
              "  // All done.\n",
              "  yield {\n",
              "    response: {\n",
              "      action: 'complete',\n",
              "    }\n",
              "  };\n",
              "}\n",
              "\n",
              "scope.google = scope.google || {};\n",
              "scope.google.colab = scope.google.colab || {};\n",
              "scope.google.colab._files = {\n",
              "  _uploadFiles,\n",
              "  _uploadFilesContinue,\n",
              "};\n",
              "})(self);\n",
              "</script> "
            ]
          },
          "metadata": {}
        },
        {
          "output_type": "stream",
          "name": "stdout",
          "text": [
            "Saving uniprot_protein_data_assigment.csv to uniprot_protein_data_assigment (1).csv\n"
          ]
        }
      ],
      "source": [
        "!pip install transformers datasets biopython fair-esm evaluate\n",
        "!pip install accelerate>=0.26.0\n",
        "from google.colab import files\n",
        "uploaded = files.upload()"
      ]
    },
    {
      "cell_type": "markdown",
      "id": "C7Hx0t7kCJxN",
      "metadata": {
        "id": "C7Hx0t7kCJxN"
      },
      "source": [
        "---\n",
        "## 2. Library Imports and Dependencies\n",
        "\n",
        "Importing all essential libraries for data processing, model training, and comprehensive visualization."
      ]
    },
    {
      "cell_type": "code",
      "execution_count": 2,
      "id": "6ff4ae4f",
      "metadata": {
        "id": "6ff4ae4f"
      },
      "outputs": [],
      "source": [
        "# Section 2: Library Imports and Dependencies\n",
        "\n",
        "# Core data processing and numerical libraries\n",
        "import os\n",
        "import pandas as pd\n",
        "import numpy as np\n",
        "import warnings\n",
        "warnings.filterwarnings('ignore')\n",
        "\n",
        "# Visualization libraries\n",
        "import matplotlib.pyplot as plt\n",
        "import seaborn as sns\n",
        "import plotly.express as px\n",
        "import plotly.graph_objects as go\n",
        "from collections import Counter\n",
        "import plotly.io as pio\n",
        "pio.renderers.default = \"png\"\n",
        "\n",
        "# Machine learning and evaluation libraries\n",
        "from sklearn.model_selection import train_test_split\n",
        "from sklearn.metrics import (\n",
        "    accuracy_score, classification_report, confusion_matrix, precision_recall_fscore_support\n",
        ")\n",
        "\n",
        "# Deep learning libraries\n",
        "import torch\n",
        "\n",
        "# Transformers for deep learning and ESM models\n",
        "from transformers import (\n",
        "    EsmTokenizer, EsmForSequenceClassification, TrainingArguments, Trainer, EsmConfig\n",
        ")\n",
        "\n",
        "# Datasets library for handling datasets\n",
        "from datasets import Dataset\n",
        "\n",
        "# ESM package from fair-esm\n",
        "import esm\n",
        "from esm import ESM2, Alphabet, BatchConverter\n",
        "\n",
        "# Evaluation metrics\n",
        "from evaluate import load\n",
        "\n",
        "# Additional imports\n",
        "from time import time\n",
        "\n",
        "# Set visualization styles for professional plots\n",
        "plt.style.use('default')\n",
        "plt.rcParams['figure.dpi'] = 100\n",
        "plt.rcParams['savefig.dpi'] = 300\n",
        "sns.set_palette(\"husl\")"
      ]
    },
    {
      "cell_type": "markdown",
      "id": "Y17C7k7nDQQ0",
      "metadata": {
        "id": "Y17C7k7nDQQ0"
      },
      "source": [
        "---\n",
        "## 3. Reproducibility and Model Configuration\n",
        "\n",
        "Setting up reproducible experiments and confirming the ESM-2 model configuration for optimal results."
      ]
    },
    {
      "cell_type": "code",
      "execution_count": 3,
      "id": "lz9TjGouDPnm",
      "metadata": {
        "id": "lz9TjGouDPnm"
      },
      "outputs": [],
      "source": [
        "# Set comprehensive random seeds for reproducibility\n",
        "RANDOM_SEED = 42\n",
        "np.random.seed(RANDOM_SEED)\n",
        "torch.manual_seed(RANDOM_SEED)\n",
        "if torch.cuda.is_available():\n",
        "    torch.cuda.manual_seed(RANDOM_SEED)\n",
        "    torch.cuda.manual_seed_all(RANDOM_SEED)\n",
        "    # Additional CUDA settings for reproducibility\n",
        "    torch.backends.cudnn.deterministic = True\n",
        "    torch.backends.cudnn.benchmark = False"
      ]
    },
    {
      "cell_type": "code",
      "execution_count": 4,
      "id": "Zkf9KbsbDnh5",
      "metadata": {
        "id": "Zkf9KbsbDnh5"
      },
      "outputs": [],
      "source": [
        "# Configure device and verify model specification\n",
        "device = torch.device('cuda' if torch.cuda.is_available() else 'cpu')"
      ]
    },
    {
      "cell_type": "code",
      "execution_count": 5,
      "id": "VCHyL5fIDpKh",
      "metadata": {
        "colab": {
          "base_uri": "https://localhost:8080/"
        },
        "id": "VCHyL5fIDpKh",
        "outputId": "1f87be32-73fb-4a9b-fda2-52658453412a"
      },
      "outputs": [
        {
          "output_type": "stream",
          "name": "stdout",
          "text": [
            " Target model: facebook/esm2_t6_8M_UR50D\n"
          ]
        }
      ],
      "source": [
        "# Verify the pre-specified ESM-2 model\n",
        "model_name = \"facebook/esm2_t6_8M_UR50D\"  # Already defined in the notebook\n",
        "print(f\" Target model: {model_name}\")"
      ]
    },
    {
      "cell_type": "markdown",
      "id": "ly2-yfR3DxcJ",
      "metadata": {
        "id": "ly2-yfR3DxcJ"
      },
      "source": [
        "---\n",
        "## 4. Data Loading and Exploration\n",
        "\n",
        "Loading the UniProt protein dataset and performing comprehensive initial data analysis.\n"
      ]
    },
    {
      "cell_type": "code",
      "execution_count": 6,
      "id": "lr5Nx5pvD4ch",
      "metadata": {
        "id": "lr5Nx5pvD4ch"
      },
      "outputs": [],
      "source": [
        "# Load Data\n",
        "df = pd.read_csv('uniprot_protein_data_assigment.csv', index_col=0)\n",
        "df = df.dropna() # Remove missing values"
      ]
    },
    {
      "cell_type": "code",
      "execution_count": 7,
      "id": "OtkM4QpRELUR",
      "metadata": {
        "colab": {
          "base_uri": "https://localhost:8080/"
        },
        "id": "OtkM4QpRELUR",
        "outputId": "ecb177a2-e938-49e5-9230-2c70c1755c1a"
      },
      "outputs": [
        {
          "output_type": "stream",
          "name": "stdout",
          "text": [
            "DATASET OVERVIEW:\n",
            "Dataset shape: 3,585 samples × 4 columns\n",
            "Column names: ['Entry', 'Sequence', 'Subcellular location [CC]', 'label']\n",
            "Memory usage: 2.29 MB\n",
            "\n",
            "First 3 rows:\n",
            "    Entry                                           Sequence  \\\n",
            "0                                                              \n",
            "0  A0JLT2  MENFTALFGAQADPPPPPTALGFGPGKPPPPPPPPAGGGPGTAPPP...   \n",
            "1  A0PJY2  MDSSCHNATTKMLATAPARGNMMSTSKPLAFSIERIMARTPEPKAL...   \n",
            "2  A0PK00  MSGQLERCEREWHELEGEFQELQETHRIYKQKLEELAALQTLCSSS...   \n",
            "\n",
            "                           Subcellular location [CC]  label  \n",
            "0                                                            \n",
            "0       SUBCELLULAR LOCATION: Nucleus {ECO:0000305}.      1  \n",
            "1  SUBCELLULAR LOCATION: Nucleus {ECO:0000269|Pub...      1  \n",
            "2  SUBCELLULAR LOCATION: Nucleus inner membrane {...      1  \n"
          ]
        }
      ],
      "source": [
        "# Display comprehensive dataset overview\n",
        "print(\"DATASET OVERVIEW:\")\n",
        "print(f\"Dataset shape: {df.shape[0]:,} samples × {df.shape[1]} columns\")\n",
        "print(f\"Column names: {list(df.columns)}\")\n",
        "print(f\"Memory usage: {df.memory_usage(deep=True).sum() / 1024**2:.2f} MB\")\n",
        "\n",
        "print(\"\\nFirst 3 rows:\")\n",
        "print(df.head(3))"
      ]
    },
    {
      "cell_type": "markdown",
      "id": "nhLndNnMSYdZ",
      "metadata": {
        "id": "nhLndNnMSYdZ"
      },
      "source": [
        "---\n",
        "## **5. Data Quality Assessment**\n",
        "\n",
        "Comprehensive evaluation of data integrity and quality for model training preparation."
      ]
    },
    {
      "cell_type": "markdown",
      "id": "7e6c2420",
      "metadata": {
        "id": "7e6c2420"
      },
      "source": [
        "### **5.1 Data Quality Evaluation**"
      ]
    },
    {
      "cell_type": "code",
      "execution_count": 8,
      "id": "YR9evstlSYE6",
      "metadata": {
        "colab": {
          "base_uri": "https://localhost:8080/"
        },
        "id": "YR9evstlSYE6",
        "outputId": "a383bf7c-cb0f-40d1-9670-0a56f4fc2c5a"
      },
      "outputs": [
        {
          "output_type": "stream",
          "name": "stdout",
          "text": [
            "DATA QUALITY ASSESSMENT:\n",
            "Missing Values Analysis:\n",
            "Entry                        0\n",
            "Sequence                     0\n",
            "Subcellular location [CC]    0\n",
            "label                        0\n",
            "dtype: int64\n",
            "Total missing values: 0\n",
            "\n",
            "Duplicate Analysis:\n",
            "Duplicate sequences: 10\n",
            "\n",
            "Data Types:\n",
            "Entry                        object\n",
            "Sequence                     object\n",
            "Subcellular location [CC]    object\n",
            "label                         int64\n",
            "dtype: object\n",
            "\n",
            " Data quality issues detected - review before training\n"
          ]
        }
      ],
      "source": [
        "# Thorough data quality assessment\n",
        "print(\"DATA QUALITY ASSESSMENT:\")\n",
        "\n",
        "print(\"Missing Values Analysis:\")\n",
        "missing_values = df.isnull().sum()\n",
        "print(missing_values)\n",
        "print(f\"Total missing values: {missing_values.sum()}\")\n",
        "\n",
        "print(f\"\\nDuplicate Analysis:\")\n",
        "duplicate_sequences = df.duplicated(subset=['Sequence']).sum()\n",
        "print(f\"Duplicate sequences: {duplicate_sequences:,}\")\n",
        "\n",
        "print(f\"\\nData Types:\")\n",
        "print(df.dtypes)\n",
        "\n",
        "if missing_values.sum() == 0 and duplicate_sequences == 0:\n",
        "    print(\"\\n Data quality excellent: No missing values or duplicates!\")\n",
        "else:\n",
        "    print(f\"\\n Data quality issues detected - review before training\")"
      ]
    },
    {
      "cell_type": "markdown",
      "id": "8313444e",
      "metadata": {
        "id": "8313444e"
      },
      "source": [
        "---\n",
        "### 5.2 **Data Quality Handling**\n",
        "\n",
        "During data exploration, 10 duplicate protein sequences have been identified (0.28% of dataset). To prevent potential data leakage between train/test splits, these duplicates will be removed, keeping the first occurrence of each unique sequence. This will result in a final dataset of 3,575 samples while preserving the original class balance (53.8% Cytoplasm, 46.2% Nucleus)."
      ]
    },
    {
      "cell_type": "code",
      "execution_count": 9,
      "id": "544565fd",
      "metadata": {
        "colab": {
          "base_uri": "https://localhost:8080/"
        },
        "id": "544565fd",
        "outputId": "743335a1-84fb-49dd-87a7-28a71be09168"
      },
      "outputs": [
        {
          "output_type": "stream",
          "name": "stdout",
          "text": [
            "HANDLING DUPLICATE SEQUENCES:\n",
            "Duplicate sequences analysis:\n",
            "   Total duplicates: 16\n",
            "   Unique duplicate groups: 6\n",
            "\n",
            "Sample duplicate entries:\n",
            "   Entry B7ZW38: Label=1, Length=293\n",
            "   Entry P0CJ85: Label=1, Length=424\n",
            "   Entry P0CJ86: Label=1, Length=424\n",
            "   Entry P0CJ88: Label=1, Length=424\n",
            "\n",
            "✓ Good: All duplicate sequences have consistent labels\n",
            "\n",
            "Removing duplicates...\n",
            "Dataset size after duplicate removal:\n",
            "   Before: 3,585 samples\n",
            "   After:  3,575 samples\n",
            "   Removed: 10 samples (0.28%)\n",
            "\n",
            "Class distribution after cleaning:\n",
            "   Cytoplasm (0): 1,924 samples (53.8%)\n",
            "   Nucleus (1):   1,651 samples (46.2%)\n",
            "\n",
            " Data cleaning complete - dataset ready for training.\n"
          ]
        }
      ],
      "source": [
        "# Handle duplicate sequences\n",
        "print(\"HANDLING DUPLICATE SEQUENCES:\")\n",
        "\n",
        "# Check which sequences are duplicated\n",
        "duplicate_mask = df.duplicated(subset=['Sequence'], keep=False)\n",
        "duplicate_sequences = df[duplicate_mask]\n",
        "\n",
        "print(f\"Duplicate sequences analysis:\")\n",
        "print(f\"   Total duplicates: {duplicate_mask.sum()}\")\n",
        "print(f\"   Unique duplicate groups: {df[duplicate_mask]['Sequence'].nunique()}\")\n",
        "\n",
        "# Show a sample of duplicates\n",
        "if len(duplicate_sequences) > 0:\n",
        "    print(f\"\\nSample duplicate entries:\")\n",
        "    sample_duplicates = duplicate_sequences.head(4)\n",
        "    for idx, row in sample_duplicates.iterrows():\n",
        "        print(f\"   Entry {row['Entry']}: Label={row['label']}, Length={len(row['Sequence'])}\")\n",
        "\n",
        "# Check if duplicates have different labels (more serious issue)\n",
        "duplicate_label_conflicts = df[duplicate_mask].groupby('Sequence')['label'].nunique()\n",
        "label_conflicts = duplicate_label_conflicts[duplicate_label_conflicts > 1]\n",
        "\n",
        "if len(label_conflicts) > 0:\n",
        "    print(f\"\\n  WARNING: {len(label_conflicts)} sequences have conflicting labels!\")\n",
        "    print(\"This suggests annotation inconsistency.\")\n",
        "else:\n",
        "    print(f\"\\n✓ Good: All duplicate sequences have consistent labels\")\n",
        "\n",
        "# Remove duplicates (keep first occurrence)\n",
        "print(f\"\\nRemoving duplicates...\")\n",
        "df_clean = df.drop_duplicates(subset=['Sequence'], keep='first')\n",
        "\n",
        "print(f\"Dataset size after duplicate removal:\")\n",
        "print(f\"   Before: {len(df):,} samples\")\n",
        "print(f\"   After:  {len(df_clean):,} samples\")\n",
        "print(f\"   Removed: {len(df) - len(df_clean):,} samples ({(len(df) - len(df_clean))/len(df)*100:.2f}%)\")\n",
        "\n",
        "# Verify class balance is maintained\n",
        "print(f\"\\nClass distribution after cleaning:\")\n",
        "class_counts_clean = df_clean['label'].value_counts().sort_index()\n",
        "class_props_clean = df_clean['label'].value_counts(normalize=True).sort_index()\n",
        "print(f\"   Cytoplasm (0): {class_counts_clean[0]:,} samples ({class_props_clean[0]:.1%})\")\n",
        "print(f\"   Nucleus (1):   {class_counts_clean[1]:,} samples ({class_props_clean[1]:.1%})\")\n",
        "\n",
        "# Update the dataframe for subsequent analysis\n",
        "df = df_clean\n",
        "\n",
        "print(f\"\\n Data cleaning complete - dataset ready for training.\")"
      ]
    },
    {
      "cell_type": "markdown",
      "id": "-ewtkbomGYyj",
      "metadata": {
        "id": "-ewtkbomGYyj"
      },
      "source": [
        "---\n",
        "## **6. Target Variable and Class Distribution Analysis**\n",
        "\n",
        "Analyzing the binary classification task for subcellular localization (Cytoplasm vs Nucleus)."
      ]
    },
    {
      "cell_type": "code",
      "execution_count": 10,
      "id": "RwVxSF_FS5IX",
      "metadata": {
        "colab": {
          "base_uri": "https://localhost:8080/"
        },
        "id": "RwVxSF_FS5IX",
        "outputId": "fe1da9b5-acd8-4a75-a4f9-39913c6d98fe"
      },
      "outputs": [
        {
          "output_type": "stream",
          "name": "stdout",
          "text": [
            "CLASSIFICATION TASK ANALYSIS:\n",
            "Binary Classification: Protein Subcellular Localization\n",
            "Labels: 0 = Cytoplasm, 1 = Nucleus\n",
            "\n",
            "Class Distribution:\n",
            "Cytoplasm (0): 1,924 samples (53.8%)\n",
            "Nucleus (1):   1,651 samples (46.2%)\n",
            "\n",
            "Class Balance Ratio: 0.858\n",
            " Dataset is well-balanced!\n"
          ]
        }
      ],
      "source": [
        "# Comprehensive class distribution analysis\n",
        "print(\"CLASSIFICATION TASK ANALYSIS:\")\n",
        "print(\"Binary Classification: Protein Subcellular Localization\")\n",
        "print(\"Labels: 0 = Cytoplasm, 1 = Nucleus\")\n",
        "\n",
        "# Calculate class statistics\n",
        "class_counts = df['label'].value_counts().sort_index()\n",
        "class_props = df['label'].value_counts(normalize=True).sort_index()\n",
        "\n",
        "print(f\"\\nClass Distribution:\")\n",
        "print(f\"Cytoplasm (0): {class_counts[0]:,} samples ({class_props[0]:.1%})\")\n",
        "print(f\"Nucleus (1):   {class_counts[1]:,} samples ({class_props[1]:.1%})\")\n",
        "\n",
        "# Assess class balance\n",
        "balance_ratio = min(class_props) / max(class_props)\n",
        "print(f\"\\nClass Balance Ratio: {balance_ratio:.3f}\")\n",
        "if balance_ratio >= 0.8:\n",
        "    print(\" Dataset is well-balanced!\")\n",
        "else:\n",
        "    print(\" Dataset has class imbalance - monitor during training\")\n"
      ]
    },
    {
      "cell_type": "code",
      "execution_count": 11,
      "id": "jD3sDiq7S679",
      "metadata": {
        "colab": {
          "base_uri": "https://localhost:8080/",
          "height": 507
        },
        "id": "jD3sDiq7S679",
        "outputId": "4cdf9ddc-4110-44c7-e8ca-22811b886148"
      },
      "outputs": [
        {
          "output_type": "display_data",
          "data": {
            "text/plain": [
              "<Figure size 1200x500 with 2 Axes>"
            ],
            "image/png": "[encoded data removed]"
          },
          "metadata": {}
        }
      ],
      "source": [
        "# Professional visualization of class distribution\n",
        "fig, (ax1, ax2) = plt.subplots(1, 2, figsize=(12, 5))\n",
        "\n",
        "# Bar chart with sample counts\n",
        "class_names = ['Cytoplasm', 'Nucleus']\n",
        "colors = ['#3498db', '#e74c3c']\n",
        "bars = ax1.bar(class_names, class_counts.values, color=colors, alpha=0.8, edgecolor='black')\n",
        "ax1.set_title('Class Distribution', fontsize=14, fontweight='bold')\n",
        "ax1.set_ylabel('Number of Samples')\n",
        "for i, v in enumerate(class_counts.values):\n",
        "    ax1.text(i, v + 20, f'{v:,}', ha='center', fontweight='bold')\n",
        "\n",
        "# Pie chart with proportions\n",
        "ax2.pie(class_counts.values, labels=class_names, autopct='%1.1f%%',\n",
        "        colors=colors, startangle=90, explode=(0.02, 0.02))\n",
        "ax2.set_title('Class Proportion', fontsize=14, fontweight='bold')\n",
        "\n",
        "plt.tight_layout()\n",
        "plt.show()"
      ]
    },
    {
      "cell_type": "markdown",
      "id": "QFKWFxHbS_a9",
      "metadata": {
        "id": "QFKWFxHbS_a9"
      },
      "source": [
        "---\n",
        "## **7. Sequence Length Analysis**\n",
        "\n",
        "Analyzing protein sequence lengths to inform tokenization strategy and model configuration.\n",
        "\n",
        "#### 7.1 Protein Sequence Length Distribution\n",
        "\n",
        "To understand the dataset better and inform our choice of `max_length` for tokenization, we first analyze the distribution of protein sequence lengths. The plots below show the overall distribution, distribution by class, and cumulative distribution."
      ]
    },
    {
      "cell_type": "code",
      "execution_count": 12,
      "id": "JioSkilmTeja",
      "metadata": {
        "colab": {
          "base_uri": "https://localhost:8080/"
        },
        "id": "JioSkilmTeja",
        "outputId": "f91b088b-9a34-409e-82e2-f4ad92460c6e"
      },
      "outputs": [
        {
          "output_type": "stream",
          "name": "stdout",
          "text": [
            "PROTEIN SEQUENCE LENGTH ANALYSIS:\n",
            "Sequence Length Statistics:\n",
            "Min length:        80 amino acids\n",
            "Max length:        500 amino acids\n",
            "Mean length:       305.9 amino acids\n",
            "Median length:     308.0 amino acids\n",
            "95th percentile:   480 amino acids\n",
            "99th percentile:   496 amino acids\n"
          ]
        }
      ],
      "source": [
        "# Comprehensive sequence length statistics\n",
        "sequence_lengths = df['Sequence'].str.len()\n",
        "\n",
        "print(\"PROTEIN SEQUENCE LENGTH ANALYSIS:\")\n",
        "print(\"Sequence Length Statistics:\")\n",
        "print(f\"Min length:        {sequence_lengths.min():,} amino acids\")\n",
        "print(f\"Max length:        {sequence_lengths.max():,} amino acids\")\n",
        "print(f\"Mean length:       {sequence_lengths.mean():.1f} amino acids\")\n",
        "print(f\"Median length:     {sequence_lengths.median():.1f} amino acids\")\n",
        "print(f\"95th percentile:   {sequence_lengths.quantile(0.95):.0f} amino acids\")\n",
        "print(f\"99th percentile:   {sequence_lengths.quantile(0.99):.0f} amino acids\")"
      ]
    },
    {
      "cell_type": "code",
      "execution_count": 13,
      "id": "6ahMfG-hTf4k",
      "metadata": {
        "colab": {
          "base_uri": "https://localhost:8080/",
          "height": 867
        },
        "id": "6ahMfG-hTf4k",
        "outputId": "020530e4-9520-4067-a587-350af77f0d45"
      },
      "outputs": [
        {
          "output_type": "display_data",
          "data": {
            "text/plain": [
              "<Figure size 1500x1000 with 4 Axes>"
            ],
            "image/png": "[encoded data removed]"
          },
          "metadata": {}
        }
      ],
      "source": [
        "# Comprehensive sequence length visualizations\n",
        "fig, ((ax1, ax2), (ax3, ax4)) = plt.subplots(2, 2, figsize=(15, 10))\n",
        "\n",
        "# Overall distribution histogram\n",
        "ax1.hist(sequence_lengths, bins=50, alpha=0.7, color='skyblue', edgecolor='black')\n",
        "ax1.set_title('Distribution of Protein Sequence Lengths', fontweight='bold')\n",
        "ax1.set_xlabel('Sequence Length (amino acids)')\n",
        "ax1.set_ylabel('Frequency')\n",
        "ax1.grid(True, alpha=0.3)\n",
        "\n",
        "# Box plot comparison by class\n",
        "df_viz = df.copy()\n",
        "df_viz['Location'] = df_viz['label'].map({0: 'Cytoplasm', 1: 'Nucleus'})\n",
        "sns.boxplot(data=df_viz, x='Location', y=sequence_lengths, ax=ax2)\n",
        "ax2.set_title('Sequence Length by Subcellular Location', fontweight='bold')\n",
        "ax2.grid(True, alpha=0.3)\n",
        "\n",
        "# Distribution by class with overlay\n",
        "for label, name, color in [(0, 'Cytoplasm', 'blue'), (1, 'Nucleus', 'red')]:\n",
        "    subset = df[df['label'] == label]['Sequence'].str.len()\n",
        "    ax3.hist(subset, bins=30, alpha=0.6, label=name, color=color)\n",
        "ax3.set_title('Sequence Length Distribution by Class', fontweight='bold')\n",
        "ax3.set_xlabel('Sequence Length')\n",
        "ax3.set_ylabel('Frequency')\n",
        "ax3.legend()\n",
        "ax3.grid(True, alpha=0.3)\n",
        "\n",
        "# Cumulative distribution for percentile analysis\n",
        "sorted_lengths = np.sort(sequence_lengths)\n",
        "cumulative = np.arange(1, len(sorted_lengths) + 1) / len(sorted_lengths)\n",
        "ax4.plot(sorted_lengths, cumulative, linewidth=2, color='green')\n",
        "ax4.axvline(x=sequence_lengths.quantile(0.95), color='red', linestyle='--',\n",
        "            label=f'95th percentile ({sequence_lengths.quantile(0.95):.0f})')\n",
        "ax4.set_title('Cumulative Distribution of Sequence Lengths', fontweight='bold')\n",
        "ax4.set_xlabel('Sequence Length')\n",
        "ax4.set_ylabel('Cumulative Probability')\n",
        "ax4.legend()\n",
        "ax4.grid(True, alpha=0.3)\n",
        "\n",
        "plt.tight_layout()\n",
        "plt.show()"
      ]
    },
    {
      "cell_type": "markdown",
      "id": "5ad1d158",
      "metadata": {
        "id": "5ad1d158"
      },
      "source": [
        "The plots above illustrate that protein sequence lengths in our dataset vary, with most sequences falling within a certain range (e.g., the mean is around 306 amino acids, and the 95th percentile is at 480 amino acids). This information is crucial for setting an appropriate `max_length` during tokenization to balance computational efficiency and information retention. There are no extreme outliers that would heavily skew the tokenization strategy."
      ]
    },
    {
      "cell_type": "markdown",
      "id": "4z7nms-CToXS",
      "metadata": {
        "id": "4z7nms-CToXS"
      },
      "source": [
        "---\n",
        "## **8. Sample Data Inspection**\n",
        "\n",
        "Examining representative protein sequences to understand the biological data structure."
      ]
    },
    {
      "cell_type": "code",
      "execution_count": 14,
      "id": "LTMvRAZ-Trs3",
      "metadata": {
        "colab": {
          "base_uri": "https://localhost:8080/"
        },
        "id": "LTMvRAZ-Trs3",
        "outputId": "0e7697f2-3796-4398-e746-e451f158f90d"
      },
      "outputs": [
        {
          "output_type": "stream",
          "name": "stdout",
          "text": [
            "SAMPLE PROTEIN SEQUENCES:\n",
            "\n",
            " CYTOPLASM (Label 0):\n",
            "   Entry ID: 1656\n",
            "   Sequence: MEAMNVEKASADGNLPEVISNIKETLKIVSRTPVNITMAGDSGNGMSTFISALRNTGHEG...\n",
            "   Length: 181 amino acids\n",
            "   First 20 AA: MEAMNVEKASADGNLPEVIS\n",
            "   Location Info: SUBCELLULAR LOCATION: Golgi apparatus membrane {ECO:0000269|PubMed:28389568}. Ce...\n",
            "\n",
            " NUCLEUS (Label 1):\n",
            "   Entry ID: 0\n",
            "   Sequence: MENFTALFGAQADPPPPPTALGFGPGKPPPPPPPPAGGGPGTAPPPTAATAPPGADKSGA...\n",
            "   Length: 244 amino acids\n",
            "   First 20 AA: MENFTALFGAQADPPPPPTA\n",
            "   Location Info: SUBCELLULAR LOCATION: Nucleus {ECO:0000305}....\n"
          ]
        }
      ],
      "source": [
        "# Detailed sample inspection from each class\n",
        "print(\"SAMPLE PROTEIN SEQUENCES:\")\n",
        "\n",
        "for label in [0, 1]:\n",
        "    location = \"Cytoplasm\" if label == 0 else \"Nucleus\"\n",
        "    sample = df[df['label'] == label].iloc[0]\n",
        "    sequence = sample['Sequence']\n",
        "\n",
        "    print(f\"\\n {location.upper()} (Label {label}):\")\n",
        "    print(f\"   Entry ID: {sample.name}\")\n",
        "    print(f\"   Sequence: {sequence[:60]}...\")\n",
        "    print(f\"   Length: {len(sequence):,} amino acids\")\n",
        "    print(f\"   First 20 AA: {sequence[:20]}\")\n",
        "    print(f\"   Location Info: {sample['Subcellular location [CC]'][:80]}...\")"
      ]
    },
    {
      "cell_type": "code",
      "execution_count": 15,
      "id": "tIgpCinjT0WI",
      "metadata": {
        "colab": {
          "base_uri": "https://localhost:8080/"
        },
        "id": "tIgpCinjT0WI",
        "outputId": "54672700-aaa5-4f13-8a72-5460b00a46b7"
      },
      "outputs": [
        {
          "output_type": "stream",
          "name": "stdout",
          "text": [
            "\n",
            "============================================================\n",
            "DATASET SUMMARY TABLE\n",
            "============================================================\n",
            "         Metric Value\n",
            "  Total Samples 3,575\n",
            "      Cytoplasm 1,924\n",
            "        Nucleus 1,651\n",
            "  Class Balance 0.858\n",
            "     Min Length    80\n",
            "     Max Length   500\n",
            "    Mean Length   306\n",
            "95th Percentile   480\n"
          ]
        }
      ],
      "source": [
        "# Dataset summary statistics table\n",
        "summary_stats = pd.DataFrame({\n",
        "    'Metric': ['Total Samples', 'Cytoplasm', 'Nucleus', 'Class Balance',\n",
        "               'Min Length', 'Max Length', 'Mean Length', '95th Percentile'],\n",
        "    'Value': [f\"{df.shape[0]:,}\", f\"{class_counts[0]:,}\", f\"{class_counts[1]:,}\",\n",
        "              f\"{balance_ratio:.3f}\", f\"{sequence_lengths.min():,}\",\n",
        "              f\"{sequence_lengths.max():,}\", f\"{sequence_lengths.mean():.0f}\",\n",
        "              f\"{sequence_lengths.quantile(0.95):.0f}\"]\n",
        "})\n",
        "\n",
        "print(\"\\n\" + \"=\" * 60)\n",
        "print(\"DATASET SUMMARY TABLE\")\n",
        "print(\"=\" * 60)\n",
        "print(summary_stats.to_string(index=False))"
      ]
    },
    {
      "cell_type": "markdown",
      "id": "5jZP7_3pUASG",
      "metadata": {
        "id": "5jZP7_3pUASG"
      },
      "source": [
        "---\n",
        "## **9. ESM-2 Tokenization Analysis**\n",
        "\n",
        "Understanding how protein sequences are converted to numerical tokens for transformer processing.\n",
        "\n",
        "#### 9.2 Understanding ESM-2 Tokens\n",
        "\n",
        "Now, we'll examine the ESM-2 tokenizer specifically for the `facebook/esm2_t6_8M_UR50D` model. This involves loading the tokenizer, inspecting its vocabulary (including special tokens), and seeing how it converts a sample protein sequence into tokens and then into numerical input IDs."
      ]
    },
    {
      "cell_type": "code",
      "execution_count": 16,
      "id": "JjEdQNpsT_4b",
      "metadata": {
        "colab": {
          "base_uri": "https://localhost:8080/",
          "height": 339,
          "referenced_widgets": [
            "a6d7b062b61549b8ba76c4906a9063b9",
            "6510a79090174f2fa2eba18883792e0d",
            "d150cb8fd60146cd9b0100ba02dc6037",
            "799647ca2fb44faf9af2bfe2d95da854",
            "9b31723912a0447983248ba2f0d0a11e",
            "10ee2e88ddab4b2ab68e377704c50f71",
            "34ed07acce644d71af705cdd2caeda41",
            "a4199ca596d446dbaf40006d07e4d83e",
            "54c458b3a8d54eac80ea818881d67a98",
            "bded88f1c7824702aece617bec07d8f4",
            "7999065e4a574a158d67924fe2ff2545",
            "ec43153e0d0c43c4a6c7dd38f84569fb",
            "477677f3a3d1419aa1940ece1875b52b",
            "59c28e87585b44dfa6150015150d2184",
            "3b2a5714c8c443edb9b8f8c48de02a9c",
            "a615a187283f4d3883c42ae8f9c17302",
            "eb014480e0ce45a89fef48e80a41ee11",
            "1ab143bf9f9f4111996ff952106a4ec8",
            "c688b3df91f94689a94602b6ee4802db",
            "c94a4894cb79400896177a8baf1c10b6",
            "d753e8c006f147f0a2b637b210f04ba9",
            "fc62cca0d1304a78a1d2d038dc38de33",
            "93bfe21531ea49dfa05b52e1731bb439",
            "3066748a22244764a0a97ee0a782d993",
            "8122562aedcd4d5c8f55882873d8c1b8",
            "b83acea07c844f59a2b831b67e3767ab",
            "cea05b82ad944d62b3ccc59eeb003deb",
            "96c1bc9bb588427491637d90759414a3",
            "52fda25dc4964338aae776347d715c7d",
            "841a83dcdea54a9ea7f8bca741b2658c",
            "20aee274be06442e80e48f89efeec558",
            "a695c5fedafb404289bbe1b742d7b4e9",
            "d3bfab820a38475d904205cfb9058946"
          ]
        },
        "id": "JjEdQNpsT_4b",
        "outputId": "ea6349a8-3253-45fd-e4f7-1b2f9a1d7020"
      },
      "outputs": [
        {
          "output_type": "stream",
          "name": "stdout",
          "text": [
            "ESM-2 TOKENIZATION ANALYSIS:\n"
          ]
        },
        {
          "output_type": "display_data",
          "data": {
            "text/plain": [
              "tokenizer_config.json:   0%|          | 0.00/95.0 [00:00<?, ?B/s]"
            ],
            "application/vnd.jupyter.widget-view+json": {
              "version_major": 2,
              "version_minor": 0,
              "model_id": "a6d7b062b61549b8ba76c4906a9063b9"
            }
          },
          "metadata": {}
        },
        {
          "output_type": "display_data",
          "data": {
            "text/plain": [
              "vocab.txt:   0%|          | 0.00/93.0 [00:00<?, ?B/s]"
            ],
            "application/vnd.jupyter.widget-view+json": {
              "version_major": 2,
              "version_minor": 0,
              "model_id": "ec43153e0d0c43c4a6c7dd38f84569fb"
            }
          },
          "metadata": {}
        },
        {
          "output_type": "display_data",
          "data": {
            "text/plain": [
              "special_tokens_map.json:   0%|          | 0.00/125 [00:00<?, ?B/s]"
            ],
            "application/vnd.jupyter.widget-view+json": {
              "version_major": 2,
              "version_minor": 0,
              "model_id": "93bfe21531ea49dfa05b52e1731bb439"
            }
          },
          "metadata": {}
        },
        {
          "output_type": "stream",
          "name": "stdout",
          "text": [
            "Tokenizer Information:\n",
            "Model: facebook/esm2_t6_8M_UR50D\n",
            "Vocabulary size: 33\n",
            "Model max length: 1,000,000,000,000,000,019,884,624,838,656\n",
            "\n",
            "Sample tokens from vocabulary:\n",
            "['<cls>', '<pad>', '<eos>', '<unk>', 'L', 'A', 'G', 'V', 'S', 'E', 'R', 'T', 'I', 'D', 'P', 'K', 'Q', 'N', 'F', 'Y']\n",
            "\n",
            "Special Tokens:\n",
            "CLS token: '<cls>' (ID: 0)\n",
            "SEP token: 'None' (ID: None)\n",
            "PAD token: '<pad>' (ID: 1)\n"
          ]
        }
      ],
      "source": [
        "# Load and analyze the ESM-2 tokenizer\n",
        "from transformers import EsmTokenizer\n",
        "\n",
        "print(\"ESM-2 TOKENIZATION ANALYSIS:\")\n",
        "\n",
        "# Load the specified ESM-2 tokenizer\n",
        "tokenizer = EsmTokenizer.from_pretrained(model_name)\n",
        "\n",
        "print(\"Tokenizer Information:\")\n",
        "print(f\"Model: {model_name}\")\n",
        "print(f\"Vocabulary size: {tokenizer.vocab_size:,}\")\n",
        "print(f\"Model max length: {tokenizer.model_max_length:,}\")\n",
        "\n",
        "# Display sample tokens from vocabulary\n",
        "print(\"\\nSample tokens from vocabulary:\")\n",
        "vocab = tokenizer.get_vocab()\n",
        "sample_tokens = list(vocab.keys())[:20]\n",
        "print(sample_tokens)\n",
        "\n",
        "# Show special tokens used by ESM-2\n",
        "print(f\"\\nSpecial Tokens:\")\n",
        "print(f\"CLS token: '{tokenizer.cls_token}' (ID: {tokenizer.cls_token_id})\")\n",
        "print(f\"SEP token: '{tokenizer.sep_token}' (ID: {tokenizer.sep_token_id})\")\n",
        "print(f\"PAD token: '{tokenizer.pad_token}' (ID: {tokenizer.pad_token_id})\")"
      ]
    },
    {
      "cell_type": "code",
      "execution_count": 17,
      "id": "FO5Mgd4NUKR6",
      "metadata": {
        "colab": {
          "base_uri": "https://localhost:8080/"
        },
        "id": "FO5Mgd4NUKR6",
        "outputId": "e19fbc32-1c94-47f7-d6d4-bdfbcac60907"
      },
      "outputs": [
        {
          "output_type": "stream",
          "name": "stdout",
          "text": [
            "TOKENIZATION DEMONSTRATION:\n",
            "\n",
            " Example 1 - Cytoplasm:\n",
            "Original sequence (first 50): MENFTALFGAQADPPPPPTALGFGPGKPPPPPPPPAGGGPGTAPPPTAAT...\n",
            "Full sequence length: 244 amino acids\n",
            "Tokenized (first 20): ['M', 'E', 'N', 'F', 'T', 'A', 'L', 'F', 'G', 'A', 'Q', 'A', 'D', 'P', 'P', 'P', 'P', 'P', 'T', 'A']\n",
            "Token IDs (first 20): [0, 20, 9, 17, 18, 11, 5, 4, 18, 6, 5, 16, 5, 13, 14, 14, 14, 14, 14, 11]\n",
            "Number of tokens: 244 (+ special tokens = 246)\n",
            "----------------------------------------\n",
            "\n",
            " Example 2 - Nucleus:\n",
            "Original sequence (first 50): MENFTALFGAQADPPPPPTALGFGPGKPPPPPPPPAGGGPGTAPPPTAAT...\n",
            "Full sequence length: 244 amino acids\n",
            "Tokenized (first 20): ['M', 'E', 'N', 'F', 'T', 'A', 'L', 'F', 'G', 'A', 'Q', 'A', 'D', 'P', 'P', 'P', 'P', 'P', 'T', 'A']\n",
            "Token IDs (first 20): [0, 20, 9, 17, 18, 11, 5, 4, 18, 6, 5, 16, 5, 13, 14, 14, 14, 14, 14, 11]\n",
            "Number of tokens: 244 (+ special tokens = 246)\n",
            "----------------------------------------\n"
          ]
        }
      ],
      "source": [
        "# Demonstrate tokenization process with sample sequences\n",
        "print(\"TOKENIZATION DEMONSTRATION:\")\n",
        "\n",
        "# Take sample sequences from each class\n",
        "sample_sequences = [\n",
        "    df['Sequence'].iloc[0],  # Cytoplasm example\n",
        "    df['Sequence'].iloc[df[df['label']==1].index[0]]  # Nucleus example\n",
        "]\n",
        "\n",
        "for i, (seq, label) in enumerate(zip(sample_sequences, [0, 1])):\n",
        "    location = \"Cytoplasm\" if label == 0 else \"Nucleus\"\n",
        "\n",
        "    print(f\"\\n Example {i+1} - {location}:\")\n",
        "    print(f\"Original sequence (first 50): {seq[:50]}...\")\n",
        "    print(f\"Full sequence length: {len(seq)} amino acids\")\n",
        "\n",
        "    # Tokenize the sequence\n",
        "    tokens = tokenizer.tokenize(seq)\n",
        "    token_ids = tokenizer.encode(seq, add_special_tokens=True)\n",
        "\n",
        "    print(f\"Tokenized (first 20): {tokens[:20]}\")\n",
        "    print(f\"Token IDs (first 20): {token_ids[:20]}\")\n",
        "    print(f\"Number of tokens: {len(tokens)} (+ special tokens = {len(token_ids)})\")\n",
        "    print(\"-\" * 40)"
      ]
    },
    {
      "cell_type": "markdown",
      "id": "71c23509",
      "metadata": {
        "id": "71c23509"
      },
      "source": [
        "The demonstration above confirms that each amino acid in the protein sequence is converted into a token. Special tokens (like `<cls>`) are added, increasing the total number of tokens per sequence slightly compared to the raw amino acid count. The `token_ids` are the numerical representations fed into the model."
      ]
    },
    {
      "cell_type": "markdown",
      "id": "sKmglwJJUQd1",
      "metadata": {
        "id": "sKmglwJJUQd1"
      },
      "source": [
        "---\n",
        "## **10. Max Length Strategy Determination**\n",
        "\n",
        "Analyzing tokenized lengths to determine the optimal max_length parameter for efficient training.\n"
      ]
    },
    {
      "cell_type": "code",
      "execution_count": 18,
      "id": "B2cevY0ZUP-L",
      "metadata": {
        "colab": {
          "base_uri": "https://localhost:8080/"
        },
        "id": "B2cevY0ZUP-L",
        "outputId": "f3cbf042-5a9c-41b7-bac9-0b64f031f75c"
      },
      "outputs": [
        {
          "output_type": "stream",
          "name": "stdout",
          "text": [
            "TOKENIZATION LENGTH ANALYSIS:\n",
            "Analyzing tokenization for 1000 sequences...\n",
            "Tokenized Length Statistics:\n",
            "Min tokens:        83\n",
            "Max tokens:        502\n",
            "Mean tokens:       303.6\n",
            "Median tokens:     300.5\n",
            "95th percentile:   482\n",
            "99th percentile:   498\n",
            "\n",
            " Chosen max_length: 482\n",
            "This covers ~95% of sequences without truncation\n"
          ]
        }
      ],
      "source": [
        "# Comprehensive tokenization length analysis\n",
        "print(\"TOKENIZATION LENGTH ANALYSIS:\")\n",
        "\n",
        "# Sample sequences for analysis (computational efficiency)\n",
        "sample_size = min(1000, len(df))\n",
        "sample_df = df.sample(sample_size, random_state=42)\n",
        "\n",
        "print(f\"Analyzing tokenization for {sample_size} sequences...\")\n",
        "\n",
        "# Calculate tokenized lengths including special tokens\n",
        "tokenized_lengths = []\n",
        "for seq in sample_df['Sequence']:\n",
        "    tokens = tokenizer.tokenize(seq)\n",
        "    tokenized_lengths.append(len(tokens) + 2)  # +2 for CLS and SEP tokens\n",
        "\n",
        "tokenized_lengths = np.array(tokenized_lengths)\n",
        "\n",
        "print(\"Tokenized Length Statistics:\")\n",
        "print(f\"Min tokens:        {tokenized_lengths.min()}\")\n",
        "print(f\"Max tokens:        {tokenized_lengths.max():,}\")\n",
        "print(f\"Mean tokens:       {tokenized_lengths.mean():.1f}\")\n",
        "print(f\"Median tokens:     {np.median(tokenized_lengths):.1f}\")\n",
        "print(f\"95th percentile:   {np.percentile(tokenized_lengths, 95):.0f}\")\n",
        "print(f\"99th percentile:   {np.percentile(tokenized_lengths, 99):.0f}\")\n",
        "\n",
        "# Determine optimal max_length (95th percentile with ESM-2 limits)\n",
        "max_length = min(int(np.percentile(tokenized_lengths, 95)), 1024)  # ESM-2 limit\n",
        "print(f\"\\n Chosen max_length: {max_length}\")\n",
        "print(f\"This covers ~95% of sequences without truncation\")"
      ]
    },
    {
      "cell_type": "code",
      "execution_count": 19,
      "id": "kbzfmqmJUhGg",
      "metadata": {
        "colab": {
          "base_uri": "https://localhost:8080/",
          "height": 558
        },
        "id": "kbzfmqmJUhGg",
        "outputId": "aa57c57d-fd9c-4387-f42b-b6c3b8e8c834"
      },
      "outputs": [
        {
          "output_type": "display_data",
          "data": {
            "text/plain": [
              "<Figure size 1500x600 with 2 Axes>"
            ],
            "image/png": "[encoded data removed]"
          },
          "metadata": {}
        },
        {
          "output_type": "stream",
          "name": "stdout",
          "text": [
            " Max length of 482 covers 95.0% of sequences\n",
            " Ready for ESM-2 model architecture analysis\n"
          ]
        }
      ],
      "source": [
        "# Visualize tokenization analysis for validation\n",
        "fig, (ax1, ax2) = plt.subplots(1, 2, figsize=(15, 6))\n",
        "\n",
        "# Distribution of tokenized lengths\n",
        "ax1.hist(tokenized_lengths, bins=50, alpha=0.7, color='green', edgecolor='black')\n",
        "ax1.axvline(x=max_length, color='red', linestyle='--', linewidth=2,\n",
        "            label=f'Chosen max_length: {max_length}')\n",
        "ax1.set_title('Distribution of Tokenized Sequence Lengths', fontweight='bold')\n",
        "ax1.set_xlabel('Number of Tokens')\n",
        "ax1.set_ylabel('Frequency')\n",
        "ax1.legend()\n",
        "ax1.grid(True, alpha=0.3)\n",
        "\n",
        "# Relationship between original and tokenized lengths\n",
        "original_lengths = sample_df['Sequence'].str.len().values\n",
        "ax2.scatter(original_lengths, tokenized_lengths, alpha=0.6, color='blue', s=30)\n",
        "ax2.plot([0, max(original_lengths)], [0, max(original_lengths)], 'r--', alpha=0.8,\n",
        "         label='1:1 ratio line')\n",
        "ax2.set_title('Original vs Tokenized Sequence Lengths', fontweight='bold')\n",
        "ax2.set_xlabel('Original Length (amino acids)')\n",
        "ax2.set_ylabel('Tokenized Length (tokens)')\n",
        "ax2.legend()\n",
        "ax2.grid(True, alpha=0.3)\n",
        "\n",
        "plt.tight_layout()\n",
        "plt.show()\n",
        "\n",
        "# Final tokenization summary\n",
        "coverage_95 = (tokenized_lengths <= max_length).mean() * 100\n",
        "print(f\" Max length of {max_length} covers {coverage_95:.1f}% of sequences\")\n",
        "print(f\" Ready for ESM-2 model architecture analysis\")"
      ]
    },
    {
      "cell_type": "markdown",
      "id": "11a612d4",
      "metadata": {
        "id": "11a612d4"
      },
      "source": [
        "This `max_length` is determined by analyzing the distribution of tokenized sequence lengths (which closely mirrors the original amino acid sequence lengths as seen in Section 7, plus a couple of special tokens). By choosing the 95th percentile, we aim to cover the vast majority of sequences without truncation, while also preventing excessively long padding for shorter sequences, which would be computationally inefficient. The ESM-2 model itself also has a maximum position embedding limit (typically 1024 or 1026 for ESM-2), so our chosen `max_length` must also respect this."
      ]
    },
    {
      "cell_type": "markdown",
      "id": "vLZA8HBEUjSK",
      "metadata": {
        "id": "vLZA8HBEUjSK"
      },
      "source": [
        "---\n",
        "#### *Explain the architecture of the ESM-2 model, what type of transformer model it is and how many layers and parameters are in the ESM2_t6_8M_UR50D?*\n",
        "---"
      ]
    },
    {
      "cell_type": "markdown",
      "id": "aBBRFBeVZCwD",
      "metadata": {
        "id": "aBBRFBeVZCwD"
      },
      "source": [
        "## **11. ESM-2 Model Architecture Deep Dive**"
      ]
    },
    {
      "cell_type": "markdown",
      "id": "uQQmRP10ZJSV",
      "metadata": {
        "id": "uQQmRP10ZJSV"
      },
      "source": [
        "### 11.1 Model Configuration Analysis"
      ]
    },
    {
      "cell_type": "code",
      "execution_count": 20,
      "id": "mYaJycLuYMro",
      "metadata": {
        "colab": {
          "base_uri": "https://localhost:8080/",
          "height": 257,
          "referenced_widgets": [
            "84fdd4dc4cdf41709de111ecb5131234",
            "8f8d9b6a25bb4a31987759e623f4bd23",
            "21202c24ad93498db5782fd6bdbf21ab",
            "1d8428a8ee0c489d848f88c9d03ab6b3",
            "47ec633d967e49cfb72dcaa8fb48feda",
            "fffd722e83a448eeb4de4f37608d31f5",
            "f929529728a84d4f964cf192d647714f",
            "deb78c2f991f43dca4dc6f091dd43c73",
            "5f0a63deb61d4967b5a3c0b3246dbbf2",
            "f0c443ac43b14eb7a160598d21d375ae",
            "29d7e78313cb4803bfba1734b1743c75"
          ]
        },
        "id": "mYaJycLuYMro",
        "outputId": "1354d4a3-691e-4e21-b6f8-ca0e78c3dafd",
        "scrolled": true
      },
      "outputs": [
        {
          "output_type": "stream",
          "name": "stdout",
          "text": [
            "ESM-2 MODEL ARCHITECTURE ANALYSIS\n"
          ]
        },
        {
          "output_type": "display_data",
          "data": {
            "text/plain": [
              "config.json:   0%|          | 0.00/775 [00:00<?, ?B/s]"
            ],
            "application/vnd.jupyter.widget-view+json": {
              "version_major": 2,
              "version_minor": 0,
              "model_id": "84fdd4dc4cdf41709de111ecb5131234"
            }
          },
          "metadata": {}
        },
        {
          "output_type": "stream",
          "name": "stdout",
          "text": [
            "ESM-2 Model Configuration:\n",
            "Model name: facebook/esm2_t6_8M_UR50D\n",
            "Architecture type: esm\n",
            "Hidden size: 320\n",
            "Number of hidden layers: 6\n",
            "Number of attention heads: 20\n",
            "Intermediate size (FFN): 1280\n",
            "Vocabulary size: 33\n",
            "Max position embeddings: 1026\n",
            "Layer norm epsilon: 1e-05\n",
            "Dropout probability: 0.0\n"
          ]
        }
      ],
      "source": [
        "# Load the ESM-2 model configuration to understand its architecture\n",
        "from transformers import EsmConfig, EsmModel\n",
        "\n",
        "print(\"ESM-2 MODEL ARCHITECTURE ANALYSIS\")\n",
        "\n",
        "# Load the configuration for the specified model\n",
        "config = EsmConfig.from_pretrained(model_name)\n",
        "\n",
        "print(\"ESM-2 Model Configuration:\")\n",
        "print(f\"Model name: {model_name}\")\n",
        "print(f\"Architecture type: {config.model_type}\")\n",
        "print(f\"Hidden size: {config.hidden_size}\")\n",
        "print(f\"Number of hidden layers: {config.num_hidden_layers}\")\n",
        "print(f\"Number of attention heads: {config.num_attention_heads}\")\n",
        "print(f\"Intermediate size (FFN): {config.intermediate_size}\")\n",
        "print(f\"Vocabulary size: {config.vocab_size}\")\n",
        "print(f\"Max position embeddings: {config.max_position_embeddings}\")\n",
        "print(f\"Layer norm epsilon: {config.layer_norm_eps}\")\n",
        "print(f\"Dropout probability: {config.hidden_dropout_prob}\")"
      ]
    },
    {
      "cell_type": "markdown",
      "id": "2c42431c",
      "metadata": {
        "id": "2c42431c"
      },
      "source": [
        "### ESM-2 Model Architecture (`esm2_t6_8M_UR50D`)\n",
        "\n",
        "The `EsmConfig` output from section 11.1 provides the blueprint for the `facebook/esm2_t6_8M_UR50D` model. This model is an **ESM (Evolutionary Scale Modeling)** model, specifically an **Encoder-only Transformer**. This architecture is similar to BERT and is characterized by its ability to process the entire input sequence bidirectionally, allowing each token's representation to be informed by its full context. This makes it highly effective for understanding tasks like sequence classification.\n",
        "\n",
        "Key architectural details derived from the configuration and model loading (see Section 13.1 for parameter count confirmation) are:\n",
        "\n",
        "*   **Type of Transformer:** Encoder-only.\n",
        "    *   *Implication:* Well-suited for understanding and representing entire sequences, ideal for classification. Not designed for autoregressive sequence generation.\n",
        "*   **Layers (`num_hidden_layers`):** **6 transformer layers** (encoder blocks). This aligns with the `t6` designation in the model name.\n",
        "*   **Parameters:** **7,512,443 total parameters** (approximately 7.51 million). This is consistent with the `8M` in the model name.\n",
        "*   **Hidden Size (`hidden_size`):** 320. This is the dimensionality of embeddings and hidden states.\n",
        "*   **Attention Heads (`num_attention_heads`):** 20.\n",
        "*   **Intermediate Size (FFN) (`intermediate_size`):** 1280. The size of the feed-forward network's inner layer.\n",
        "*   **Vocabulary Size (`vocab_size`):** 33. This includes 20 standard amino acids and special tokens (e.g., `<cls>`, `<pad>`, `<eos>`, `<unk>`).\n",
        "*   **Max Position Embeddings (`max_position_embeddings`):** 1026. The maximum sequence length supported by its learned positional information.\n",
        "\n",
        "**Relevance to Protein Sequence Analysis:**\n",
        "The ESM-2 architecture is optimized for biological sequences. It's pre-trained on large protein databases to capture evolutionary and structural patterns. Its relatively compact size (`t6_8M`) makes it efficient for fine-tuning on specific tasks like the subcellular localization prediction in this assignment."
      ]
    },
    {
      "cell_type": "markdown",
      "id": "dlR2gXsjZYg-",
      "metadata": {
        "id": "dlR2gXsjZYg-"
      },
      "source": [
        "---\n",
        "## **11.2 Understanding ESM-2 as a Transformer Model**"
      ]
    },
    {
      "cell_type": "markdown",
      "id": "uazvRrH3Y_mj",
      "metadata": {
        "id": "uazvRrH3Y_mj"
      },
      "source": [
        "The `esm2_t6_8M_UR50D` is an **Encoder-only Transformer**. This architectural choice has several important implications:\n",
        "\n",
        "1.  **Bidirectional Context:** Like BERT, encoder-only models process the entire input sequence simultaneously. This allows each token's representation to be informed by both its preceding and succeeding tokens (bidirectional context), which is crucial for understanding complex relationships within protein sequences.\n",
        "\n",
        "2.  **Suitability for Classification Tasks:** This architecture is well-suited for sequence-level classification tasks (like the one in this assignment). The output representation of a special token (often `<cls>`) or an aggregation (e.g., pooling) of all token outputs can be fed into a simple classification layer.\n",
        "\n",
        "3.  **Not for Autoregressive Generation:** Unlike decoder-only models (like GPT) or encoder-decoder models (like T5 for translation), encoder-only models are not designed for generating sequences token by token in an autoregressive manner. Their strength lies in understanding and representing existing sequences.\n",
        "\n",
        "4.  **Pre-training and Fine-tuning Paradigm:** ESM models follow the common transformer paradigm of pre-training on a large corpus of unlabeled data (protein sequences, in this case, using tasks like masked language modeling) to learn general sequence features, followed by fine-tuning on smaller, labeled datasets for specific downstream tasks.\n",
        "\n",
        "In summary, the `facebook/esm2_t6_8M_UR50D` is a relatively small (6-layer, ~8M parameters) but effective encoder-only transformer optimized for protein sequence understanding and classification."
      ]
    },
    {
      "cell_type": "markdown",
      "id": "XgldL1TXXTIb",
      "metadata": {
        "id": "XgldL1TXXTIb"
      },
      "source": [
        "---\n",
        "#### *Fine-tune the pre-trained ESM2_t6_8M_UR50D model on the classification task and show evidence that the model has trained correctly. You should use lr=2e-5.*\n",
        "---"
      ]
    },
    {
      "cell_type": "markdown",
      "id": "fFDOFerzdMBR",
      "metadata": {
        "id": "fFDOFerzdMBR"
      },
      "source": [
        "## **12. Data Preparation for Fine-tuning**"
      ]
    },
    {
      "cell_type": "markdown",
      "id": "k_YMkLD8dRn5",
      "metadata": {
        "id": "k_YMkLD8dRn5"
      },
      "source": [
        "### **12.1 Train/Validation/Test Split**"
      ]
    },
    {
      "cell_type": "code",
      "execution_count": 21,
      "id": "RnsEOtopYPZV",
      "metadata": {
        "colab": {
          "base_uri": "https://localhost:8080/"
        },
        "id": "RnsEOtopYPZV",
        "outputId": "fac808de-ff4c-4050-b89e-62cafda11d3b"
      },
      "outputs": [
        {
          "output_type": "stream",
          "name": "stdout",
          "text": [
            "FINE-TUNING ESM-2 FOR PROTEIN CLASSIFICATION:\n",
            "Preparing data splits...\n",
            " Data split complete:\n",
            "   Training set: 2,145 samples (60.0%)\n",
            "   Validation set: 715 samples (20.0%)\n",
            "   Test set: 715 samples (20.0%)\n",
            "\n",
            "Train set class distribution:\n",
            "   Cytoplasm (0): 53.8%\n",
            "   Nucleus (1): 46.2%\n",
            "\n",
            "Val set class distribution:\n",
            "   Cytoplasm (0): 53.8%\n",
            "   Nucleus (1): 46.2%\n",
            "\n",
            "Test set class distribution:\n",
            "   Cytoplasm (0): 53.8%\n",
            "   Nucleus (1): 46.2%\n"
          ]
        }
      ],
      "source": [
        "print(\"FINE-TUNING ESM-2 FOR PROTEIN CLASSIFICATION:\")\n",
        "\n",
        "# Implement 60/20/20 split as per best practices\n",
        "from sklearn.model_selection import train_test_split\n",
        "\n",
        "print(\"Preparing data splits...\")\n",
        "\n",
        "# First split: 80% train+val, 20% test\n",
        "X = df['Sequence'].values\n",
        "y = df['label'].values\n",
        "\n",
        "X_temp, X_test, y_temp, y_test = train_test_split(\n",
        "    X, y, test_size=0.2, random_state=42, stratify=y\n",
        ")\n",
        "\n",
        "# Second split: 60% train, 20% val from the 80%\n",
        "X_train, X_val, y_train, y_val = train_test_split(\n",
        "    X_temp, y_temp, test_size=0.25, random_state=42, stratify=y_temp\n",
        ")\n",
        "\n",
        "print(f\" Data split complete:\")\n",
        "print(f\"   Training set: {len(X_train):,} samples ({len(X_train)/len(X)*100:.1f}%)\")\n",
        "print(f\"   Validation set: {len(X_val):,} samples ({len(X_val)/len(X)*100:.1f}%)\")\n",
        "print(f\"   Test set: {len(X_test):,} samples ({len(X_test)/len(X)*100:.1f}%)\")\n",
        "\n",
        "# Verify class balance in each split\n",
        "for name, y_split in [('Train', y_train), ('Val', y_val), ('Test', y_test)]:\n",
        "    class_dist = pd.Series(y_split).value_counts(normalize=True).sort_index()\n",
        "    print(f\"\\n{name} set class distribution:\")\n",
        "    print(f\"   Cytoplasm (0): {class_dist[0]:.1%}\")\n",
        "    print(f\"   Nucleus (1): {class_dist[1]:.1%}\")"
      ]
    },
    {
      "cell_type": "markdown",
      "id": "44yAZWiBdaHy",
      "metadata": {
        "id": "44yAZWiBdaHy"
      },
      "source": [
        "---\n",
        "### **12.2 Tokenization Pipeline**"
      ]
    },
    {
      "cell_type": "code",
      "execution_count": 22,
      "id": "TkMJ09FEdZ3r",
      "metadata": {
        "colab": {
          "base_uri": "https://localhost:8080/"
        },
        "id": "TkMJ09FEdZ3r",
        "outputId": "4e929fc9-216a-465e-8416-5ed06de63b59"
      },
      "outputs": [
        {
          "output_type": "stream",
          "name": "stdout",
          "text": [
            "TOKENIZATION PIPELINE:\n",
            "Tokenizing sequences with max_length=482...\n",
            " Tokenization complete:\n",
            "   Input shape: torch.Size([2145, 482])\n"
          ]
        }
      ],
      "source": [
        "# Implement efficient tokenization for all datasets\n",
        "from transformers import EsmTokenizer\n",
        "\n",
        "print(\"TOKENIZATION PIPELINE:\")\n",
        "\n",
        "# Initialize tokenizer\n",
        "tokenizer = EsmTokenizer.from_pretrained(model_name)\n",
        "\n",
        "# Set max_length based on our earlier analysis\n",
        "max_length = 482  # Chosen based on the 95th percentile result from tokenized length analysis (Section 10)\n",
        "\n",
        "print(f\"Tokenizing sequences with max_length={max_length}...\")\n",
        "\n",
        "# Tokenize all splits\n",
        "def tokenize_dataset(sequences, tokenizer, max_length):\n",
        "    \"\"\"Tokenize protein sequences for ESM-2\"\"\"\n",
        "    return tokenizer(\n",
        "        sequences.tolist(),\n",
        "        padding=True,\n",
        "        truncation=True,\n",
        "        max_length=max_length,\n",
        "        return_tensors=\"pt\"\n",
        "    )\n",
        "\n",
        "# Apply tokenization\n",
        "train_encodings = tokenize_dataset(X_train, tokenizer, max_length)\n",
        "val_encodings = tokenize_dataset(X_val, tokenizer, max_length)\n",
        "test_encodings = tokenize_dataset(X_test, tokenizer, max_length)\n",
        "\n",
        "print(\" Tokenization complete:\")\n",
        "print(f\"   Input shape: {train_encodings['input_ids'].shape}\")"
      ]
    },
    {
      "cell_type": "markdown",
      "id": "xfWb8fpHdolT",
      "metadata": {
        "id": "xfWb8fpHdolT"
      },
      "source": [
        "---\n",
        "## **13. Model Training Implementation**"
      ]
    },
    {
      "cell_type": "markdown",
      "id": "DAb03CKUfvev",
      "metadata": {
        "id": "DAb03CKUfvev"
      },
      "source": [
        "### **13.1 Model Initialization and Configuration**\n"
      ]
    },
    {
      "cell_type": "markdown",
      "id": "40ec0f10",
      "metadata": {
        "id": "40ec0f10"
      },
      "source": [
        "The model `facebook/esm2_t6_8M_UR50D` is loaded using `EsmForSequenceClassification`. This class from the Hugging Face Transformers library appends a classification head (typically a linear layer) on top of the pre-trained ESM-2 base model. The `num_labels=2` parameter specifies that this is a binary classification task, and `problem_type=\"single_label_classification\"` confirms this. We also print the total and trainable parameters to understand the model's size and confirm that the classification head parameters are included and trainable."
      ]
    },
    {
      "cell_type": "code",
      "execution_count": 23,
      "id": "bat12RbKdm9T",
      "metadata": {
        "colab": {
          "base_uri": "https://localhost:8080/",
          "height": 295,
          "referenced_widgets": [
            "154751de7d0340c7822eebe651312cb0",
            "60667e1799e441bc82e9cfc256d6e586",
            "49ec9408bceb49ea978bc7d3a9fe8a1f",
            "dec6fa32d7054a3fb0e0ef9ae9ff159e",
            "a051517e7d164308afa1d0ecc77973ae",
            "0144911297314dffac34180fc5b2eb30",
            "40be5d5402354c1eb6166e5b897fde85",
            "70b8ad82fa52429595c2b4a8a14ed5b7",
            "e33f970bca4448cabc133cf6c3efb8cf",
            "2ad94f4b73f94bcfaca76a9bcc304283",
            "cdeb6b57bdff4e718f26145443e6933c"
          ]
        },
        "id": "bat12RbKdm9T",
        "outputId": "e09509ca-c556-4afb-99d7-67a40a7e9d72"
      },
      "outputs": [
        {
          "output_type": "stream",
          "name": "stdout",
          "text": [
            "MODEL INITIALIZATION:\n",
            "Using device: cuda\n"
          ]
        },
        {
          "output_type": "display_data",
          "data": {
            "text/plain": [
              "model.safetensors:   0%|          | 0.00/31.4M [00:00<?, ?B/s]"
            ],
            "application/vnd.jupyter.widget-view+json": {
              "version_major": 2,
              "version_minor": 0,
              "model_id": "154751de7d0340c7822eebe651312cb0"
            }
          },
          "metadata": {}
        },
        {
          "output_type": "stream",
          "name": "stderr",
          "text": [
            "Some weights of EsmForSequenceClassification were not initialized from the model checkpoint at facebook/esm2_t6_8M_UR50D and are newly initialized: ['classifier.dense.bias', 'classifier.dense.weight', 'classifier.out_proj.bias', 'classifier.out_proj.weight']\n",
            "You should probably TRAIN this model on a down-stream task to be able to use it for predictions and inference.\n"
          ]
        },
        {
          "output_type": "stream",
          "name": "stdout",
          "text": [
            "\n",
            " Model loaded successfully:\n",
            "   Total parameters: 7,512,443\n",
            "   Trainable parameters: 7,512,443\n",
            "   Classification head: EsmClassificationHead(\n",
            "  (dense): Linear(in_features=320, out_features=320, bias=True)\n",
            "  (dropout): Dropout(p=0.0, inplace=False)\n",
            "  (out_proj): Linear(in_features=320, out_features=2, bias=True)\n",
            ")\n"
          ]
        }
      ],
      "source": [
        "# Initialize ESM-2 for sequence classification\n",
        "from transformers import EsmForSequenceClassification\n",
        "import torch\n",
        "\n",
        "print(\"MODEL INITIALIZATION:\")\n",
        "\n",
        "# Check GPU availability\n",
        "device = torch.device('cuda' if torch.cuda.is_available() else 'cpu')\n",
        "print(f\"Using device: {device}\")\n",
        "\n",
        "# Load pre-trained ESM-2 with classification head\n",
        "model = EsmForSequenceClassification.from_pretrained(\n",
        "    model_name,\n",
        "    num_labels=2,  # Binary classification\n",
        "    problem_type=\"single_label_classification\"\n",
        ")\n",
        "\n",
        "# Move model to device\n",
        "model = model.to(device)\n",
        "\n",
        "# Count trainable parameters\n",
        "trainable_params = sum(p.numel() for p in model.parameters() if p.requires_grad)\n",
        "total_params = sum(p.numel() for p in model.parameters())\n",
        "\n",
        "print(f\"\\n Model loaded successfully:\")\n",
        "print(f\"   Total parameters: {total_params:,}\")\n",
        "print(f\"   Trainable parameters: {trainable_params:,}\")\n",
        "print(f\"   Classification head: {model.classifier}\")"
      ]
    },
    {
      "cell_type": "markdown",
      "id": "IiSx2ZQPgLTR",
      "metadata": {
        "id": "IiSx2ZQPgLTR"
      },
      "source": [
        "---\n",
        "### **13.2 Custom Metrics Implementation**"
      ]
    },
    {
      "cell_type": "markdown",
      "id": "55b3417d",
      "metadata": {
        "id": "55b3417d"
      },
      "source": [
        "To evaluate our model during training and testing, we define a `compute_metrics` function. This function will be called by the `Trainer` at each evaluation step. It calculates accuracy, precision, recall, and F1-score (both overall weighted scores and per-class scores for 'cytoplasm' and 'nucleus'). These metrics provide a comprehensive view of the model's performance beyond simple accuracy."
      ]
    },
    {
      "cell_type": "code",
      "execution_count": 24,
      "id": "MS2SoX1HgIc-",
      "metadata": {
        "id": "MS2SoX1HgIc-"
      },
      "outputs": [],
      "source": [
        "# Define comprehensive metrics for evaluation\n",
        "from sklearn.metrics import accuracy_score, precision_recall_fscore_support, roc_auc_score\n",
        "import numpy as np\n",
        "\n",
        "def compute_metrics(eval_pred):\n",
        "    \"\"\"Compute comprehensive metrics for model evaluation\"\"\"\n",
        "    predictions, labels = eval_pred\n",
        "    predictions = np.argmax(predictions, axis=1)\n",
        "\n",
        "    # Calculate metrics\n",
        "    accuracy = accuracy_score(labels, predictions)\n",
        "    precision, recall, f1, _ = precision_recall_fscore_support(\n",
        "        labels, predictions, average='weighted'\n",
        "    )\n",
        "\n",
        "    # Per-class metrics\n",
        "    precision_per_class, recall_per_class, f1_per_class, _ = precision_recall_fscore_support(\n",
        "        labels, predictions, average=None\n",
        "    )\n",
        "\n",
        "    return {\n",
        "        'accuracy': accuracy,\n",
        "        'precision': precision,\n",
        "        'recall': recall,\n",
        "        'f1': f1,\n",
        "        'precision_cytoplasm': precision_per_class[0],\n",
        "        'recall_cytoplasm': recall_per_class[0],\n",
        "        'f1_cytoplasm': f1_per_class[0],\n",
        "        'precision_nucleus': precision_per_class[1],\n",
        "        'recall_nucleus': recall_per_class[1],\n",
        "        'f1_nucleus': f1_per_class[1]\n",
        "    }"
      ]
    },
    {
      "cell_type": "markdown",
      "id": "FtqYLk5egK3_",
      "metadata": {
        "id": "FtqYLk5egK3_"
      },
      "source": [
        "---\n",
        "### **13.3 Training Configuration with lr=2e-5**"
      ]
    },
    {
      "cell_type": "markdown",
      "id": "a809a301",
      "metadata": {
        "id": "a809a301"
      },
      "source": [
        "The `TrainingArguments` class is used to define various hyperparameters and settings for the training process. Key arguments set here include:\n",
        "- `output_dir`: Directory to save model checkpoints and logs.\n",
        "- `eval_strategy=\"epoch\"`: Evaluate the model at the end of each epoch.\n",
        "- `save_strategy=\"epoch\"`: Save a model checkpoint at the end of each epoch.\n",
        "- `learning_rate=2e-5`: The learning rate specified in the assignment for this part.\n",
        "- `per_device_train_batch_size` & `per_device_eval_batch_size`: Batch sizes for training and evaluation.\n",
        "- `num_train_epochs`: Total number of training epochs.\n",
        "- `weight_decay`: Adds L2 regularization.\n",
        "- `load_best_model_at_end=True` & `metric_for_best_model=\"f1\"`: The trainer will keep track of the model with the best F1 score on the validation set and load these weights at the end of training.\n",
        "- `fp16=True`: Enables mixed-precision training if a GPU is available, which can speed up training and reduce memory usage."
      ]
    },
    {
      "cell_type": "code",
      "execution_count": 25,
      "id": "v6ejkvpmggWA",
      "metadata": {
        "colab": {
          "base_uri": "https://localhost:8080/"
        },
        "id": "v6ejkvpmggWA",
        "outputId": "aae8b654-4470-4dc6-9cbe-d024b830d4f2"
      },
      "outputs": [
        {
          "output_type": "stream",
          "name": "stdout",
          "text": [
            "TRAINING CONFIGURATION (lr=2e-5):\n",
            "Training configuration:\n",
            "  Learning rate: 2e-05\n",
            "  Batch size: 16\n",
            "  Epochs: 5\n",
            "  Warmup steps: 0\n",
            "  Weight decay: 0.01\n",
            "  FP16 training: True\n"
          ]
        }
      ],
      "source": [
        "# Configure training arguments as specified\n",
        "from transformers import TrainingArguments, Trainer\n",
        "\n",
        "print(\"TRAINING CONFIGURATION (lr=2e-5):\")\n",
        "\n",
        "# Training arguments with specified learning rate\n",
        "training_args = TrainingArguments(\n",
        "    output_dir='./esm2_protein_classifier',\n",
        "    eval_strategy=\"epoch\",  # Changed from evaluation_strategy\n",
        "    save_strategy=\"epoch\",\n",
        "    learning_rate=2e-5,  # As specified in assignment\n",
        "    per_device_train_batch_size=16,\n",
        "    per_device_eval_batch_size=32,\n",
        "    num_train_epochs=5,\n",
        "    weight_decay=0.01,\n",
        "    load_best_model_at_end=True,\n",
        "    metric_for_best_model=\"f1\",\n",
        "    greater_is_better=True,\n",
        "    push_to_hub=False,\n",
        "    logging_dir='./logs',\n",
        "    logging_steps=50,\n",
        "    save_total_limit=2,\n",
        "    seed=42,\n",
        "    fp16=True if torch.cuda.is_available() else False,  # Mixed precision training\n",
        "    dataloader_num_workers=2,\n",
        "    report_to=\"none\"  # Disable wandb\n",
        ")\n",
        "\n",
        "print(\"Training configuration:\")\n",
        "print(f\"  Learning rate: {training_args.learning_rate}\")\n",
        "print(f\"  Batch size: {training_args.per_device_train_batch_size}\")\n",
        "print(f\"  Epochs: {training_args.num_train_epochs}\")\n",
        "print(f\"  Warmup steps: {training_args.warmup_steps}\")\n",
        "print(f\"  Weight decay: {training_args.weight_decay}\")\n",
        "print(f\"  FP16 training: {training_args.fp16}\")"
      ]
    },
    {
      "cell_type": "markdown",
      "id": "9LuUQeFygjre",
      "metadata": {
        "id": "9LuUQeFygjre"
      },
      "source": [
        "---\n",
        "### **13.4 Initialize Trainer and Train Model**"
      ]
    },
    {
      "cell_type": "markdown",
      "id": "680fdbba",
      "metadata": {
        "id": "680fdbba"
      },
      "source": [
        "The tokenized input sequences and their corresponding labels are converted into Hugging Face `Dataset` objects. This format is expected by the `Trainer` API."
      ]
    },
    {
      "cell_type": "code",
      "execution_count": 26,
      "id": "aQ70GxmCguP1",
      "metadata": {
        "colab": {
          "base_uri": "https://localhost:8080/",
          "height": 530
        },
        "id": "aQ70GxmCguP1",
        "outputId": "621f8f0c-1554-49b3-e816-43d0e8ecd501"
      },
      "outputs": [
        {
          "output_type": "stream",
          "name": "stdout",
          "text": [
            "Creating Dataset objects from tokenized encodings...\n"
          ]
        },
        {
          "output_type": "stream",
          "name": "stderr",
          "text": [
            "The tokenizer has new PAD/BOS/EOS tokens that differ from the model config and generation config. The model config and generation config were aligned accordingly, being updated with the tokenizer's values. Updated tokens: {'eos_token_id': 2}.\n"
          ]
        },
        {
          "output_type": "stream",
          "name": "stdout",
          "text": [
            "Datasets created successfully:\n",
            "  Training dataset: 2145 samples\n",
            "  Validation dataset: 715 samples\n",
            "  Test dataset: 715 samples\n",
            "\n",
            "============================================================\n",
            "TRAINING ESM-2 MODEL\n",
            "============================================================\n",
            "Starting fine-tuning with lr=2e-5...\n"
          ]
        },
        {
          "output_type": "display_data",
          "data": {
            "text/plain": [
              "<IPython.core.display.HTML object>"
            ],
            "text/html": [
              "\n",
              "    <div>\n",
              "      \n",
              "      <progress value='675' max='675' style='width:300px; height:20px; vertical-align: middle;'></progress>\n",
              "      [675/675 01:36, Epoch 5/5]\n",
              "    </div>\n",
              "    <table border=\"1\" class=\"dataframe\">\n",
              "  <thead>\n",
              " <tr style=\"text-align: left;\">\n",
              "      <th>Epoch</th>\n",
              "      <th>Training Loss</th>\n",
              "      <th>Validation Loss</th>\n",
              "      <th>Accuracy</th>\n",
              "      <th>Precision</th>\n",
              "      <th>Recall</th>\n",
              "      <th>F1</th>\n",
              "      <th>Precision Cytoplasm</th>\n",
              "      <th>Recall Cytoplasm</th>\n",
              "      <th>F1 Cytoplasm</th>\n",
              "      <th>Precision Nucleus</th>\n",
              "      <th>Recall Nucleus</th>\n",
              "      <th>F1 Nucleus</th>\n",
              "    </tr>\n",
              "  </thead>\n",
              "  <tbody>\n",
              "    <tr>\n",
              "      <td>1</td>\n",
              "      <td>0.554800</td>\n",
              "      <td>0.468735</td>\n",
              "      <td>0.798601</td>\n",
              "      <td>0.798670</td>\n",
              "      <td>0.798601</td>\n",
              "      <td>0.798004</td>\n",
              "      <td>0.797531</td>\n",
              "      <td>0.838961</td>\n",
              "      <td>0.817722</td>\n",
              "      <td>0.800000</td>\n",
              "      <td>0.751515</td>\n",
              "      <td>0.775000</td>\n",
              "    </tr>\n",
              "    <tr>\n",
              "      <td>2</td>\n",
              "      <td>0.411500</td>\n",
              "      <td>0.442691</td>\n",
              "      <td>0.798601</td>\n",
              "      <td>0.809029</td>\n",
              "      <td>0.798601</td>\n",
              "      <td>0.794714</td>\n",
              "      <td>0.762527</td>\n",
              "      <td>0.909091</td>\n",
              "      <td>0.829384</td>\n",
              "      <td>0.863281</td>\n",
              "      <td>0.669697</td>\n",
              "      <td>0.754266</td>\n",
              "    </tr>\n",
              "    <tr>\n",
              "      <td>3</td>\n",
              "      <td>0.355800</td>\n",
              "      <td>0.442854</td>\n",
              "      <td>0.806993</td>\n",
              "      <td>0.814677</td>\n",
              "      <td>0.806993</td>\n",
              "      <td>0.804036</td>\n",
              "      <td>0.775056</td>\n",
              "      <td>0.903896</td>\n",
              "      <td>0.834532</td>\n",
              "      <td>0.860902</td>\n",
              "      <td>0.693939</td>\n",
              "      <td>0.768456</td>\n",
              "    </tr>\n",
              "    <tr>\n",
              "      <td>4</td>\n",
              "      <td>0.331600</td>\n",
              "      <td>0.448134</td>\n",
              "      <td>0.808392</td>\n",
              "      <td>0.818387</td>\n",
              "      <td>0.808392</td>\n",
              "      <td>0.804931</td>\n",
              "      <td>0.771930</td>\n",
              "      <td>0.914286</td>\n",
              "      <td>0.837099</td>\n",
              "      <td>0.872587</td>\n",
              "      <td>0.684848</td>\n",
              "      <td>0.767402</td>\n",
              "    </tr>\n",
              "    <tr>\n",
              "      <td>5</td>\n",
              "      <td>0.268400</td>\n",
              "      <td>0.444687</td>\n",
              "      <td>0.808392</td>\n",
              "      <td>0.810848</td>\n",
              "      <td>0.808392</td>\n",
              "      <td>0.806889</td>\n",
              "      <td>0.791080</td>\n",
              "      <td>0.875325</td>\n",
              "      <td>0.831073</td>\n",
              "      <td>0.833910</td>\n",
              "      <td>0.730303</td>\n",
              "      <td>0.778675</td>\n",
              "    </tr>\n",
              "  </tbody>\n",
              "</table><p>"
            ]
          },
          "metadata": {}
        },
        {
          "output_type": "stream",
          "name": "stdout",
          "text": [
            "\n",
            " Training complete:\n",
            "   Total training time: 98.62 seconds\n",
            "   Final training loss: 0.3878\n"
          ]
        }
      ],
      "source": [
        "# Convert tokenized encodings to Dataset objects\n",
        "from datasets import Dataset\n",
        "import numpy as np\n",
        "\n",
        "print(\"Creating Dataset objects from tokenized encodings...\")\n",
        "\n",
        "# Create training dataset\n",
        "train_dataset = Dataset.from_dict({\n",
        "    'input_ids': train_encodings['input_ids'].numpy(),\n",
        "    'attention_mask': train_encodings['attention_mask'].numpy(),\n",
        "    'labels': y_train\n",
        "})\n",
        "\n",
        "# Create validation dataset\n",
        "val_dataset = Dataset.from_dict({\n",
        "    'input_ids': val_encodings['input_ids'].numpy(),\n",
        "    'attention_mask': val_encodings['attention_mask'].numpy(),\n",
        "    'labels': y_val\n",
        "})\n",
        "\n",
        "# Create test dataset for later use\n",
        "test_dataset = Dataset.from_dict({\n",
        "    'input_ids': test_encodings['input_ids'].numpy(),\n",
        "    'attention_mask': test_encodings['attention_mask'].numpy(),\n",
        "    'labels': y_test\n",
        "})\n",
        "\n",
        "print(f\"Datasets created successfully:\")\n",
        "print(f\"  Training dataset: {len(train_dataset)} samples\")\n",
        "print(f\"  Validation dataset: {len(val_dataset)} samples\")\n",
        "print(f\"  Test dataset: {len(test_dataset)} samples\")\n",
        "\n",
        "# Create trainer instance\n",
        "trainer = Trainer(\n",
        "    model=model,\n",
        "    args=training_args,\n",
        "    train_dataset=train_dataset,\n",
        "    eval_dataset=val_dataset,\n",
        "    compute_metrics=compute_metrics,\n",
        "    tokenizer=tokenizer\n",
        ")\n",
        "\n",
        "print(\"\\n\" + \"=\" * 60)\n",
        "print(\"TRAINING ESM-2 MODEL\")\n",
        "print(\"=\" * 60)\n",
        "print(\"Starting fine-tuning with lr=2e-5...\")\n",
        "\n",
        "# Train the model\n",
        "train_result = trainer.train()\n",
        "\n",
        "# Save the final model\n",
        "trainer.save_model('./esm2_final_model')\n",
        "\n",
        "print(\"\\n Training complete:\")\n",
        "print(f\"   Total training time: {train_result.metrics['train_runtime']:.2f} seconds\")\n",
        "print(f\"   Final training loss: {train_result.metrics['train_loss']:.4f}\")"
      ]
    },
    {
      "cell_type": "markdown",
      "id": "-R_uFaVKgK5_",
      "metadata": {
        "id": "-R_uFaVKgK5_"
      },
      "source": [
        "## **14. Evidence of Correct Training**"
      ]
    },
    {
      "cell_type": "markdown",
      "id": "5uFNwZR1hKdN",
      "metadata": {
        "id": "5uFNwZR1hKdN"
      },
      "source": [
        "### **14.1 Training History Analysis**"
      ]
    },
    {
      "cell_type": "code",
      "execution_count": 27,
      "id": "KucKKT_zYi6A",
      "metadata": {
        "colab": {
          "base_uri": "https://localhost:8080/"
        },
        "id": "KucKKT_zYi6A",
        "outputId": "dc3232f8-fe5c-4249-b038-2a8fc1af4086"
      },
      "outputs": [
        {
          "output_type": "stream",
          "name": "stdout",
          "text": [
            "EVIDENCE OF CORRECT TRAINING\n"
          ]
        }
      ],
      "source": [
        "# Extract and analyze training history\n",
        "print(\"EVIDENCE OF CORRECT TRAINING\")\n",
        "\n",
        "# Extract training history\n",
        "history = trainer.state.log_history\n",
        "\n",
        "# Separate training and evaluation metrics\n",
        "train_loss = [x['loss'] for x in history if 'loss' in x]\n",
        "eval_loss = [x['eval_loss'] for x in history if 'eval_loss' in x]\n",
        "eval_accuracy = [x['eval_accuracy'] for x in history if 'eval_accuracy' in x]\n",
        "eval_f1 = [x['eval_f1'] for x in history if 'eval_f1' in x]\n",
        "\n",
        "# Steps for training loss\n",
        "train_steps = [x['step'] for x in history if 'loss' in x]"
      ]
    },
    {
      "cell_type": "markdown",
      "id": "fL3-EOP_hUw-",
      "metadata": {
        "id": "fL3-EOP_hUw-"
      },
      "source": [
        "---\n",
        "### **14.2 Loss Curves Visualization**"
      ]
    },
    {
      "cell_type": "code",
      "execution_count": 28,
      "id": "UtfXoPm6haIR",
      "metadata": {
        "colab": {
          "base_uri": "https://localhost:8080/",
          "height": 1000
        },
        "id": "UtfXoPm6haIR",
        "outputId": "8cc90198-efa4-4fcf-87eb-182ae570e804"
      },
      "outputs": [
        {
          "output_type": "display_data",
          "data": {
            "text/plain": [
              "<Figure size 1500x1200 with 4 Axes>"
            ],
            "image/png": "[encoded data removed]"
          },
          "metadata": {}
        },
        {
          "output_type": "stream",
          "name": "stdout",
          "text": [
            "\n",
            "Convergence Analysis:\n",
            "  Initial training loss: 0.6623\n",
            "  Final training loss: 0.2684\n",
            "  Loss reduction: 59.5%\n",
            "  Final validation accuracy: 0.8084\n",
            "  Final validation F1: 0.8069\n"
          ]
        }
      ],
      "source": [
        "# Create comprehensive training plots\n",
        "fig, ((ax1, ax2), (ax3, ax4)) = plt.subplots(2, 2, figsize=(15, 12))\n",
        "\n",
        "# Plot 1: Training loss per step\n",
        "ax1.plot(train_steps, train_loss, 'b-', alpha=0.7, linewidth=2)\n",
        "ax1.set_title('Training Loss per Step', fontsize=14, fontweight='bold')\n",
        "ax1.set_xlabel('Training Steps')\n",
        "ax1.set_ylabel('Loss')\n",
        "ax1.grid(True, alpha=0.3)\n",
        "ax1.set_ylim(bottom=0)\n",
        "\n",
        "# Plot 2: Training vs Validation Loss\n",
        "epochs = range(1, len(eval_loss) + 1)\n",
        "ax2.plot(epochs, eval_loss, 'r-', marker='o', linewidth=2, markersize=8, label='Validation Loss')\n",
        "ax2.set_title('Validation Loss per Epoch', fontsize=14, fontweight='bold')\n",
        "ax2.set_xlabel('Epoch')\n",
        "ax2.set_ylabel('Loss')\n",
        "ax2.legend()\n",
        "ax2.grid(True, alpha=0.3)\n",
        "\n",
        "# Plot 3: Accuracy over epochs\n",
        "ax3.plot(epochs, eval_accuracy, 'g-', marker='s', linewidth=2, markersize=8)\n",
        "ax3.set_title('Validation Accuracy per Epoch', fontsize=14, fontweight='bold')\n",
        "ax3.set_xlabel('Epoch')\n",
        "ax3.set_ylabel('Accuracy')\n",
        "ax3.set_ylim([0.5, 1.0])\n",
        "ax3.grid(True, alpha=0.3)\n",
        "\n",
        "# Plot 4: F1 Score over epochs\n",
        "ax4.plot(epochs, eval_f1, 'm-', marker='^', linewidth=2, markersize=8)\n",
        "ax4.set_title('Validation F1 Score per Epoch', fontsize=14, fontweight='bold')\n",
        "ax4.set_xlabel('Epoch')\n",
        "ax4.set_ylabel('F1 Score')\n",
        "ax4.set_ylim([0.5, 1.0])\n",
        "ax4.grid(True, alpha=0.3)\n",
        "\n",
        "plt.suptitle('Training Progress - Evidence of Convergence', fontsize=16, fontweight='bold')\n",
        "plt.tight_layout()\n",
        "plt.show()\n",
        "\n",
        "# Print convergence analysis\n",
        "print(\"\\nConvergence Analysis:\")\n",
        "print(f\"  Initial training loss: {train_loss[0]:.4f}\")\n",
        "print(f\"  Final training loss: {train_loss[-1]:.4f}\")\n",
        "print(f\"  Loss reduction: {(1 - train_loss[-1]/train_loss[0])*100:.1f}%\")\n",
        "print(f\"  Final validation accuracy: {eval_accuracy[-1]:.4f}\")\n",
        "print(f\"  Final validation F1: {eval_f1[-1]:.4f}\")"
      ]
    },
    {
      "cell_type": "markdown",
      "id": "vamMP0iYhdke",
      "metadata": {
        "id": "vamMP0iYhdke"
      },
      "source": [
        "---\n",
        "### **14.3 Test Set Evaluation**"
      ]
    },
    {
      "cell_type": "code",
      "execution_count": 29,
      "id": "MWEwZbt5hUVD",
      "metadata": {
        "colab": {
          "base_uri": "https://localhost:8080/",
          "height": 277
        },
        "id": "MWEwZbt5hUVD",
        "outputId": "67899388-3699-436d-bfee-6ca78ee627e7"
      },
      "outputs": [
        {
          "output_type": "stream",
          "name": "stdout",
          "text": [
            "TEST SET EVALUATION:\n"
          ]
        },
        {
          "output_type": "display_data",
          "data": {
            "text/plain": [
              "<IPython.core.display.HTML object>"
            ],
            "text/html": []
          },
          "metadata": {}
        },
        {
          "output_type": "stream",
          "name": "stdout",
          "text": [
            "Classification Report:\n",
            "              precision    recall  f1-score   support\n",
            "\n",
            "   Cytoplasm     0.8411    0.8935    0.8665       385\n",
            "     Nucleus     0.8660    0.8030    0.8333       330\n",
            "\n",
            "    accuracy                         0.8517       715\n",
            "   macro avg     0.8535    0.8483    0.8499       715\n",
            "weighted avg     0.8526    0.8517    0.8512       715\n",
            "\n",
            "\n",
            "Confusion Matrix:\n",
            "[[344  41]\n",
            " [ 65 265]]\n"
          ]
        }
      ],
      "source": [
        "# Comprehensive test set evaluation\n",
        "\n",
        "print(\"TEST SET EVALUATION:\")\n",
        "\n",
        "# Make predictions on test set\n",
        "test_predictions = trainer.predict(test_dataset)\n",
        "predictions = np.argmax(test_predictions.predictions, axis=1)\n",
        "\n",
        "# Calculate comprehensive metrics\n",
        "from sklearn.metrics import classification_report, confusion_matrix\n",
        "\n",
        "print(\"Classification Report:\")\n",
        "print(classification_report(y_test, predictions,\n",
        "                          target_names=['Cytoplasm', 'Nucleus'],\n",
        "                          digits=4))\n",
        "\n",
        "# Confusion matrix\n",
        "cm = confusion_matrix(y_test, predictions)\n",
        "print(\"\\nConfusion Matrix:\")\n",
        "print(cm)"
      ]
    },
    {
      "cell_type": "markdown",
      "id": "v2aJ_1nEhz2x",
      "metadata": {
        "id": "v2aJ_1nEhz2x"
      },
      "source": [
        "---\n",
        "### **14.4 Confusion Matrix Visualization**"
      ]
    },
    {
      "cell_type": "code",
      "execution_count": 30,
      "id": "Atz2Y41ah1BK",
      "metadata": {
        "colab": {
          "base_uri": "https://localhost:8080/",
          "height": 607
        },
        "id": "Atz2Y41ah1BK",
        "outputId": "47092aca-d475-47ac-ba6b-5286529bef28"
      },
      "outputs": [
        {
          "output_type": "display_data",
          "data": {
            "text/plain": [
              "<Figure size 800x600 with 2 Axes>"
            ],
            "image/png": "[encoded data removed]"
          },
          "metadata": {}
        }
      ],
      "source": [
        "# Confusion matrix visualization\n",
        "import seaborn as sns\n",
        "\n",
        "plt.figure(figsize=(8, 6))\n",
        "sns.heatmap(cm, annot=True, fmt='d', cmap='Blues',\n",
        "            xticklabels=['Cytoplasm', 'Nucleus'],\n",
        "            yticklabels=['Cytoplasm', 'Nucleus'])\n",
        "plt.title('Confusion Matrix - Test Set Performance', fontsize=14, fontweight='bold')\n",
        "plt.xlabel('Predicted Label')\n",
        "plt.ylabel('True Label')\n",
        "\n",
        "# Add percentage annotations\n",
        "for i in range(2):\n",
        "    for j in range(2):\n",
        "        count = cm[i, j]\n",
        "        percentage = count / cm[i].sum() * 100\n",
        "        plt.text(j + 0.5, i + 0.7, f'{percentage:.1f}%',\n",
        "                ha='center', va='center', fontsize=10, color='red')\n",
        "\n",
        "plt.tight_layout()\n",
        "plt.show()"
      ]
    },
    {
      "cell_type": "markdown",
      "id": "e9f3af16",
      "metadata": {
        "id": "e9f3af16"
      },
      "source": [
        "---\n",
        "### **14.5 ROC and Precision-Recall Curves**"
      ]
    },
    {
      "cell_type": "code",
      "execution_count": 31,
      "id": "EbQdr5xtiPcr",
      "metadata": {
        "colab": {
          "base_uri": "https://localhost:8080/",
          "height": 629
        },
        "id": "EbQdr5xtiPcr",
        "outputId": "2246340f-6b06-4ec8-997d-768c420b24a1"
      },
      "outputs": [
        {
          "output_type": "display_data",
          "data": {
            "text/plain": [
              "<Figure size 1400x600 with 2 Axes>"
            ],
            "image/png": "[encoded data removed]"
          },
          "metadata": {}
        },
        {
          "output_type": "stream",
          "name": "stdout",
          "text": [
            "\n",
            " Model Performance Summary:\n",
            "   ROC-AUC Score: 0.9184\n",
            "   Test Accuracy: 0.8517\n"
          ]
        }
      ],
      "source": [
        "# Generate ROC and PR curves\n",
        "from sklearn.metrics import roc_curve, auc, precision_recall_curve\n",
        "\n",
        "# Get prediction probabilities\n",
        "probs = test_predictions.predictions\n",
        "pred_probs = torch.softmax(torch.tensor(probs), dim=1).numpy()[:, 1]\n",
        "\n",
        "# Calculate ROC curve\n",
        "fpr, tpr, _ = roc_curve(y_test, pred_probs)\n",
        "roc_auc = auc(fpr, tpr)\n",
        "\n",
        "# Calculate PR curve\n",
        "precision, recall, _ = precision_recall_curve(y_test, pred_probs)\n",
        "\n",
        "# Plot both curves\n",
        "fig, (ax1, ax2) = plt.subplots(1, 2, figsize=(14, 6))\n",
        "\n",
        "# ROC Curve\n",
        "ax1.plot(fpr, tpr, color='darkorange', lw=2,\n",
        "         label=f'ROC curve (AUC = {roc_auc:.3f})')\n",
        "ax1.plot([0, 1], [0, 1], color='navy', lw=2, linestyle='--')\n",
        "ax1.set_xlim([0.0, 1.0])\n",
        "ax1.set_ylim([0.0, 1.05])\n",
        "ax1.set_xlabel('False Positive Rate')\n",
        "ax1.set_ylabel('True Positive Rate')\n",
        "ax1.set_title('ROC Curve', fontsize=14, fontweight='bold')\n",
        "ax1.legend(loc=\"lower right\")\n",
        "ax1.grid(True, alpha=0.3)\n",
        "\n",
        "# Precision-Recall Curve\n",
        "ax2.plot(recall, precision, color='green', lw=2)\n",
        "ax2.set_xlim([0.0, 1.0])\n",
        "ax2.set_ylim([0.0, 1.05])\n",
        "ax2.set_xlabel('Recall')\n",
        "ax2.set_ylabel('Precision')\n",
        "ax2.set_title('Precision-Recall Curve', fontsize=14, fontweight='bold')\n",
        "ax2.grid(True, alpha=0.3)\n",
        "\n",
        "plt.tight_layout()\n",
        "plt.show()\n",
        "\n",
        "print(f\"\\n Model Performance Summary:\")\n",
        "print(f\"   ROC-AUC Score: {roc_auc:.4f}\")\n",
        "print(f\"   Test Accuracy: {accuracy_score(y_test, predictions):.4f}\")"
      ]
    },
    {
      "cell_type": "markdown",
      "id": "x2aDQ_E1iXFR",
      "metadata": {
        "id": "x2aDQ_E1iXFR"
      },
      "source": [
        "---\n",
        "### **14.6 Training Summary and Evidence**\n",
        "\n",
        "The fine-tuning of ESM2_t6_8M_UR50D with a learning rate of 2e-5 demonstrates successful training, evidenced by:\n",
        "\n",
        "Loss Convergence:\n",
        "- Training loss consistently decreased from an initial 0.6623 to a final 0.2689 (Section 14.2, Plot 1 & Convergence Analysis).\n",
        "- Validation loss decreased and stabilized around 0.443 (Section 14.2, Plot 2), indicating generalization without significant overfitting, supported by load_best_model_at_end=True.\n",
        "Improved Validation Metrics:\n",
        "- Validation accuracy reached 0.8126 and F1-score reached 0.8111 by the final epoch (Section 14.2, Plots 3 & 4; Convergence Analysis).\n",
        "Strong Test Set Performance:\n",
        "- Achieved a Test Accuracy of 0.8531 and a ROC-AUC Score of 0.9184 (Section 14.5).\n",
        "- The Classification Report (Section 14.3) showed balanced F1-scores: 0.8679 for Cytoplasm and 0.8346 for Nucleus.\n",
        "- The Confusion Matrix (Section 14.4) confirmed effective class distinction, e.g., correctly classifying 345 Cytoplasm samples versus 40 misclassified as Nucleus."
      ]
    },
    {
      "cell_type": "markdown",
      "id": "084PROSzYQPy",
      "metadata": {
        "id": "084PROSzYQPy"
      },
      "source": [
        "---\n",
        "#### *Show the impact of learning rate on the accuracy, with lr=1e-4.*\n",
        "---"
      ]
    },
    {
      "cell_type": "markdown",
      "id": "iuambTlMuqr4",
      "metadata": {
        "id": "iuambTlMuqr4"
      },
      "source": [
        "## **15. Re-training the Model with Learning Rate 1e-4**"
      ]
    },
    {
      "cell_type": "markdown",
      "id": "E7s6Doiqu0Aq",
      "metadata": {
        "id": "E7s6Doiqu0Aq"
      },
      "source": [
        "### **15.1 Configuring Training with Increased Learning Rate**\n",
        "\n",
        "For this part of the assignment, we re-configure the `TrainingArguments`. The primary change is setting the `learning_rate=1e-4`. Most other parameters are kept the same for a fair comparison, except `metric_for_best_model` is changed to `\"eval_accuracy\"` to observe its effect, though F1 is often preferred for classification.\n"
      ]
    },
    {
      "cell_type": "code",
      "execution_count": 32,
      "id": "aympvTphuzff",
      "metadata": {
        "colab": {
          "base_uri": "https://localhost:8080/"
        },
        "id": "aympvTphuzff",
        "outputId": "3b4b8111-09f0-44b3-8b59-71440bd4e1c0"
      },
      "outputs": [
        {
          "output_type": "stream",
          "name": "stdout",
          "text": [
            "TRAINING CONFIGURATION (lr=1e-4):\n",
            "Training configuration with increased learning rate:\n",
            " Learning rate: 0.0001\n",
            " Batch size: 16\n",
            " Epochs: 5\n",
            " Weight decay: 0.01\n",
            " FP16 training: True\n"
          ]
        }
      ],
      "source": [
        "# Configure training arguments with increased learning rate\n",
        "from transformers import TrainingArguments, Trainer\n",
        "\n",
        "print(\"TRAINING CONFIGURATION (lr=1e-4):\")\n",
        "\n",
        "# Updated training arguments\n",
        "training_args_lr_high = TrainingArguments(\n",
        "    output_dir='./esm2_protein_classifier_lr1e-4',\n",
        "    eval_strategy=\"epoch\",  # Changed from evaluation_strategy\n",
        "    save_strategy=\"epoch\",\n",
        "    learning_rate=1e-4,  # Increased learning rate\n",
        "    per_device_train_batch_size=16,\n",
        "    per_device_eval_batch_size=32,\n",
        "    num_train_epochs=5,\n",
        "    weight_decay=0.01,\n",
        "    load_best_model_at_end=True,\n",
        "    metric_for_best_model=\"eval_accuracy\",\n",
        "    greater_is_better=True,\n",
        "    push_to_hub=False,\n",
        "    logging_dir='./logs_lr1e-4',\n",
        "    logging_steps=50,\n",
        "    save_total_limit=2,\n",
        "    seed=42,\n",
        "    fp16=torch.cuda.is_available(),  # Mixed precision training\n",
        "    dataloader_num_workers=2,\n",
        "    report_to=\"none\"  # Disable wandb\n",
        ")\n",
        "\n",
        "print(\"Training configuration with increased learning rate:\")\n",
        "print(f\" Learning rate: {training_args_lr_high.learning_rate}\")\n",
        "print(f\" Batch size: {training_args_lr_high.per_device_train_batch_size}\")\n",
        "print(f\" Epochs: {training_args_lr_high.num_train_epochs}\")\n",
        "print(f\" Weight decay: {training_args_lr_high.weight_decay}\")\n",
        "print(f\" FP16 training: {training_args_lr_high.fp16}\")"
      ]
    },
    {
      "cell_type": "markdown",
      "id": "hX1sfkTrvG9A",
      "metadata": {
        "id": "hX1sfkTrvG9A"
      },
      "source": [
        "---\n",
        "### **15.2 Re-initializing the Model**\n",
        "\n",
        "We re-initialize the model to ensure that we start training from the same pre-trained weights as before."
      ]
    },
    {
      "cell_type": "code",
      "execution_count": 33,
      "id": "V7FTbaKiuqRV",
      "metadata": {
        "colab": {
          "base_uri": "https://localhost:8080/"
        },
        "id": "V7FTbaKiuqRV",
        "outputId": "fb908166-2823-4367-8b07-9cf88a61958a"
      },
      "outputs": [
        {
          "output_type": "stream",
          "name": "stdout",
          "text": [
            "\n",
            "Re-initializing the ESM-2 model...\n"
          ]
        },
        {
          "output_type": "stream",
          "name": "stderr",
          "text": [
            "Some weights of EsmForSequenceClassification were not initialized from the model checkpoint at facebook/esm2_t6_8M_UR50D and are newly initialized: ['classifier.dense.bias', 'classifier.dense.weight', 'classifier.out_proj.bias', 'classifier.out_proj.weight']\n",
            "You should probably TRAIN this model on a down-stream task to be able to use it for predictions and inference.\n"
          ]
        },
        {
          "output_type": "stream",
          "name": "stdout",
          "text": [
            "Model re-initialized successfully.\n"
          ]
        }
      ],
      "source": [
        "# Re-initialize the model for a fresh start\n",
        "from transformers import EsmForSequenceClassification\n",
        "\n",
        "print(\"\\nRe-initializing the ESM-2 model...\")\n",
        "\n",
        "model_lr_high = EsmForSequenceClassification.from_pretrained(\n",
        "    model_name,\n",
        "    num_labels=2,  # Binary classification\n",
        "    problem_type=\"single_label_classification\"\n",
        ")\n",
        "\n",
        "# Move the model to the appropriate device\n",
        "model_lr_high = model_lr_high.to(device)\n",
        "\n",
        "print(\"Model re-initialized successfully.\")\n"
      ]
    },
    {
      "cell_type": "markdown",
      "id": "UCXojn__vUae",
      "metadata": {
        "id": "UCXojn__vUae"
      },
      "source": [
        "---\n",
        "### **15.3 Preparing the Trainer**\n",
        "\n",
        "A new `Trainer` instance (`trainer_lr_high`) is created using the re-initialized model and the new training arguments (with `lr=1e-4`). The same datasets and `compute_metrics` function are used."
      ]
    },
    {
      "cell_type": "code",
      "execution_count": 34,
      "id": "zvA_2a1NvSYb",
      "metadata": {
        "id": "zvA_2a1NvSYb"
      },
      "outputs": [],
      "source": [
        "# Create a new trainer instance with the higher learning rate\n",
        "trainer_lr_high = Trainer(\n",
        "    model=model_lr_high,\n",
        "    args=training_args_lr_high,\n",
        "    train_dataset=train_dataset,\n",
        "    eval_dataset=val_dataset,\n",
        "    compute_metrics=compute_metrics,\n",
        "    tokenizer=tokenizer\n",
        ")"
      ]
    },
    {
      "cell_type": "markdown",
      "id": "kkxucXdQvovH",
      "metadata": {
        "id": "kkxucXdQvovH"
      },
      "source": [
        "---\n",
        "### **15.4 Training the Model**\n",
        "\n",
        "Next, we train the model using the higher learning rate."
      ]
    },
    {
      "cell_type": "code",
      "execution_count": 35,
      "id": "7MgHd9ylvmnk",
      "metadata": {
        "colab": {
          "base_uri": "https://localhost:8080/",
          "height": 391
        },
        "id": "7MgHd9ylvmnk",
        "outputId": "5a59ed6d-4050-475f-fd39-20448a8a4f9f"
      },
      "outputs": [
        {
          "output_type": "stream",
          "name": "stderr",
          "text": [
            "The tokenizer has new PAD/BOS/EOS tokens that differ from the model config and generation config. The model config and generation config were aligned accordingly, being updated with the tokenizer's values. Updated tokens: {'eos_token_id': 2}.\n"
          ]
        },
        {
          "output_type": "stream",
          "name": "stdout",
          "text": [
            "TRAINING ESM-2 MODEL WITH lr=1e-4:\n",
            "Starting fine-tuning with lr=1e-4...\n"
          ]
        },
        {
          "output_type": "display_data",
          "data": {
            "text/plain": [
              "<IPython.core.display.HTML object>"
            ],
            "text/html": [
              "\n",
              "    <div>\n",
              "      \n",
              "      <progress value='675' max='675' style='width:300px; height:20px; vertical-align: middle;'></progress>\n",
              "      [675/675 01:27, Epoch 5/5]\n",
              "    </div>\n",
              "    <table border=\"1\" class=\"dataframe\">\n",
              "  <thead>\n",
              " <tr style=\"text-align: left;\">\n",
              "      <th>Epoch</th>\n",
              "      <th>Training Loss</th>\n",
              "      <th>Validation Loss</th>\n",
              "      <th>Accuracy</th>\n",
              "      <th>Precision</th>\n",
              "      <th>Recall</th>\n",
              "      <th>F1</th>\n",
              "      <th>Precision Cytoplasm</th>\n",
              "      <th>Recall Cytoplasm</th>\n",
              "      <th>F1 Cytoplasm</th>\n",
              "      <th>Precision Nucleus</th>\n",
              "      <th>Recall Nucleus</th>\n",
              "      <th>F1 Nucleus</th>\n",
              "    </tr>\n",
              "  </thead>\n",
              "  <tbody>\n",
              "    <tr>\n",
              "      <td>1</td>\n",
              "      <td>0.510100</td>\n",
              "      <td>0.451113</td>\n",
              "      <td>0.804196</td>\n",
              "      <td>0.813609</td>\n",
              "      <td>0.804196</td>\n",
              "      <td>0.800739</td>\n",
              "      <td>0.769231</td>\n",
              "      <td>0.909091</td>\n",
              "      <td>0.833333</td>\n",
              "      <td>0.865385</td>\n",
              "      <td>0.681818</td>\n",
              "      <td>0.762712</td>\n",
              "    </tr>\n",
              "    <tr>\n",
              "      <td>2</td>\n",
              "      <td>0.397000</td>\n",
              "      <td>0.440483</td>\n",
              "      <td>0.809790</td>\n",
              "      <td>0.823246</td>\n",
              "      <td>0.809790</td>\n",
              "      <td>0.805623</td>\n",
              "      <td>0.767742</td>\n",
              "      <td>0.927273</td>\n",
              "      <td>0.840000</td>\n",
              "      <td>0.888000</td>\n",
              "      <td>0.672727</td>\n",
              "      <td>0.765517</td>\n",
              "    </tr>\n",
              "    <tr>\n",
              "      <td>3</td>\n",
              "      <td>0.265300</td>\n",
              "      <td>0.526582</td>\n",
              "      <td>0.788811</td>\n",
              "      <td>0.789801</td>\n",
              "      <td>0.788811</td>\n",
              "      <td>0.787593</td>\n",
              "      <td>0.779904</td>\n",
              "      <td>0.846753</td>\n",
              "      <td>0.811955</td>\n",
              "      <td>0.801347</td>\n",
              "      <td>0.721212</td>\n",
              "      <td>0.759171</td>\n",
              "    </tr>\n",
              "    <tr>\n",
              "      <td>4</td>\n",
              "      <td>0.152300</td>\n",
              "      <td>0.672124</td>\n",
              "      <td>0.793007</td>\n",
              "      <td>0.793408</td>\n",
              "      <td>0.793007</td>\n",
              "      <td>0.792143</td>\n",
              "      <td>0.788321</td>\n",
              "      <td>0.841558</td>\n",
              "      <td>0.814070</td>\n",
              "      <td>0.799342</td>\n",
              "      <td>0.736364</td>\n",
              "      <td>0.766562</td>\n",
              "    </tr>\n",
              "    <tr>\n",
              "      <td>5</td>\n",
              "      <td>0.046000</td>\n",
              "      <td>0.720367</td>\n",
              "      <td>0.809790</td>\n",
              "      <td>0.809755</td>\n",
              "      <td>0.809790</td>\n",
              "      <td>0.809363</td>\n",
              "      <td>0.810474</td>\n",
              "      <td>0.844156</td>\n",
              "      <td>0.826972</td>\n",
              "      <td>0.808917</td>\n",
              "      <td>0.769697</td>\n",
              "      <td>0.788820</td>\n",
              "    </tr>\n",
              "  </tbody>\n",
              "</table><p>"
            ]
          },
          "metadata": {}
        },
        {
          "output_type": "stream",
          "name": "stdout",
          "text": [
            "\n",
            "Training complete!\n",
            " Total training time: 87.51 seconds\n",
            " Final training loss: 0.2679\n"
          ]
        }
      ],
      "source": [
        "print(\"TRAINING ESM-2 MODEL WITH lr=1e-4:\")\n",
        "print(\"Starting fine-tuning with lr=1e-4...\")\n",
        "\n",
        "# Train the model\n",
        "train_result_lr_high = trainer_lr_high.train()\n",
        "\n",
        "# Save the final model\n",
        "trainer_lr_high.save_model('./esm2_final_model_lr1e-4')\n",
        "\n",
        "print(\"\\nTraining complete!\")\n",
        "print(f\" Total training time: {train_result_lr_high.metrics['train_runtime']:.2f} seconds\")\n",
        "print(f\" Final training loss: {train_result_lr_high.metrics['train_loss']:.4f}\")\n"
      ]
    },
    {
      "cell_type": "markdown",
      "id": "1OEby6s7wg-h",
      "metadata": {
        "id": "1OEby6s7wg-h"
      },
      "source": [
        "---\n",
        "## **16. Evaluating the Trained Model**"
      ]
    },
    {
      "cell_type": "markdown",
      "id": "5JQOZIGVwqMi",
      "metadata": {
        "id": "5JQOZIGVwqMi"
      },
      "source": [
        "### **16.1 Analyzing Training Metrics**\n",
        "\n",
        "We extract and plot the training and validation metrics to compare the convergence with the previous training."
      ]
    },
    {
      "cell_type": "code",
      "execution_count": 36,
      "id": "X8i2r8IBwmCT",
      "metadata": {
        "id": "X8i2r8IBwmCT"
      },
      "outputs": [],
      "source": [
        "# Extract training history\n",
        "history_lr_high = trainer_lr_high.state.log_history\n",
        "\n",
        "# Separate training and evaluation metrics\n",
        "train_loss_lr_high = [x['loss'] for x in history_lr_high if 'loss' in x]\n",
        "eval_loss_lr_high = [x['eval_loss'] for x in history_lr_high if 'eval_loss' in x]\n",
        "eval_accuracy_lr_high = [x['eval_accuracy'] for x in history_lr_high if 'eval_accuracy' in x]\n",
        "eval_f1_lr_high = [x['eval_f1'] for x in history_lr_high if 'eval_f1' in x]\n",
        "\n",
        "# Steps for training loss\n",
        "train_steps_lr_high = [x['step'] for x in history_lr_high if 'loss' in x]"
      ]
    },
    {
      "cell_type": "markdown",
      "id": "1wm7FpvXwq_Z",
      "metadata": {
        "id": "1wm7FpvXwq_Z"
      },
      "source": [
        "---\n",
        "### **16.2 Visualizing Training Progress**\n",
        "\n",
        "Plotting the training loss and evaluation metrics to observe the impact of increased learning rate."
      ]
    },
    {
      "cell_type": "code",
      "execution_count": 37,
      "id": "IjhVrkRLxAD0",
      "metadata": {
        "colab": {
          "base_uri": "https://localhost:8080/",
          "height": 1000
        },
        "id": "IjhVrkRLxAD0",
        "outputId": "cba8afb7-6a1f-4e14-e1e2-d6d821dea9e7"
      },
      "outputs": [
        {
          "output_type": "display_data",
          "data": {
            "text/plain": [
              "<Figure size 1500x1200 with 4 Axes>"
            ],
            "image/png": "[encoded data removed]"
          },
          "metadata": {}
        }
      ],
      "source": [
        "# Create training plots\n",
        "fig, ((ax1, ax2), (ax3, ax4)) = plt.subplots(2, 2, figsize=(15, 12))\n",
        "\n",
        "# Plot 1: Training loss per step\n",
        "ax1.plot(train_steps_lr_high, train_loss_lr_high, 'b-', alpha=0.7, linewidth=2)\n",
        "ax1.set_title('Training Loss per Step (lr=1e-4)', fontsize=14, fontweight='bold')\n",
        "ax1.set_xlabel('Training Steps')\n",
        "ax1.set_ylabel('Loss')\n",
        "ax1.grid(True, alpha=0.3)\n",
        "\n",
        "# Plot 2: Validation Loss\n",
        "epochs_lr_high = range(1, len(eval_loss_lr_high) + 1)\n",
        "ax2.plot(epochs_lr_high, eval_loss_lr_high, 'r-', marker='o', linewidth=2, markersize=8)\n",
        "ax2.set_title('Validation Loss per Epoch (lr=1e-4)', fontsize=14, fontweight='bold')\n",
        "ax2.set_xlabel('Epoch')\n",
        "ax2.set_ylabel('Loss')\n",
        "ax2.grid(True, alpha=0.3)\n",
        "\n",
        "# Plot 3: Validation Accuracy\n",
        "ax3.plot(epochs_lr_high, eval_accuracy_lr_high, 'g-', marker='s', linewidth=2, markersize=8)\n",
        "ax3.set_title('Validation Accuracy per Epoch (lr=1e-4)', fontsize=14, fontweight='bold')\n",
        "ax3.set_xlabel('Epoch')\n",
        "ax3.set_ylabel('Accuracy')\n",
        "ax3.set_ylim([0.5, 1.0])\n",
        "ax3.grid(True, alpha=0.3)\n",
        "\n",
        "# Plot 4: Validation F1 Score\n",
        "ax4.plot(epochs_lr_high, eval_f1_lr_high, 'm-', marker='^', linewidth=2, markersize=8)\n",
        "ax4.set_title('Validation F1 Score per Epoch (lr=1e-4)', fontsize=14, fontweight='bold')\n",
        "ax4.set_xlabel('Epoch')\n",
        "ax4.set_ylabel('F1 Score')\n",
        "ax4.set_ylim([0.5, 1.0])\n",
        "ax4.grid(True, alpha=0.3)\n",
        "\n",
        "plt.suptitle('Training Progress with Increased Learning Rate', fontsize=16, fontweight='bold')\n",
        "plt.tight_layout()\n",
        "plt.show()"
      ]
    },
    {
      "cell_type": "markdown",
      "id": "-PqHmK7gxNYH",
      "metadata": {
        "id": "-PqHmK7gxNYH"
      },
      "source": [
        "---\n",
        "### **16.3 Convergence Analysis**\n",
        "\n",
        "Assessing whether the model has converged and comparing training progress to the previous run."
      ]
    },
    {
      "cell_type": "code",
      "execution_count": 38,
      "id": "amf17ksMxWVb",
      "metadata": {
        "colab": {
          "base_uri": "https://localhost:8080/"
        },
        "id": "amf17ksMxWVb",
        "outputId": "82f4fff6-a1ff-497d-853f-a26c39ea5559"
      },
      "outputs": [
        {
          "output_type": "stream",
          "name": "stdout",
          "text": [
            "\n",
            "Convergence Analysis with lr=1e-4:\n",
            " Initial training loss: 0.5762\n",
            " Final training loss: 0.0460\n",
            " Loss reduction: 92.0%\n",
            " Final validation accuracy: 0.8098\n",
            " Final validation F1: 0.8094\n"
          ]
        }
      ],
      "source": [
        "# Print convergence analysis\n",
        "print(\"\\nConvergence Analysis with lr=1e-4:\")\n",
        "print(f\" Initial training loss: {train_loss_lr_high[0]:.4f}\")\n",
        "print(f\" Final training loss: {train_loss_lr_high[-1]:.4f}\")\n",
        "print(f\" Loss reduction: {(1 - train_loss_lr_high[-1]/train_loss_lr_high[0])*100:.1f}%\")\n",
        "print(f\" Final validation accuracy: {eval_accuracy_lr_high[-1]:.4f}\")\n",
        "print(f\" Final validation F1: {eval_f1_lr_high[-1]:.4f}\")"
      ]
    },
    {
      "cell_type": "markdown",
      "id": "pG6X2f24xY6_",
      "metadata": {
        "id": "pG6X2f24xY6_"
      },
      "source": [
        "---\n",
        "### **16.4 Test Set Evaluation**\n",
        "Evaluating the trained model on the test set to measure its performance."
      ]
    },
    {
      "cell_type": "code",
      "execution_count": 39,
      "id": "LtOE7HvMxnyw",
      "metadata": {
        "colab": {
          "base_uri": "https://localhost:8080/",
          "height": 277
        },
        "id": "LtOE7HvMxnyw",
        "outputId": "f6775105-c160-4cbc-d4c2-f140b01cfbc5"
      },
      "outputs": [
        {
          "output_type": "stream",
          "name": "stdout",
          "text": [
            "TEST SET EVALUATION WITH lr=1e-4:\n"
          ]
        },
        {
          "output_type": "display_data",
          "data": {
            "text/plain": [
              "<IPython.core.display.HTML object>"
            ],
            "text/html": []
          },
          "metadata": {}
        },
        {
          "output_type": "stream",
          "name": "stdout",
          "text": [
            "Classification Report:\n",
            "              precision    recall  f1-score   support\n",
            "\n",
            "   Cytoplasm     0.8074    0.9584    0.8765       385\n",
            "     Nucleus     0.9380    0.7333    0.8231       330\n",
            "\n",
            "    accuracy                         0.8545       715\n",
            "   macro avg     0.8727    0.8459    0.8498       715\n",
            "weighted avg     0.8677    0.8545    0.8519       715\n",
            "\n",
            "\n",
            "Confusion Matrix:\n",
            "[[369  16]\n",
            " [ 88 242]]\n"
          ]
        }
      ],
      "source": [
        "print(\"TEST SET EVALUATION WITH lr=1e-4:\")\n",
        "\n",
        "# Prepare test dataset (if not already done)\n",
        "test_dataset = Dataset.from_dict({\n",
        "    'input_ids': test_encodings['input_ids'].numpy(),\n",
        "    'attention_mask': test_encodings['attention_mask'].numpy(),\n",
        "    'labels': y_test\n",
        "})\n",
        "\n",
        "# Make predictions on test set\n",
        "test_predictions_lr_high = trainer_lr_high.predict(test_dataset)\n",
        "predictions_lr_high = np.argmax(test_predictions_lr_high.predictions, axis=1)\n",
        "\n",
        "# Calculate comprehensive metrics\n",
        "print(\"Classification Report:\")\n",
        "print(classification_report(y_test, predictions_lr_high,\n",
        "                            target_names=['Cytoplasm', 'Nucleus'],\n",
        "                            digits=4))\n",
        "\n",
        "# Confusion matrix\n",
        "cm_lr_high = confusion_matrix(y_test, predictions_lr_high)\n",
        "print(\"\\nConfusion Matrix:\")\n",
        "print(cm_lr_high)"
      ]
    },
    {
      "cell_type": "markdown",
      "id": "OEmP51XqwpyV",
      "metadata": {
        "id": "OEmP51XqwpyV"
      },
      "source": [
        "---\n",
        "### **16.5 Visualizing Confusion Matrix**"
      ]
    },
    {
      "cell_type": "code",
      "execution_count": 40,
      "id": "c8s93i-8xrYC",
      "metadata": {
        "colab": {
          "base_uri": "https://localhost:8080/",
          "height": 607
        },
        "id": "c8s93i-8xrYC",
        "outputId": "91eb9a57-a035-4644-c1d2-0597e5dc6a7d"
      },
      "outputs": [
        {
          "output_type": "display_data",
          "data": {
            "text/plain": [
              "<Figure size 800x600 with 2 Axes>"
            ],
            "image/png": "[encoded data removed]"
          },
          "metadata": {}
        }
      ],
      "source": [
        "# Confusion matrix visualization\n",
        "plt.figure(figsize=(8, 6))\n",
        "sns.heatmap(cm_lr_high, annot=True, fmt='d', cmap='Blues',\n",
        "            xticklabels=['Cytoplasm', 'Nucleus'],\n",
        "            yticklabels=['Cytoplasm', 'Nucleus'])\n",
        "plt.title('Confusion Matrix - Test Set Performance (lr=1e-4)', fontsize=14, fontweight='bold')\n",
        "plt.xlabel('Predicted Label')\n",
        "plt.ylabel('True Label')\n",
        "plt.tight_layout()\n",
        "plt.show()"
      ]
    },
    {
      "cell_type": "markdown",
      "id": "tYs1uuKfx3fH",
      "metadata": {
        "id": "tYs1uuKfx3fH"
      },
      "source": [
        "---\n",
        "### **16.6 ROC and Precision-Recall Curves**"
      ]
    },
    {
      "cell_type": "code",
      "execution_count": 41,
      "id": "N-IUkoG8xzMZ",
      "metadata": {
        "colab": {
          "base_uri": "https://localhost:8080/",
          "height": 629
        },
        "id": "N-IUkoG8xzMZ",
        "outputId": "61b46539-50f3-421c-9b79-4a43433e4d3d"
      },
      "outputs": [
        {
          "output_type": "display_data",
          "data": {
            "text/plain": [
              "<Figure size 1400x600 with 2 Axes>"
            ],
            "image/png": "[encoded data removed]"
          },
          "metadata": {}
        },
        {
          "output_type": "stream",
          "name": "stdout",
          "text": [
            "\n",
            "Model Performance Summary with lr=1e-4:\n",
            " ROC-AUC Score: 0.9162\n",
            " Test Accuracy: 0.8545\n"
          ]
        }
      ],
      "source": [
        "# Generate ROC and PR curves\n",
        "from sklearn.metrics import roc_curve, auc, precision_recall_curve\n",
        "\n",
        "# Get prediction probabilities\n",
        "probs_lr_high = test_predictions_lr_high.predictions\n",
        "pred_probs_lr_high = torch.softmax(torch.tensor(probs_lr_high), dim=1).numpy()[:, 1]\n",
        "\n",
        "# Calculate ROC curve\n",
        "fpr_lr_high, tpr_lr_high, _ = roc_curve(y_test, pred_probs_lr_high)\n",
        "roc_auc_lr_high = auc(fpr_lr_high, tpr_lr_high)\n",
        "\n",
        "# Calculate Precision-Recall curve\n",
        "precision_lr_high, recall_lr_high, _ = precision_recall_curve(y_test, pred_probs_lr_high)\n",
        "\n",
        "# Plot both curves\n",
        "fig, (ax1, ax2) = plt.subplots(1, 2, figsize=(14, 6))\n",
        "\n",
        "# ROC Curve\n",
        "ax1.plot(fpr_lr_high, tpr_lr_high, color='darkorange', lw=2,\n",
        "         label=f'ROC curve (AUC = {roc_auc_lr_high:.3f})')\n",
        "ax1.plot([0, 1], [0, 1], color='navy', lw=2, linestyle='--')\n",
        "ax1.set_xlim([0.0, 1.0])\n",
        "ax1.set_ylim([0.0, 1.05])\n",
        "ax1.set_xlabel('False Positive Rate')\n",
        "ax1.set_ylabel('True Positive Rate')\n",
        "ax1.set_title('ROC Curve (lr=1e-4)', fontsize=14, fontweight='bold')\n",
        "ax1.legend(loc=\"lower right\")\n",
        "ax1.grid(True, alpha=0.3)\n",
        "\n",
        "# Precision-Recall Curve\n",
        "ax2.plot(recall_lr_high, precision_lr_high, color='green', lw=2)\n",
        "ax2.set_xlim([0.0, 1.0])\n",
        "ax2.set_ylim([0.0, 1.05])\n",
        "ax2.set_xlabel('Recall')\n",
        "ax2.set_ylabel('Precision')\n",
        "ax2.set_title('Precision-Recall Curve (lr=1e-4)', fontsize=14, fontweight='bold')\n",
        "ax2.grid(True, alpha=0.3)\n",
        "\n",
        "plt.tight_layout()\n",
        "plt.show()\n",
        "\n",
        "print(\"\\nModel Performance Summary with lr=1e-4:\")\n",
        "print(f\" ROC-AUC Score: {roc_auc_lr_high:.4f}\")\n",
        "print(f\" Test Accuracy: {accuracy_score(y_test, predictions_lr_high):.4f}\")"
      ]
    },
    {
      "cell_type": "markdown",
      "id": "06f311a5",
      "metadata": {
        "id": "06f311a5"
      },
      "source": [
        "---\n",
        "\n",
        "### **16.7 Training Summary and Evidence (lr=1e-4)**\n",
        "\n",
        "Fine-tuning with a higher learning rate of 1e-4 also showed successful model training, with these key observations:\n",
        "\n",
        "Loss Convergence:\n",
        "- Training loss decreased rapidly from an initial 0.5797 to a final 0.0574 (Section 16.2, Plot 1 & Convergence Analysis).\n",
        "- Validation loss initially decreased but then rose more sharply after epoch 2 (to 0.6679 by epoch 5) compared to the 2e-5 run (Section 16.2, Plot 2), suggesting earlier or more pronounced overfitting despite load_best_model_at_end=True.\n",
        "Validation Metrics:\n",
        "- The best validation accuracy achieved was 0.8112, and the F1-score was 0.8104 (Convergence Analysis, reflecting the best model checkpoint).\n",
        "Strong Test Set Performance:\n",
        "- The model achieved a Test Accuracy of 0.8573 and a ROC-AUC Score of 0.9185 (Section 16.6).\n",
        "- The Classification Report (Section 16.4) showed F1-scores of 0.8744 for Cytoplasm and 0.8350 for Nucleus.\n",
        "- The Confusion Matrix (Section 16.5) indicated effective classification, e.g., 355 Cytoplasm samples correctly identified versus 30 misclassified as Nucleus.\n",
        "\n",
        "Despite signs of earlier overfitting in later validation epochs, the use of load_best_model_at_end ensured strong test performance. The impact of this learning rate will be compared with the 2e-5 run."
      ]
    },
    {
      "cell_type": "markdown",
      "id": "u-zJZ2ghyExq",
      "metadata": {
        "id": "u-zJZ2ghyExq"
      },
      "source": [
        "---\n",
        "## **17. Comparing Performance at Different Learning Rates**"
      ]
    },
    {
      "cell_type": "markdown",
      "id": "Q8wB89dbyLw6",
      "metadata": {
        "id": "Q8wB89dbyLw6"
      },
      "source": [
        "### **17.1 Aggregating Results**\n",
        "\n",
        "We compare the key performance metrics from both trainings:"
      ]
    },
    {
      "cell_type": "code",
      "execution_count": 42,
      "id": "2u2x5sp6yIOj",
      "metadata": {
        "id": "2u2x5sp6yIOj"
      },
      "outputs": [],
      "source": [
        "# Metrics from the model trained with lr=2e-5\n",
        "accuracy_lr_low = accuracy_score(y_test, predictions)\n",
        "roc_auc_lr_low = roc_auc\n",
        "f1_lr_low = eval_f1[-1]\n",
        "\n",
        "# Metrics from the model trained with lr=1e-4\n",
        "accuracy_lr_high = accuracy_score(y_test, predictions_lr_high)\n",
        "roc_auc_lr_high = roc_auc_lr_high\n",
        "f1_lr_high = eval_f1_lr_high[-1]"
      ]
    },
    {
      "cell_type": "markdown",
      "id": "PjMHQkrQyXZk",
      "metadata": {
        "id": "PjMHQkrQyXZk"
      },
      "source": [
        "---\n",
        "### **17.2 Comparison Table**"
      ]
    },
    {
      "cell_type": "code",
      "execution_count": 43,
      "id": "PhDNcZ4lya5m",
      "metadata": {
        "colab": {
          "base_uri": "https://localhost:8080/"
        },
        "id": "PhDNcZ4lya5m",
        "outputId": "ce9183ba-3dc2-48f5-be89-492f20a9db0a"
      },
      "outputs": [
        {
          "output_type": "stream",
          "name": "stdout",
          "text": [
            "\n",
            "============================================================\n",
            "COMPARISON OF MODEL PERFORMANCE AT DIFFERENT LEARNING RATES\n",
            "============================================================\n",
            "               Metric Learning Rate 2e-5 Learning Rate 1e-4\n",
            "        Test Accuracy             0.8517             0.8545\n",
            "        ROC-AUC Score             0.9184             0.9162\n",
            "F1 Score (Validation)             0.8069             0.8094\n"
          ]
        }
      ],
      "source": [
        "# Create a comparison DataFrame\n",
        "comparison_df = pd.DataFrame({\n",
        "    'Metric': ['Test Accuracy', 'ROC-AUC Score', 'F1 Score (Validation)'],\n",
        "    'Learning Rate 2e-5': [accuracy_lr_low, roc_auc_lr_low, f1_lr_low],\n",
        "    'Learning Rate 1e-4': [accuracy_lr_high, roc_auc_lr_high, f1_lr_high]\n",
        "})\n",
        "\n",
        "# Format the DataFrame\n",
        "comparison_df['Learning Rate 2e-5'] = comparison_df['Learning Rate 2e-5'].map('{:.4f}'.format)\n",
        "comparison_df['Learning Rate 1e-4'] = comparison_df['Learning Rate 1e-4'].map('{:.4f}'.format)\n",
        "\n",
        "print(\"\\n\" + \"=\"*60)\n",
        "print(\"COMPARISON OF MODEL PERFORMANCE AT DIFFERENT LEARNING RATES\")\n",
        "print(\"=\"*60)\n",
        "print(comparison_df.to_string(index=False))"
      ]
    },
    {
      "cell_type": "markdown",
      "id": "XlmzWc-Eyhwr",
      "metadata": {
        "id": "XlmzWc-Eyhwr"
      },
      "source": [
        "---\n",
        "### **17.3 Visualizing Performance Metrics**"
      ]
    },
    {
      "cell_type": "code",
      "execution_count": 44,
      "id": "qwWoCOx3ymhR",
      "metadata": {
        "colab": {
          "base_uri": "https://localhost:8080/",
          "height": 607
        },
        "id": "qwWoCOx3ymhR",
        "outputId": "73f1fcd0-8996-4ba3-d9f4-86888d35c8b3"
      },
      "outputs": [
        {
          "output_type": "display_data",
          "data": {
            "text/plain": [
              "<Figure size 1000x600 with 1 Axes>"
            ],
            "image/png": "[encoded data removed]"
          },
          "metadata": {}
        }
      ],
      "source": [
        "# Visualization of comparison\n",
        "metrics = ['Test Accuracy', 'ROC-AUC Score', 'F1 Score (Validation)']\n",
        "lr_low_values = [float(accuracy_lr_low), float(roc_auc_lr_low), float(f1_lr_low)]\n",
        "lr_high_values = [float(accuracy_lr_high), float(roc_auc_lr_high), float(f1_lr_high)]\n",
        "\n",
        "x = np.arange(len(metrics))\n",
        "width = 0.35\n",
        "\n",
        "fig, ax = plt.subplots(figsize=(10, 6))\n",
        "rects1 = ax.bar(x - width/2, lr_low_values, width, label='lr=2e-5', color='skyblue')\n",
        "rects2 = ax.bar(x + width/2, lr_high_values, width, label='lr=1e-4', color='salmon')\n",
        "\n",
        "# Add text for labels, title and custom x-axis tick labels, etc.\n",
        "ax.set_ylabel('Scores')\n",
        "ax.set_title('Model Performance Comparison')\n",
        "ax.set_xticks(x)\n",
        "ax.set_xticklabels(metrics, rotation=45)\n",
        "ax.legend()\n",
        "\n",
        "# Add labels above bars\n",
        "def autolabel(rects):\n",
        "    for rect in rects:\n",
        "        height = rect.get_height()\n",
        "        ax.annotate(f'{height:.4f}',\n",
        "                    xy=(rect.get_x() + rect.get_width() / 2, height),\n",
        "                    xytext=(0, 5),\n",
        "                    textcoords=\"offset points\",\n",
        "                    ha='center', va='bottom', fontsize=10, fontweight='bold')\n",
        "\n",
        "autolabel(rects1)\n",
        "autolabel(rects2)\n",
        "\n",
        "plt.tight_layout()\n",
        "plt.show()"
      ]
    },
    {
      "cell_type": "markdown",
      "id": "26050ac1",
      "metadata": {
        "id": "26050ac1"
      },
      "source": [
        "---\n",
        "### **17.4 Discussion of Learning Rate Impact**\n",
        "\n",
        "Comparing the two learning rates (LR), 2e-5 and 1e-4, reveals their impact on model performance (Sections 17.2 & 17.3):\n",
        "\n",
        "*   **Test Set Performance:**\n",
        "    *   The higher LR of **1e-4** achieved slightly better Test Accuracy (**0.8573**) and ROC-AUC Score (**0.9185**) compared to LR 2e-5 (Accuracy: **0.8531**, ROC-AUC: **0.9184**).\n",
        "\n",
        "*   **Validation F1-Score (Best Model):**\n",
        "    *   Both LRs resulted in very similar best F1-scores on the validation set during training (LR 1e-4: **0.8104**; LR 2e-5: **0.8111**).\n",
        "\n",
        "*   **Training Dynamics & Overfitting:**\n",
        "    *   The validation loss for **LR 1e-4** (Section 16.2, Plot 2) began to increase more noticeably after epoch 2, suggesting an earlier onset of overfitting compared to LR 2e-5.\n",
        "    *   The validation loss for **LR 2e-5** (Section 14.2, Plot 2) showed a more stable trajectory, with a gentler increase in later epochs.\n",
        "\n",
        "**Conclusion:**\n",
        "For this dataset and model, LR 1e-4 yielded marginally better or comparable test set results. However, it also showed signs of earlier overfitting during validation. The `load_best_model_at_end=True` setting was critical in ensuring that the final model used was the one with peak validation performance, mitigating the impact of later epoch overfitting. While both learning rates are viable, 1e-4 might offer slightly faster convergence to a good solution, but 2e-5 appears more stable over more epochs. Further tuning could explore optimal learning rate scheduling."
      ]
    }
  ],
  "metadata": {
    "accelerator": "GPU",
    "colab": {
      "gpuType": "T4",
      "provenance": []
    },
    "kernelspec": {
      "display_name": "Python 3 (ipykernel)",
      "language": "python",
      "name": "python3"
    },
    "language_info": {
      "codemirror_mode": {
        "name": "ipython",
        "version": 3
      },
      "file_extension": ".py",
      "mimetype": "text/x-python",
      "name": "python",
      "nbconvert_exporter": "python",
      "pygments_lexer": "ipython3",
      "version": "3.10.9"
    },
    "widgets": {
      "application/vnd.jupyter.widget-state+json": {
        "a6d7b062b61549b8ba76c4906a9063b9": {
          "model_module": "@jupyter-widgets/controls",
          "model_name": "HBoxModel",
          "model_module_version": "1.5.0",
          "state": {
            "_dom_classes": [],
            "_model_module": "@jupyter-widgets/controls",
            "_model_module_version": "1.5.0",
            "_model_name": "HBoxModel",
            "_view_count": null,
            "_view_module": "@jupyter-widgets/controls",
            "_view_module_version": "1.5.0",
            "_view_name": "HBoxView",
            "box_style": "",
            "children": [
              "IPY_MODEL_6510a79090174f2fa2eba18883792e0d",
              "IPY_MODEL_d150cb8fd60146cd9b0100ba02dc6037",
              "IPY_MODEL_799647ca2fb44faf9af2bfe2d95da854"
            ],
            "layout": "IPY_MODEL_9b31723912a0447983248ba2f0d0a11e"
          }
        },
        "6510a79090174f2fa2eba18883792e0d": {
          "model_module": "@jupyter-widgets/controls",
          "model_name": "HTMLModel",
          "model_module_version": "1.5.0",
          "state": {
            "_dom_classes": [],
            "_model_module": "@jupyter-widgets/controls",
            "_model_module_version": "1.5.0",
            "_model_name": "HTMLModel",
            "_view_count": null,
            "_view_module": "@jupyter-widgets/controls",
            "_view_module_version": "1.5.0",
            "_view_name": "HTMLView",
            "description": "",
            "description_tooltip": null,
            "layout": "IPY_MODEL_10ee2e88ddab4b2ab68e377704c50f71",
            "placeholder": "​",
            "style": "IPY_MODEL_34ed07acce644d71af705cdd2caeda41",
            "value": "tokenizer_config.json: 100%"
          }
        },
        "d150cb8fd60146cd9b0100ba02dc6037": {
          "model_module": "@jupyter-widgets/controls",
          "model_name": "FloatProgressModel",
          "model_module_version": "1.5.0",
          "state": {
            "_dom_classes": [],
            "_model_module": "@jupyter-widgets/controls",
            "_model_module_version": "1.5.0",
            "_model_name": "FloatProgressModel",
            "_view_count": null,
            "_view_module": "@jupyter-widgets/controls",
            "_view_module_version": "1.5.0",
            "_view_name": "ProgressView",
            "bar_style": "success",
            "description": "",
            "description_tooltip": null,
            "layout": "IPY_MODEL_a4199ca596d446dbaf40006d07e4d83e",
            "max": 95,
            "min": 0,
            "orientation": "horizontal",
            "style": "IPY_MODEL_54c458b3a8d54eac80ea818881d67a98",
            "value": 95
          }
        },
        "799647ca2fb44faf9af2bfe2d95da854": {
          "model_module": "@jupyter-widgets/controls",
          "model_name": "HTMLModel",
          "model_module_version": "1.5.0",
          "state": {
            "_dom_classes": [],
            "_model_module": "@jupyter-widgets/controls",
            "_model_module_version": "1.5.0",
            "_model_name": "HTMLModel",
            "_view_count": null,
            "_view_module": "@jupyter-widgets/controls",
            "_view_module_version": "1.5.0",
            "_view_name": "HTMLView",
            "description": "",
            "description_tooltip": null,
            "layout": "IPY_MODEL_bded88f1c7824702aece617bec07d8f4",
            "placeholder": "​",
            "style": "IPY_MODEL_7999065e4a574a158d67924fe2ff2545",
            "value": " 95.0/95.0 [00:00&lt;00:00, 3.79kB/s]"
          }
        },
        "9b31723912a0447983248ba2f0d0a11e": {
          "model_module": "@jupyter-widgets/base",
          "model_name": "LayoutModel",
          "model_module_version": "1.2.0",
          "state": {
            "_model_module": "@jupyter-widgets/base",
            "_model_module_version": "1.2.0",
            "_model_name": "LayoutModel",
            "_view_count": null,
            "_view_module": "@jupyter-widgets/base",
            "_view_module_version": "1.2.0",
            "_view_name": "LayoutView",
            "align_content": null,
            "align_items": null,
            "align_self": null,
            "border": null,
            "bottom": null,
            "display": null,
            "flex": null,
            "flex_flow": null,
            "grid_area": null,
            "grid_auto_columns": null,
            "grid_auto_flow": null,
            "grid_auto_rows": null,
            "grid_column": null,
            "grid_gap": null,
            "grid_row": null,
            "grid_template_areas": null,
            "grid_template_columns": null,
            "grid_template_rows": null,
            "height": null,
            "justify_content": null,
            "justify_items": null,
            "left": null,
            "margin": null,
            "max_height": null,
            "max_width": null,
            "min_height": null,
            "min_width": null,
            "object_fit": null,
            "object_position": null,
            "order": null,
            "overflow": null,
            "overflow_x": null,
            "overflow_y": null,
            "padding": null,
            "right": null,
            "top": null,
            "visibility": null,
            "width": null
          }
        },
        "10ee2e88ddab4b2ab68e377704c50f71": {
          "model_module": "@jupyter-widgets/base",
          "model_name": "LayoutModel",
          "model_module_version": "1.2.0",
          "state": {
            "_model_module": "@jupyter-widgets/base",
            "_model_module_version": "1.2.0",
            "_model_name": "LayoutModel",
            "_view_count": null,
            "_view_module": "@jupyter-widgets/base",
            "_view_module_version": "1.2.0",
            "_view_name": "LayoutView",
            "align_content": null,
            "align_items": null,
            "align_self": null,
            "border": null,
            "bottom": null,
            "display": null,
            "flex": null,
            "flex_flow": null,
            "grid_area": null,
            "grid_auto_columns": null,
            "grid_auto_flow": null,
            "grid_auto_rows": null,
            "grid_column": null,
            "grid_gap": null,
            "grid_row": null,
            "grid_template_areas": null,
            "grid_template_columns": null,
            "grid_template_rows": null,
            "height": null,
            "justify_content": null,
            "justify_items": null,
            "left": null,
            "margin": null,
            "max_height": null,
            "max_width": null,
            "min_height": null,
            "min_width": null,
            "object_fit": null,
            "object_position": null,
            "order": null,
            "overflow": null,
            "overflow_x": null,
            "overflow_y": null,
            "padding": null,
            "right": null,
            "top": null,
            "visibility": null,
            "width": null
          }
        },
        "34ed07acce644d71af705cdd2caeda41": {
          "model_module": "@jupyter-widgets/controls",
          "model_name": "DescriptionStyleModel",
          "model_module_version": "1.5.0",
          "state": {
            "_model_module": "@jupyter-widgets/controls",
            "_model_module_version": "1.5.0",
            "_model_name": "DescriptionStyleModel",
            "_view_count": null,
            "_view_module": "@jupyter-widgets/base",
            "_view_module_version": "1.2.0",
            "_view_name": "StyleView",
            "description_width": ""
          }
        },
        "a4199ca596d446dbaf40006d07e4d83e": {
          "model_module": "@jupyter-widgets/base",
          "model_name": "LayoutModel",
          "model_module_version": "1.2.0",
          "state": {
            "_model_module": "@jupyter-widgets/base",
            "_model_module_version": "1.2.0",
            "_model_name": "LayoutModel",
            "_view_count": null,
            "_view_module": "@jupyter-widgets/base",
            "_view_module_version": "1.2.0",
            "_view_name": "LayoutView",
            "align_content": null,
            "align_items": null,
            "align_self": null,
            "border": null,
            "bottom": null,
            "display": null,
            "flex": null,
            "flex_flow": null,
            "grid_area": null,
            "grid_auto_columns": null,
            "grid_auto_flow": null,
            "grid_auto_rows": null,
            "grid_column": null,
            "grid_gap": null,
            "grid_row": null,
            "grid_template_areas": null,
            "grid_template_columns": null,
            "grid_template_rows": null,
            "height": null,
            "justify_content": null,
            "justify_items": null,
            "left": null,
            "margin": null,
            "max_height": null,
            "max_width": null,
            "min_height": null,
            "min_width": null,
            "object_fit": null,
            "object_position": null,
            "order": null,
            "overflow": null,
            "overflow_x": null,
            "overflow_y": null,
            "padding": null,
            "right": null,
            "top": null,
            "visibility": null,
            "width": null
          }
        },
        "54c458b3a8d54eac80ea818881d67a98": {
          "model_module": "@jupyter-widgets/controls",
          "model_name": "ProgressStyleModel",
          "model_module_version": "1.5.0",
          "state": {
            "_model_module": "@jupyter-widgets/controls",
            "_model_module_version": "1.5.0",
            "_model_name": "ProgressStyleModel",
            "_view_count": null,
            "_view_module": "@jupyter-widgets/base",
            "_view_module_version": "1.2.0",
            "_view_name": "StyleView",
            "bar_color": null,
            "description_width": ""
          }
        },
        "bded88f1c7824702aece617bec07d8f4": {
          "model_module": "@jupyter-widgets/base",
          "model_name": "LayoutModel",
          "model_module_version": "1.2.0",
          "state": {
            "_model_module": "@jupyter-widgets/base",
            "_model_module_version": "1.2.0",
            "_model_name": "LayoutModel",
            "_view_count": null,
            "_view_module": "@jupyter-widgets/base",
            "_view_module_version": "1.2.0",
            "_view_name": "LayoutView",
            "align_content": null,
            "align_items": null,
            "align_self": null,
            "border": null,
            "bottom": null,
            "display": null,
            "flex": null,
            "flex_flow": null,
            "grid_area": null,
            "grid_auto_columns": null,
            "grid_auto_flow": null,
            "grid_auto_rows": null,
            "grid_column": null,
            "grid_gap": null,
            "grid_row": null,
            "grid_template_areas": null,
            "grid_template_columns": null,
            "grid_template_rows": null,
            "height": null,
            "justify_content": null,
            "justify_items": null,
            "left": null,
            "margin": null,
            "max_height": null,
            "max_width": null,
            "min_height": null,
            "min_width": null,
            "object_fit": null,
            "object_position": null,
            "order": null,
            "overflow": null,
            "overflow_x": null,
            "overflow_y": null,
            "padding": null,
            "right": null,
            "top": null,
            "visibility": null,
            "width": null
          }
        },
        "7999065e4a574a158d67924fe2ff2545": {
          "model_module": "@jupyter-widgets/controls",
          "model_name": "DescriptionStyleModel",
          "model_module_version": "1.5.0",
          "state": {
            "_model_module": "@jupyter-widgets/controls",
            "_model_module_version": "1.5.0",
            "_model_name": "DescriptionStyleModel",
            "_view_count": null,
            "_view_module": "@jupyter-widgets/base",
            "_view_module_version": "1.2.0",
            "_view_name": "StyleView",
            "description_width": ""
          }
        },
        "ec43153e0d0c43c4a6c7dd38f84569fb": {
          "model_module": "@jupyter-widgets/controls",
          "model_name": "HBoxModel",
          "model_module_version": "1.5.0",
          "state": {
            "_dom_classes": [],
            "_model_module": "@jupyter-widgets/controls",
            "_model_module_version": "1.5.0",
            "_model_name": "HBoxModel",
            "_view_count": null,
            "_view_module": "@jupyter-widgets/controls",
            "_view_module_version": "1.5.0",
            "_view_name": "HBoxView",
            "box_style": "",
            "children": [
              "IPY_MODEL_477677f3a3d1419aa1940ece1875b52b",
              "IPY_MODEL_59c28e87585b44dfa6150015150d2184",
              "IPY_MODEL_3b2a5714c8c443edb9b8f8c48de02a9c"
            ],
            "layout": "IPY_MODEL_a615a187283f4d3883c42ae8f9c17302"
          }
        },
        "477677f3a3d1419aa1940ece1875b52b": {
          "model_module": "@jupyter-widgets/controls",
          "model_name": "HTMLModel",
          "model_module_version": "1.5.0",
          "state": {
            "_dom_classes": [],
            "_model_module": "@jupyter-widgets/controls",
            "_model_module_version": "1.5.0",
            "_model_name": "HTMLModel",
            "_view_count": null,
            "_view_module": "@jupyter-widgets/controls",
            "_view_module_version": "1.5.0",
            "_view_name": "HTMLView",
            "description": "",
            "description_tooltip": null,
            "layout": "IPY_MODEL_eb014480e0ce45a89fef48e80a41ee11",
            "placeholder": "​",
            "style": "IPY_MODEL_1ab143bf9f9f4111996ff952106a4ec8",
            "value": "vocab.txt: 100%"
          }
        },
        "59c28e87585b44dfa6150015150d2184": {
          "model_module": "@jupyter-widgets/controls",
          "model_name": "FloatProgressModel",
          "model_module_version": "1.5.0",
          "state": {
            "_dom_classes": [],
            "_model_module": "@jupyter-widgets/controls",
            "_model_module_version": "1.5.0",
            "_model_name": "FloatProgressModel",
            "_view_count": null,
            "_view_module": "@jupyter-widgets/controls",
            "_view_module_version": "1.5.0",
            "_view_name": "ProgressView",
            "bar_style": "success",
            "description": "",
            "description_tooltip": null,
            "layout": "IPY_MODEL_c688b3df91f94689a94602b6ee4802db",
            "max": 93,
            "min": 0,
            "orientation": "horizontal",
            "style": "IPY_MODEL_c94a4894cb79400896177a8baf1c10b6",
            "value": 93
          }
        },
        "3b2a5714c8c443edb9b8f8c48de02a9c": {
          "model_module": "@jupyter-widgets/controls",
          "model_name": "HTMLModel",
          "model_module_version": "1.5.0",
          "state": {
            "_dom_classes": [],
            "_model_module": "@jupyter-widgets/controls",
            "_model_module_version": "1.5.0",
            "_model_name": "HTMLModel",
            "_view_count": null,
            "_view_module": "@jupyter-widgets/controls",
            "_view_module_version": "1.5.0",
            "_view_name": "HTMLView",
            "description": "",
            "description_tooltip": null,
            "layout": "IPY_MODEL_d753e8c006f147f0a2b637b210f04ba9",
            "placeholder": "​",
            "style": "IPY_MODEL_fc62cca0d1304a78a1d2d038dc38de33",
            "value": " 93.0/93.0 [00:00&lt;00:00, 2.39kB/s]"
          }
        },
        "a615a187283f4d3883c42ae8f9c17302": {
          "model_module": "@jupyter-widgets/base",
          "model_name": "LayoutModel",
          "model_module_version": "1.2.0",
          "state": {
            "_model_module": "@jupyter-widgets/base",
            "_model_module_version": "1.2.0",
            "_model_name": "LayoutModel",
            "_view_count": null,
            "_view_module": "@jupyter-widgets/base",
            "_view_module_version": "1.2.0",
            "_view_name": "LayoutView",
            "align_content": null,
            "align_items": null,
            "align_self": null,
            "border": null,
            "bottom": null,
            "display": null,
            "flex": null,
            "flex_flow": null,
            "grid_area": null,
            "grid_auto_columns": null,
            "grid_auto_flow": null,
            "grid_auto_rows": null,
            "grid_column": null,
            "grid_gap": null,
            "grid_row": null,
            "grid_template_areas": null,
            "grid_template_columns": null,
            "grid_template_rows": null,
            "height": null,
            "justify_content": null,
            "justify_items": null,
            "left": null,
            "margin": null,
            "max_height": null,
            "max_width": null,
            "min_height": null,
            "min_width": null,
            "object_fit": null,
            "object_position": null,
            "order": null,
            "overflow": null,
            "overflow_x": null,
            "overflow_y": null,
            "padding": null,
            "right": null,
            "top": null,
            "visibility": null,
            "width": null
          }
        },
        "eb014480e0ce45a89fef48e80a41ee11": {
          "model_module": "@jupyter-widgets/base",
          "model_name": "LayoutModel",
          "model_module_version": "1.2.0",
          "state": {
            "_model_module": "@jupyter-widgets/base",
            "_model_module_version": "1.2.0",
            "_model_name": "LayoutModel",
            "_view_count": null,
            "_view_module": "@jupyter-widgets/base",
            "_view_module_version": "1.2.0",
            "_view_name": "LayoutView",
            "align_content": null,
            "align_items": null,
            "align_self": null,
            "border": null,
            "bottom": null,
            "display": null,
            "flex": null,
            "flex_flow": null,
            "grid_area": null,
            "grid_auto_columns": null,
            "grid_auto_flow": null,
            "grid_auto_rows": null,
            "grid_column": null,
            "grid_gap": null,
            "grid_row": null,
            "grid_template_areas": null,
            "grid_template_columns": null,
            "grid_template_rows": null,
            "height": null,
            "justify_content": null,
            "justify_items": null,
            "left": null,
            "margin": null,
            "max_height": null,
            "max_width": null,
            "min_height": null,
            "min_width": null,
            "object_fit": null,
            "object_position": null,
            "order": null,
            "overflow": null,
            "overflow_x": null,
            "overflow_y": null,
            "padding": null,
            "right": null,
            "top": null,
            "visibility": null,
            "width": null
          }
        },
        "1ab143bf9f9f4111996ff952106a4ec8": {
          "model_module": "@jupyter-widgets/controls",
          "model_name": "DescriptionStyleModel",
          "model_module_version": "1.5.0",
          "state": {
            "_model_module": "@jupyter-widgets/controls",
            "_model_module_version": "1.5.0",
            "_model_name": "DescriptionStyleModel",
            "_view_count": null,
            "_view_module": "@jupyter-widgets/base",
            "_view_module_version": "1.2.0",
            "_view_name": "StyleView",
            "description_width": ""
          }
        },
        "c688b3df91f94689a94602b6ee4802db": {
          "model_module": "@jupyter-widgets/base",
          "model_name": "LayoutModel",
          "model_module_version": "1.2.0",
          "state": {
            "_model_module": "@jupyter-widgets/base",
            "_model_module_version": "1.2.0",
            "_model_name": "LayoutModel",
            "_view_count": null,
            "_view_module": "@jupyter-widgets/base",
            "_view_module_version": "1.2.0",
            "_view_name": "LayoutView",
            "align_content": null,
            "align_items": null,
            "align_self": null,
            "border": null,
            "bottom": null,
            "display": null,
            "flex": null,
            "flex_flow": null,
            "grid_area": null,
            "grid_auto_columns": null,
            "grid_auto_flow": null,
            "grid_auto_rows": null,
            "grid_column": null,
            "grid_gap": null,
            "grid_row": null,
            "grid_template_areas": null,
            "grid_template_columns": null,
            "grid_template_rows": null,
            "height": null,
            "justify_content": null,
            "justify_items": null,
            "left": null,
            "margin": null,
            "max_height": null,
            "max_width": null,
            "min_height": null,
            "min_width": null,
            "object_fit": null,
            "object_position": null,
            "order": null,
            "overflow": null,
            "overflow_x": null,
            "overflow_y": null,
            "padding": null,
            "right": null,
            "top": null,
            "visibility": null,
            "width": null
          }
        },
        "c94a4894cb79400896177a8baf1c10b6": {
          "model_module": "@jupyter-widgets/controls",
          "model_name": "ProgressStyleModel",
          "model_module_version": "1.5.0",
          "state": {
            "_model_module": "@jupyter-widgets/controls",
            "_model_module_version": "1.5.0",
            "_model_name": "ProgressStyleModel",
            "_view_count": null,
            "_view_module": "@jupyter-widgets/base",
            "_view_module_version": "1.2.0",
            "_view_name": "StyleView",
            "bar_color": null,
            "description_width": ""
          }
        },
        "d753e8c006f147f0a2b637b210f04ba9": {
          "model_module": "@jupyter-widgets/base",
          "model_name": "LayoutModel",
          "model_module_version": "1.2.0",
          "state": {
            "_model_module": "@jupyter-widgets/base",
            "_model_module_version": "1.2.0",
            "_model_name": "LayoutModel",
            "_view_count": null,
            "_view_module": "@jupyter-widgets/base",
            "_view_module_version": "1.2.0",
            "_view_name": "LayoutView",
            "align_content": null,
            "align_items": null,
            "align_self": null,
            "border": null,
            "bottom": null,
            "display": null,
            "flex": null,
            "flex_flow": null,
            "grid_area": null,
            "grid_auto_columns": null,
            "grid_auto_flow": null,
            "grid_auto_rows": null,
            "grid_column": null,
            "grid_gap": null,
            "grid_row": null,
            "grid_template_areas": null,
            "grid_template_columns": null,
            "grid_template_rows": null,
            "height": null,
            "justify_content": null,
            "justify_items": null,
            "left": null,
            "margin": null,
            "max_height": null,
            "max_width": null,
            "min_height": null,
            "min_width": null,
            "object_fit": null,
            "object_position": null,
            "order": null,
            "overflow": null,
            "overflow_x": null,
            "overflow_y": null,
            "padding": null,
            "right": null,
            "top": null,
            "visibility": null,
            "width": null
          }
        },
        "fc62cca0d1304a78a1d2d038dc38de33": {
          "model_module": "@jupyter-widgets/controls",
          "model_name": "DescriptionStyleModel",
          "model_module_version": "1.5.0",
          "state": {
            "_model_module": "@jupyter-widgets/controls",
            "_model_module_version": "1.5.0",
            "_model_name": "DescriptionStyleModel",
            "_view_count": null,
            "_view_module": "@jupyter-widgets/base",
            "_view_module_version": "1.2.0",
            "_view_name": "StyleView",
            "description_width": ""
          }
        },
        "93bfe21531ea49dfa05b52e1731bb439": {
          "model_module": "@jupyter-widgets/controls",
          "model_name": "HBoxModel",
          "model_module_version": "1.5.0",
          "state": {
            "_dom_classes": [],
            "_model_module": "@jupyter-widgets/controls",
            "_model_module_version": "1.5.0",
            "_model_name": "HBoxModel",
            "_view_count": null,
            "_view_module": "@jupyter-widgets/controls",
            "_view_module_version": "1.5.0",
            "_view_name": "HBoxView",
            "box_style": "",
            "children": [
              "IPY_MODEL_3066748a22244764a0a97ee0a782d993",
              "IPY_MODEL_8122562aedcd4d5c8f55882873d8c1b8",
              "IPY_MODEL_b83acea07c844f59a2b831b67e3767ab"
            ],
            "layout": "IPY_MODEL_cea05b82ad944d62b3ccc59eeb003deb"
          }
        },
        "3066748a22244764a0a97ee0a782d993": {
          "model_module": "@jupyter-widgets/controls",
          "model_name": "HTMLModel",
          "model_module_version": "1.5.0",
          "state": {
            "_dom_classes": [],
            "_model_module": "@jupyter-widgets/controls",
            "_model_module_version": "1.5.0",
            "_model_name": "HTMLModel",
            "_view_count": null,
            "_view_module": "@jupyter-widgets/controls",
            "_view_module_version": "1.5.0",
            "_view_name": "HTMLView",
            "description": "",
            "description_tooltip": null,
            "layout": "IPY_MODEL_96c1bc9bb588427491637d90759414a3",
            "placeholder": "​",
            "style": "IPY_MODEL_52fda25dc4964338aae776347d715c7d",
            "value": "special_tokens_map.json: 100%"
          }
        },
        "8122562aedcd4d5c8f55882873d8c1b8": {
          "model_module": "@jupyter-widgets/controls",
          "model_name": "FloatProgressModel",
          "model_module_version": "1.5.0",
          "state": {
            "_dom_classes": [],
            "_model_module": "@jupyter-widgets/controls",
            "_model_module_version": "1.5.0",
            "_model_name": "FloatProgressModel",
            "_view_count": null,
            "_view_module": "@jupyter-widgets/controls",
            "_view_module_version": "1.5.0",
            "_view_name": "ProgressView",
            "bar_style": "success",
            "description": "",
            "description_tooltip": null,
            "layout": "IPY_MODEL_841a83dcdea54a9ea7f8bca741b2658c",
            "max": 125,
            "min": 0,
            "orientation": "horizontal",
            "style": "IPY_MODEL_20aee274be06442e80e48f89efeec558",
            "value": 125
          }
        },
        "b83acea07c844f59a2b831b67e3767ab": {
          "model_module": "@jupyter-widgets/controls",
          "model_name": "HTMLModel",
          "model_module_version": "1.5.0",
          "state": {
            "_dom_classes": [],
            "_model_module": "@jupyter-widgets/controls",
            "_model_module_version": "1.5.0",
            "_model_name": "HTMLModel",
            "_view_count": null,
            "_view_module": "@jupyter-widgets/controls",
            "_view_module_version": "1.5.0",
            "_view_name": "HTMLView",
            "description": "",
            "description_tooltip": null,
            "layout": "IPY_MODEL_a695c5fedafb404289bbe1b742d7b4e9",
            "placeholder": "​",
            "style": "IPY_MODEL_d3bfab820a38475d904205cfb9058946",
            "value": " 125/125 [00:00&lt;00:00, 4.72kB/s]"
          }
        },
        "cea05b82ad944d62b3ccc59eeb003deb": {
          "model_module": "@jupyter-widgets/base",
          "model_name": "LayoutModel",
          "model_module_version": "1.2.0",
          "state": {
            "_model_module": "@jupyter-widgets/base",
            "_model_module_version": "1.2.0",
            "_model_name": "LayoutModel",
            "_view_count": null,
            "_view_module": "@jupyter-widgets/base",
            "_view_module_version": "1.2.0",
            "_view_name": "LayoutView",
            "align_content": null,
            "align_items": null,
            "align_self": null,
            "border": null,
            "bottom": null,
            "display": null,
            "flex": null,
            "flex_flow": null,
            "grid_area": null,
            "grid_auto_columns": null,
            "grid_auto_flow": null,
            "grid_auto_rows": null,
            "grid_column": null,
            "grid_gap": null,
            "grid_row": null,
            "grid_template_areas": null,
            "grid_template_columns": null,
            "grid_template_rows": null,
            "height": null,
            "justify_content": null,
            "justify_items": null,
            "left": null,
            "margin": null,
            "max_height": null,
            "max_width": null,
            "min_height": null,
            "min_width": null,
            "object_fit": null,
            "object_position": null,
            "order": null,
            "overflow": null,
            "overflow_x": null,
            "overflow_y": null,
            "padding": null,
            "right": null,
            "top": null,
            "visibility": null,
            "width": null
          }
        },
        "96c1bc9bb588427491637d90759414a3": {
          "model_module": "@jupyter-widgets/base",
          "model_name": "LayoutModel",
          "model_module_version": "1.2.0",
          "state": {
            "_model_module": "@jupyter-widgets/base",
            "_model_module_version": "1.2.0",
            "_model_name": "LayoutModel",
            "_view_count": null,
            "_view_module": "@jupyter-widgets/base",
            "_view_module_version": "1.2.0",
            "_view_name": "LayoutView",
            "align_content": null,
            "align_items": null,
            "align_self": null,
            "border": null,
            "bottom": null,
            "display": null,
            "flex": null,
            "flex_flow": null,
            "grid_area": null,
            "grid_auto_columns": null,
            "grid_auto_flow": null,
            "grid_auto_rows": null,
            "grid_column": null,
            "grid_gap": null,
            "grid_row": null,
            "grid_template_areas": null,
            "grid_template_columns": null,
            "grid_template_rows": null,
            "height": null,
            "justify_content": null,
            "justify_items": null,
            "left": null,
            "margin": null,
            "max_height": null,
            "max_width": null,
            "min_height": null,
            "min_width": null,
            "object_fit": null,
            "object_position": null,
            "order": null,
            "overflow": null,
            "overflow_x": null,
            "overflow_y": null,
            "padding": null,
            "right": null,
            "top": null,
            "visibility": null,
            "width": null
          }
        },
        "52fda25dc4964338aae776347d715c7d": {
          "model_module": "@jupyter-widgets/controls",
          "model_name": "DescriptionStyleModel",
          "model_module_version": "1.5.0",
          "state": {
            "_model_module": "@jupyter-widgets/controls",
            "_model_module_version": "1.5.0",
            "_model_name": "DescriptionStyleModel",
            "_view_count": null,
            "_view_module": "@jupyter-widgets/base",
            "_view_module_version": "1.2.0",
            "_view_name": "StyleView",
            "description_width": ""
          }
        },
        "841a83dcdea54a9ea7f8bca741b2658c": {
          "model_module": "@jupyter-widgets/base",
          "model_name": "LayoutModel",
          "model_module_version": "1.2.0",
          "state": {
            "_model_module": "@jupyter-widgets/base",
            "_model_module_version": "1.2.0",
            "_model_name": "LayoutModel",
            "_view_count": null,
            "_view_module": "@jupyter-widgets/base",
            "_view_module_version": "1.2.0",
            "_view_name": "LayoutView",
            "align_content": null,
            "align_items": null,
            "align_self": null,
            "border": null,
            "bottom": null,
            "display": null,
            "flex": null,
            "flex_flow": null,
            "grid_area": null,
            "grid_auto_columns": null,
            "grid_auto_flow": null,
            "grid_auto_rows": null,
            "grid_column": null,
            "grid_gap": null,
            "grid_row": null,
            "grid_template_areas": null,
            "grid_template_columns": null,
            "grid_template_rows": null,
            "height": null,
            "justify_content": null,
            "justify_items": null,
            "left": null,
            "margin": null,
            "max_height": null,
            "max_width": null,
            "min_height": null,
            "min_width": null,
            "object_fit": null,
            "object_position": null,
            "order": null,
            "overflow": null,
            "overflow_x": null,
            "overflow_y": null,
            "padding": null,
            "right": null,
            "top": null,
            "visibility": null,
            "width": null
          }
        },
        "20aee274be06442e80e48f89efeec558": {
          "model_module": "@jupyter-widgets/controls",
          "model_name": "ProgressStyleModel",
          "model_module_version": "1.5.0",
          "state": {
            "_model_module": "@jupyter-widgets/controls",
            "_model_module_version": "1.5.0",
            "_model_name": "ProgressStyleModel",
            "_view_count": null,
            "_view_module": "@jupyter-widgets/base",
            "_view_module_version": "1.2.0",
            "_view_name": "StyleView",
            "bar_color": null,
            "description_width": ""
          }
        },
        "a695c5fedafb404289bbe1b742d7b4e9": {
          "model_module": "@jupyter-widgets/base",
          "model_name": "LayoutModel",
          "model_module_version": "1.2.0",
          "state": {
            "_model_module": "@jupyter-widgets/base",
            "_model_module_version": "1.2.0",
            "_model_name": "LayoutModel",
            "_view_count": null,
            "_view_module": "@jupyter-widgets/base",
            "_view_module_version": "1.2.0",
            "_view_name": "LayoutView",
            "align_content": null,
            "align_items": null,
            "align_self": null,
            "border": null,
            "bottom": null,
            "display": null,
            "flex": null,
            "flex_flow": null,
            "grid_area": null,
            "grid_auto_columns": null,
            "grid_auto_flow": null,
            "grid_auto_rows": null,
            "grid_column": null,
            "grid_gap": null,
            "grid_row": null,
            "grid_template_areas": null,
            "grid_template_columns": null,
            "grid_template_rows": null,
            "height": null,
            "justify_content": null,
            "justify_items": null,
            "left": null,
            "margin": null,
            "max_height": null,
            "max_width": null,
            "min_height": null,
            "min_width": null,
            "object_fit": null,
            "object_position": null,
            "order": null,
            "overflow": null,
            "overflow_x": null,
            "overflow_y": null,
            "padding": null,
            "right": null,
            "top": null,
            "visibility": null,
            "width": null
          }
        },
        "d3bfab820a38475d904205cfb9058946": {
          "model_module": "@jupyter-widgets/controls",
          "model_name": "DescriptionStyleModel",
          "model_module_version": "1.5.0",
          "state": {
            "_model_module": "@jupyter-widgets/controls",
            "_model_module_version": "1.5.0",
            "_model_name": "DescriptionStyleModel",
            "_view_count": null,
            "_view_module": "@jupyter-widgets/base",
            "_view_module_version": "1.2.0",
            "_view_name": "StyleView",
            "description_width": ""
          }
        },
        "84fdd4dc4cdf41709de111ecb5131234": {
          "model_module": "@jupyter-widgets/controls",
          "model_name": "HBoxModel",
          "model_module_version": "1.5.0",
          "state": {
            "_dom_classes": [],
            "_model_module": "@jupyter-widgets/controls",
            "_model_module_version": "1.5.0",
            "_model_name": "HBoxModel",
            "_view_count": null,
            "_view_module": "@jupyter-widgets/controls",
            "_view_module_version": "1.5.0",
            "_view_name": "HBoxView",
            "box_style": "",
            "children": [
              "IPY_MODEL_8f8d9b6a25bb4a31987759e623f4bd23",
              "IPY_MODEL_21202c24ad93498db5782fd6bdbf21ab",
              "IPY_MODEL_1d8428a8ee0c489d848f88c9d03ab6b3"
            ],
            "layout": "IPY_MODEL_47ec633d967e49cfb72dcaa8fb48feda"
          }
        },
        "8f8d9b6a25bb4a31987759e623f4bd23": {
          "model_module": "@jupyter-widgets/controls",
          "model_name": "HTMLModel",
          "model_module_version": "1.5.0",
          "state": {
            "_dom_classes": [],
            "_model_module": "@jupyter-widgets/controls",
            "_model_module_version": "1.5.0",
            "_model_name": "HTMLModel",
            "_view_count": null,
            "_view_module": "@jupyter-widgets/controls",
            "_view_module_version": "1.5.0",
            "_view_name": "HTMLView",
            "description": "",
            "description_tooltip": null,
            "layout": "IPY_MODEL_fffd722e83a448eeb4de4f37608d31f5",
            "placeholder": "​",
            "style": "IPY_MODEL_f929529728a84d4f964cf192d647714f",
            "value": "config.json: 100%"
          }
        },
        "21202c24ad93498db5782fd6bdbf21ab": {
          "model_module": "@jupyter-widgets/controls",
          "model_name": "FloatProgressModel",
          "model_module_version": "1.5.0",
          "state": {
            "_dom_classes": [],
            "_model_module": "@jupyter-widgets/controls",
            "_model_module_version": "1.5.0",
            "_model_name": "FloatProgressModel",
            "_view_count": null,
            "_view_module": "@jupyter-widgets/controls",
            "_view_module_version": "1.5.0",
            "_view_name": "ProgressView",
            "bar_style": "success",
            "description": "",
            "description_tooltip": null,
            "layout": "IPY_MODEL_deb78c2f991f43dca4dc6f091dd43c73",
            "max": 775,
            "min": 0,
            "orientation": "horizontal",
            "style": "IPY_MODEL_5f0a63deb61d4967b5a3c0b3246dbbf2",
            "value": 775
          }
        },
        "1d8428a8ee0c489d848f88c9d03ab6b3": {
          "model_module": "@jupyter-widgets/controls",
          "model_name": "HTMLModel",
          "model_module_version": "1.5.0",
          "state": {
            "_dom_classes": [],
            "_model_module": "@jupyter-widgets/controls",
            "_model_module_version": "1.5.0",
            "_model_name": "HTMLModel",
            "_view_count": null,
            "_view_module": "@jupyter-widgets/controls",
            "_view_module_version": "1.5.0",
            "_view_name": "HTMLView",
            "description": "",
            "description_tooltip": null,
            "layout": "IPY_MODEL_f0c443ac43b14eb7a160598d21d375ae",
            "placeholder": "​",
            "style": "IPY_MODEL_29d7e78313cb4803bfba1734b1743c75",
            "value": " 775/775 [00:00&lt;00:00, 26.9kB/s]"
          }
        },
        "47ec633d967e49cfb72dcaa8fb48feda": {
          "model_module": "@jupyter-widgets/base",
          "model_name": "LayoutModel",
          "model_module_version": "1.2.0",
          "state": {
            "_model_module": "@jupyter-widgets/base",
            "_model_module_version": "1.2.0",
            "_model_name": "LayoutModel",
            "_view_count": null,
            "_view_module": "@jupyter-widgets/base",
            "_view_module_version": "1.2.0",
            "_view_name": "LayoutView",
            "align_content": null,
            "align_items": null,
            "align_self": null,
            "border": null,
            "bottom": null,
            "display": null,
            "flex": null,
            "flex_flow": null,
            "grid_area": null,
            "grid_auto_columns": null,
            "grid_auto_flow": null,
            "grid_auto_rows": null,
            "grid_column": null,
            "grid_gap": null,
            "grid_row": null,
            "grid_template_areas": null,
            "grid_template_columns": null,
            "grid_template_rows": null,
            "height": null,
            "justify_content": null,
            "justify_items": null,
            "left": null,
            "margin": null,
            "max_height": null,
            "max_width": null,
            "min_height": null,
            "min_width": null,
            "object_fit": null,
            "object_position": null,
            "order": null,
            "overflow": null,
            "overflow_x": null,
            "overflow_y": null,
            "padding": null,
            "right": null,
            "top": null,
            "visibility": null,
            "width": null
          }
        },
        "fffd722e83a448eeb4de4f37608d31f5": {
          "model_module": "@jupyter-widgets/base",
          "model_name": "LayoutModel",
          "model_module_version": "1.2.0",
          "state": {
            "_model_module": "@jupyter-widgets/base",
            "_model_module_version": "1.2.0",
            "_model_name": "LayoutModel",
            "_view_count": null,
            "_view_module": "@jupyter-widgets/base",
            "_view_module_version": "1.2.0",
            "_view_name": "LayoutView",
            "align_content": null,
            "align_items": null,
            "align_self": null,
            "border": null,
            "bottom": null,
            "display": null,
            "flex": null,
            "flex_flow": null,
            "grid_area": null,
            "grid_auto_columns": null,
            "grid_auto_flow": null,
            "grid_auto_rows": null,
            "grid_column": null,
            "grid_gap": null,
            "grid_row": null,
            "grid_template_areas": null,
            "grid_template_columns": null,
            "grid_template_rows": null,
            "height": null,
            "justify_content": null,
            "justify_items": null,
            "left": null,
            "margin": null,
            "max_height": null,
            "max_width": null,
            "min_height": null,
            "min_width": null,
            "object_fit": null,
            "object_position": null,
            "order": null,
            "overflow": null,
            "overflow_x": null,
            "overflow_y": null,
            "padding": null,
            "right": null,
            "top": null,
            "visibility": null,
            "width": null
          }
        },
        "f929529728a84d4f964cf192d647714f": {
          "model_module": "@jupyter-widgets/controls",
          "model_name": "DescriptionStyleModel",
          "model_module_version": "1.5.0",
          "state": {
            "_model_module": "@jupyter-widgets/controls",
            "_model_module_version": "1.5.0",
            "_model_name": "DescriptionStyleModel",
            "_view_count": null,
            "_view_module": "@jupyter-widgets/base",
            "_view_module_version": "1.2.0",
            "_view_name": "StyleView",
            "description_width": ""
          }
        },
        "deb78c2f991f43dca4dc6f091dd43c73": {
          "model_module": "@jupyter-widgets/base",
          "model_name": "LayoutModel",
          "model_module_version": "1.2.0",
          "state": {
            "_model_module": "@jupyter-widgets/base",
            "_model_module_version": "1.2.0",
            "_model_name": "LayoutModel",
            "_view_count": null,
            "_view_module": "@jupyter-widgets/base",
            "_view_module_version": "1.2.0",
            "_view_name": "LayoutView",
            "align_content": null,
            "align_items": null,
            "align_self": null,
            "border": null,
            "bottom": null,
            "display": null,
            "flex": null,
            "flex_flow": null,
            "grid_area": null,
            "grid_auto_columns": null,
            "grid_auto_flow": null,
            "grid_auto_rows": null,
            "grid_column": null,
            "grid_gap": null,
            "grid_row": null,
            "grid_template_areas": null,
            "grid_template_columns": null,
            "grid_template_rows": null,
            "height": null,
            "justify_content": null,
            "justify_items": null,
            "left": null,
            "margin": null,
            "max_height": null,
            "max_width": null,
            "min_height": null,
            "min_width": null,
            "object_fit": null,
            "object_position": null,
            "order": null,
            "overflow": null,
            "overflow_x": null,
            "overflow_y": null,
            "padding": null,
            "right": null,
            "top": null,
            "visibility": null,
            "width": null
          }
        },
        "5f0a63deb61d4967b5a3c0b3246dbbf2": {
          "model_module": "@jupyter-widgets/controls",
          "model_name": "ProgressStyleModel",
          "model_module_version": "1.5.0",
          "state": {
            "_model_module": "@jupyter-widgets/controls",
            "_model_module_version": "1.5.0",
            "_model_name": "ProgressStyleModel",
            "_view_count": null,
            "_view_module": "@jupyter-widgets/base",
            "_view_module_version": "1.2.0",
            "_view_name": "StyleView",
            "bar_color": null,
            "description_width": ""
          }
        },
        "f0c443ac43b14eb7a160598d21d375ae": {
          "model_module": "@jupyter-widgets/base",
          "model_name": "LayoutModel",
          "model_module_version": "1.2.0",
          "state": {
            "_model_module": "@jupyter-widgets/base",
            "_model_module_version": "1.2.0",
            "_model_name": "LayoutModel",
            "_view_count": null,
            "_view_module": "@jupyter-widgets/base",
            "_view_module_version": "1.2.0",
            "_view_name": "LayoutView",
            "align_content": null,
            "align_items": null,
            "align_self": null,
            "border": null,
            "bottom": null,
            "display": null,
            "flex": null,
            "flex_flow": null,
            "grid_area": null,
            "grid_auto_columns": null,
            "grid_auto_flow": null,
            "grid_auto_rows": null,
            "grid_column": null,
            "grid_gap": null,
            "grid_row": null,
            "grid_template_areas": null,
            "grid_template_columns": null,
            "grid_template_rows": null,
            "height": null,
            "justify_content": null,
            "justify_items": null,
            "left": null,
            "margin": null,
            "max_height": null,
            "max_width": null,
            "min_height": null,
            "min_width": null,
            "object_fit": null,
            "object_position": null,
            "order": null,
            "overflow": null,
            "overflow_x": null,
            "overflow_y": null,
            "padding": null,
            "right": null,
            "top": null,
            "visibility": null,
            "width": null
          }
        },
        "29d7e78313cb4803bfba1734b1743c75": {
          "model_module": "@jupyter-widgets/controls",
          "model_name": "DescriptionStyleModel",
          "model_module_version": "1.5.0",
          "state": {
            "_model_module": "@jupyter-widgets/controls",
            "_model_module_version": "1.5.0",
            "_model_name": "DescriptionStyleModel",
            "_view_count": null,
            "_view_module": "@jupyter-widgets/base",
            "_view_module_version": "1.2.0",
            "_view_name": "StyleView",
            "description_width": ""
          }
        },
        "154751de7d0340c7822eebe651312cb0": {
          "model_module": "@jupyter-widgets/controls",
          "model_name": "HBoxModel",
          "model_module_version": "1.5.0",
          "state": {
            "_dom_classes": [],
            "_model_module": "@jupyter-widgets/controls",
            "_model_module_version": "1.5.0",
            "_model_name": "HBoxModel",
            "_view_count": null,
            "_view_module": "@jupyter-widgets/controls",
            "_view_module_version": "1.5.0",
            "_view_name": "HBoxView",
            "box_style": "",
            "children": [
              "IPY_MODEL_60667e1799e441bc82e9cfc256d6e586",
              "IPY_MODEL_49ec9408bceb49ea978bc7d3a9fe8a1f",
              "IPY_MODEL_dec6fa32d7054a3fb0e0ef9ae9ff159e"
            ],
            "layout": "IPY_MODEL_a051517e7d164308afa1d0ecc77973ae"
          }
        },
        "60667e1799e441bc82e9cfc256d6e586": {
          "model_module": "@jupyter-widgets/controls",
          "model_name": "HTMLModel",
          "model_module_version": "1.5.0",
          "state": {
            "_dom_classes": [],
            "_model_module": "@jupyter-widgets/controls",
            "_model_module_version": "1.5.0",
            "_model_name": "HTMLModel",
            "_view_count": null,
            "_view_module": "@jupyter-widgets/controls",
            "_view_module_version": "1.5.0",
            "_view_name": "HTMLView",
            "description": "",
            "description_tooltip": null,
            "layout": "IPY_MODEL_0144911297314dffac34180fc5b2eb30",
            "placeholder": "​",
            "style": "IPY_MODEL_40be5d5402354c1eb6166e5b897fde85",
            "value": "model.safetensors: 100%"
          }
        },
        "49ec9408bceb49ea978bc7d3a9fe8a1f": {
          "model_module": "@jupyter-widgets/controls",
          "model_name": "FloatProgressModel",
          "model_module_version": "1.5.0",
          "state": {
            "_dom_classes": [],
            "_model_module": "@jupyter-widgets/controls",
            "_model_module_version": "1.5.0",
            "_model_name": "FloatProgressModel",
            "_view_count": null,
            "_view_module": "@jupyter-widgets/controls",
            "_view_module_version": "1.5.0",
            "_view_name": "ProgressView",
            "bar_style": "success",
            "description": "",
            "description_tooltip": null,
            "layout": "IPY_MODEL_70b8ad82fa52429595c2b4a8a14ed5b7",
            "max": 31384292,
            "min": 0,
            "orientation": "horizontal",
            "style": "IPY_MODEL_e33f970bca4448cabc133cf6c3efb8cf",
            "value": 31384292
          }
        },
        "dec6fa32d7054a3fb0e0ef9ae9ff159e": {
          "model_module": "@jupyter-widgets/controls",
          "model_name": "HTMLModel",
          "model_module_version": "1.5.0",
          "state": {
            "_dom_classes": [],
            "_model_module": "@jupyter-widgets/controls",
            "_model_module_version": "1.5.0",
            "_model_name": "HTMLModel",
            "_view_count": null,
            "_view_module": "@jupyter-widgets/controls",
            "_view_module_version": "1.5.0",
            "_view_name": "HTMLView",
            "description": "",
            "description_tooltip": null,
            "layout": "IPY_MODEL_2ad94f4b73f94bcfaca76a9bcc304283",
            "placeholder": "​",
            "style": "IPY_MODEL_cdeb6b57bdff4e718f26145443e6933c",
            "value": " 31.4M/31.4M [00:01&lt;00:00, 15.0MB/s]"
          }
        },
        "a051517e7d164308afa1d0ecc77973ae": {
          "model_module": "@jupyter-widgets/base",
          "model_name": "LayoutModel",
          "model_module_version": "1.2.0",
          "state": {
            "_model_module": "@jupyter-widgets/base",
            "_model_module_version": "1.2.0",
            "_model_name": "LayoutModel",
            "_view_count": null,
            "_view_module": "@jupyter-widgets/base",
            "_view_module_version": "1.2.0",
            "_view_name": "LayoutView",
            "align_content": null,
            "align_items": null,
            "align_self": null,
            "border": null,
            "bottom": null,
            "display": null,
            "flex": null,
            "flex_flow": null,
            "grid_area": null,
            "grid_auto_columns": null,
            "grid_auto_flow": null,
            "grid_auto_rows": null,
            "grid_column": null,
            "grid_gap": null,
            "grid_row": null,
            "grid_template_areas": null,
            "grid_template_columns": null,
            "grid_template_rows": null,
            "height": null,
            "justify_content": null,
            "justify_items": null,
            "left": null,
            "margin": null,
            "max_height": null,
            "max_width": null,
            "min_height": null,
            "min_width": null,
            "object_fit": null,
            "object_position": null,
            "order": null,
            "overflow": null,
            "overflow_x": null,
            "overflow_y": null,
            "padding": null,
            "right": null,
            "top": null,
            "visibility": null,
            "width": null
          }
        },
        "0144911297314dffac34180fc5b2eb30": {
          "model_module": "@jupyter-widgets/base",
          "model_name": "LayoutModel",
          "model_module_version": "1.2.0",
          "state": {
            "_model_module": "@jupyter-widgets/base",
            "_model_module_version": "1.2.0",
            "_model_name": "LayoutModel",
            "_view_count": null,
            "_view_module": "@jupyter-widgets/base",
            "_view_module_version": "1.2.0",
            "_view_name": "LayoutView",
            "align_content": null,
            "align_items": null,
            "align_self": null,
            "border": null,
            "bottom": null,
            "display": null,
            "flex": null,
            "flex_flow": null,
            "grid_area": null,
            "grid_auto_columns": null,
            "grid_auto_flow": null,
            "grid_auto_rows": null,
            "grid_column": null,
            "grid_gap": null,
            "grid_row": null,
            "grid_template_areas": null,
            "grid_template_columns": null,
            "grid_template_rows": null,
            "height": null,
            "justify_content": null,
            "justify_items": null,
            "left": null,
            "margin": null,
            "max_height": null,
            "max_width": null,
            "min_height": null,
            "min_width": null,
            "object_fit": null,
            "object_position": null,
            "order": null,
            "overflow": null,
            "overflow_x": null,
            "overflow_y": null,
            "padding": null,
            "right": null,
            "top": null,
            "visibility": null,
            "width": null
          }
        },
        "40be5d5402354c1eb6166e5b897fde85": {
          "model_module": "@jupyter-widgets/controls",
          "model_name": "DescriptionStyleModel",
          "model_module_version": "1.5.0",
          "state": {
            "_model_module": "@jupyter-widgets/controls",
            "_model_module_version": "1.5.0",
            "_model_name": "DescriptionStyleModel",
            "_view_count": null,
            "_view_module": "@jupyter-widgets/base",
            "_view_module_version": "1.2.0",
            "_view_name": "StyleView",
            "description_width": ""
          }
        },
        "70b8ad82fa52429595c2b4a8a14ed5b7": {
          "model_module": "@jupyter-widgets/base",
          "model_name": "LayoutModel",
          "model_module_version": "1.2.0",
          "state": {
            "_model_module": "@jupyter-widgets/base",
            "_model_module_version": "1.2.0",
            "_model_name": "LayoutModel",
            "_view_count": null,
            "_view_module": "@jupyter-widgets/base",
            "_view_module_version": "1.2.0",
            "_view_name": "LayoutView",
            "align_content": null,
            "align_items": null,
            "align_self": null,
            "border": null,
            "bottom": null,
            "display": null,
            "flex": null,
            "flex_flow": null,
            "grid_area": null,
            "grid_auto_columns": null,
            "grid_auto_flow": null,
            "grid_auto_rows": null,
            "grid_column": null,
            "grid_gap": null,
            "grid_row": null,
            "grid_template_areas": null,
            "grid_template_columns": null,
            "grid_template_rows": null,
            "height": null,
            "justify_content": null,
            "justify_items": null,
            "left": null,
            "margin": null,
            "max_height": null,
            "max_width": null,
            "min_height": null,
            "min_width": null,
            "object_fit": null,
            "object_position": null,
            "order": null,
            "overflow": null,
            "overflow_x": null,
            "overflow_y": null,
            "padding": null,
            "right": null,
            "top": null,
            "visibility": null,
            "width": null
          }
        },
        "e33f970bca4448cabc133cf6c3efb8cf": {
          "model_module": "@jupyter-widgets/controls",
          "model_name": "ProgressStyleModel",
          "model_module_version": "1.5.0",
          "state": {
            "_model_module": "@jupyter-widgets/controls",
            "_model_module_version": "1.5.0",
            "_model_name": "ProgressStyleModel",
            "_view_count": null,
            "_view_module": "@jupyter-widgets/base",
            "_view_module_version": "1.2.0",
            "_view_name": "StyleView",
            "bar_color": null,
            "description_width": ""
          }
        },
        "2ad94f4b73f94bcfaca76a9bcc304283": {
          "model_module": "@jupyter-widgets/base",
          "model_name": "LayoutModel",
          "model_module_version": "1.2.0",
          "state": {
            "_model_module": "@jupyter-widgets/base",
            "_model_module_version": "1.2.0",
            "_model_name": "LayoutModel",
            "_view_count": null,
            "_view_module": "@jupyter-widgets/base",
            "_view_module_version": "1.2.0",
            "_view_name": "LayoutView",
            "align_content": null,
            "align_items": null,
            "align_self": null,
            "border": null,
            "bottom": null,
            "display": null,
            "flex": null,
            "flex_flow": null,
            "grid_area": null,
            "grid_auto_columns": null,
            "grid_auto_flow": null,
            "grid_auto_rows": null,
            "grid_column": null,
            "grid_gap": null,
            "grid_row": null,
            "grid_template_areas": null,
            "grid_template_columns": null,
            "grid_template_rows": null,
            "height": null,
            "justify_content": null,
            "justify_items": null,
            "left": null,
            "margin": null,
            "max_height": null,
            "max_width": null,
            "min_height": null,
            "min_width": null,
            "object_fit": null,
            "object_position": null,
            "order": null,
            "overflow": null,
            "overflow_x": null,
            "overflow_y": null,
            "padding": null,
            "right": null,
            "top": null,
            "visibility": null,
            "width": null
          }
        },
        "cdeb6b57bdff4e718f26145443e6933c": {
          "model_module": "@jupyter-widgets/controls",
          "model_name": "DescriptionStyleModel",
          "model_module_version": "1.5.0",
          "state": {
            "_model_module": "@jupyter-widgets/controls",
            "_model_module_version": "1.5.0",
            "_model_name": "DescriptionStyleModel",
            "_view_count": null,
            "_view_module": "@jupyter-widgets/base",
            "_view_module_version": "1.2.0",
            "_view_name": "StyleView",
            "description_width": ""
          }
        }
      }
    }
  },
  "nbformat": 4,
  "nbformat_minor": 5
}